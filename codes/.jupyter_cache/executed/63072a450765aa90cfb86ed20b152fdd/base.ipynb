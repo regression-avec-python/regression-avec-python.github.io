{
 "cells": [
  {
   "cell_type": "code",
   "execution_count": 1,
   "id": "868b32b1",
   "metadata": {},
   "outputs": [
    {
     "name": "stderr",
     "output_type": "stream",
     "text": [
      "/var/folders/rw/lcb4hvdj44z2zh_2scz_3xgh0000gq/T/ipykernel_14103/1555994662.py:25: DeprecationWarning: `set_matplotlib_formats` is deprecated since IPython 7.23, directly use `matplotlib_inline.backend_inline.set_matplotlib_formats()`\n",
      "  set_matplotlib_formats(fig_format)\n"
     ]
    },
    {
     "name": "stdout",
     "output_type": "stream",
     "text": [
      "{\"/opt/miniconda3/lib/python3.12/importlib/_bootstrap.py\": 1728049825.3314297, \"/opt/miniconda3/lib/python3.12/importlib/_bootstrap_external.py\": 1728049825.3348482, \"/opt/miniconda3/lib/python3.12/zipimport.py\": 1728049824.153947, \"/opt/miniconda3/lib/python3.12/codecs.py\": 1728049823.7001593, \"/opt/miniconda3/lib/python3.12/encodings/aliases.py\": 1728049824.5312598, \"/opt/miniconda3/lib/python3.12/encodings/__init__.py\": 1728049824.5277886, \"/opt/miniconda3/lib/python3.12/encodings/utf_8.py\": 1728049824.9295616, \"/opt/miniconda3/lib/python3.12/abc.py\": 1728049823.647853, \"/opt/miniconda3/lib/python3.12/io.py\": 1728049823.8195863, \"/opt/miniconda3/lib/python3.12/stat.py\": 1728049824.0119774, \"/opt/miniconda3/lib/python3.12/_collections_abc.py\": 1728049823.6009316, \"/opt/miniconda3/lib/python3.12/genericpath.py\": 1728049823.7784452, \"/opt/miniconda3/lib/python3.12/posixpath.py\": 1728049823.912881, \"/opt/miniconda3/lib/python3.12/os.py\": 1728049823.8794641, \"/opt/miniconda3/lib/python3.12/_sitebuiltins.py\": 1728049823.6348433, \"/opt/miniconda3/lib/python3.12/encodings/utf_8_sig.py\": 1728049824.9330137, \"/opt/miniconda3/lib/python3.12/site-packages/_distutils_hack/__init__.py\": 1726491207.0, \"/opt/miniconda3/lib/python3.12/site.py\": 1728049823.9821796, \"/opt/miniconda3/lib/python3.12/warnings.py\": 1728049824.1346362, \"/opt/miniconda3/lib/python3.12/importlib/__init__.py\": 1728049825.3245916, \"/opt/miniconda3/lib/python3.12/importlib/machinery.py\": 1728049825.341593, \"/opt/miniconda3/lib/python3.12/importlib/_abc.py\": 1728049825.328024, \"/opt/miniconda3/lib/python3.12/types.py\": 1728049824.1213596, \"/opt/miniconda3/lib/python3.12/importlib/util.py\": 1728049825.3519819, \"/opt/miniconda3/lib/python3.12/runpy.py\": 1728049823.9553742, \"/opt/miniconda3/lib/python3.12/operator.py\": 1728049823.8724616, \"/opt/miniconda3/lib/python3.12/keyword.py\": 1728049823.825913, \"/opt/miniconda3/lib/python3.12/reprlib.py\": 1728049823.9488618, \"/opt/miniconda3/lib/python3.12/collections/__init__.py\": 1728049824.290261, \"/opt/miniconda3/lib/python3.12/functools.py\": 1728049823.7753282, \"/opt/miniconda3/lib/python3.12/enum.py\": 1728049823.755682, \"/opt/miniconda3/lib/python3.12/re/_constants.py\": 1728049825.8343856, \"/opt/miniconda3/lib/python3.12/re/_parser.py\": 1728049825.8376226, \"/opt/miniconda3/lib/python3.12/re/_casefix.py\": 1728049825.827628, \"/opt/miniconda3/lib/python3.12/re/_compiler.py\": 1728049825.831082, \"/opt/miniconda3/lib/python3.12/copyreg.py\": 1728049823.726319, \"/opt/miniconda3/lib/python3.12/re/__init__.py\": 1728049825.8244298, \"/opt/miniconda3/lib/python3.12/fnmatch.py\": 1728049823.7657473, \"/opt/miniconda3/lib/python3.12/ntpath.py\": 1728049823.858926, \"/opt/miniconda3/lib/python3.12/urllib/__init__.py\": 1728049826.0643084, \"/opt/miniconda3/lib/python3.12/lib-dynload/math.cpython-312-darwin.so\": 1728049865.0162566, \"/opt/miniconda3/lib/python3.12/ipaddress.py\": 1728049823.822782, \"/opt/miniconda3/lib/python3.12/urllib/parse.py\": 1728049826.0710783, \"/opt/miniconda3/lib/python3.12/pathlib.py\": 1728049823.882817, \"/opt/miniconda3/lib/python3.12/collections/abc.py\": 1728049824.2938535, \"/opt/miniconda3/lib/python3.12/contextlib.py\": 1728049823.7166035, \"/opt/miniconda3/lib/python3.12/typing.py\": 1728049824.1248, \"/opt/miniconda3/lib/python3.12/site-packages/ipykernel/_version.py\": 1728666217.44798, \"/opt/miniconda3/lib/python3.12/__future__.py\": 1728049823.5910392, \"/opt/miniconda3/lib/python3.12/lib-dynload/_json.cpython-312-darwin.so\": 1728049867.87488, \"/opt/miniconda3/lib/python3.12/json/scanner.py\": 1728049825.4297044, \"/opt/miniconda3/lib/python3.12/json/decoder.py\": 1728049825.4230392, \"/opt/miniconda3/lib/python3.12/json/encoder.py\": 1728049825.426354, \"/opt/miniconda3/lib/python3.12/json/__init__.py\": 1728049825.4196079, \"/opt/miniconda3/lib/python3.12/locale.py\": 1728049823.83259, \"/opt/miniconda3/lib/python3.12/signal.py\": 1728049823.9788961, \"/opt/miniconda3/lib/python3.12/_weakrefset.py\": 1728049823.6447072, \"/opt/miniconda3/lib/python3.12/threading.py\": 1728049824.062895, \"/opt/miniconda3/lib/python3.12/lib-dynload/fcntl.cpython-312-darwin.so\": 1728049876.857487, \"/opt/miniconda3/lib/python3.12/lib-dynload/_posixsubprocess.cpython-312-darwin.so\": 1728049868.2319772, \"/opt/miniconda3/lib/python3.12/lib-dynload/select.cpython-312-darwin.so\": 1728049861.8911345, \"/opt/miniconda3/lib/python3.12/selectors.py\": 1728049823.965193, \"/opt/miniconda3/lib/python3.12/subprocess.py\": 1728049824.0292952, \"/opt/miniconda3/lib/python3.12/site-packages/jupyter_client/_version.py\": 1701805456.1320448, \"/opt/miniconda3/lib/python3.12/platform.py\": 1728049823.9026022, \"/opt/miniconda3/lib/python3.12/lib-dynload/_ctypes.cpython-312-darwin.so\": 1728049868.7576435, \"/opt/miniconda3/lib/python3.12/lib-dynload/_struct.cpython-312-darwin.so\": 1728049873.5499432, \"/opt/miniconda3/lib/python3.12/struct.py\": 1728049824.0258853, \"/opt/miniconda3/lib/python3.12/ctypes/_endian.py\": 1728049824.3354943, \"/opt/miniconda3/lib/python3.12/ctypes/__init__.py\": 1728049824.328788, \"/opt/miniconda3/lib/python3.12/site-packages/zmq/backend/select.py\": 1705605309.293443, \"/opt/miniconda3/lib/python3.12/site-packages/zmq/error.py\": 1705605309.290231, \"/opt/miniconda3/lib/python3.12/site-packages/zmq/backend/cython/context.cpython-312-darwin.so\": 1705605314.4039764, \"/opt/miniconda3/lib/python3.12/weakref.py\": 1728049824.141177, \"/opt/miniconda3/lib/python3.12/site-packages/zmq/backend/cython/message.cpython-312-darwin.so\": 1705605315.5889342, \"/opt/miniconda3/lib/python3.12/copy.py\": 1728049823.7231503, \"/opt/miniconda3/lib/python3.12/lib-dynload/_bisect.cpython-312-darwin.so\": 1728049864.4710927, \"/opt/miniconda3/lib/python3.12/bisect.py\": 1728049823.671365, \"/opt/miniconda3/lib/python3.12/lib-dynload/_random.cpython-312-darwin.so\": 1728049864.8343203, \"/opt/miniconda3/lib/python3.12/lib-dynload/_sha2.cpython-312-darwin.so\": 1728049876.454727, \"/opt/miniconda3/lib/python3.12/random.py\": 1728049823.9457183, \"/opt/miniconda3/lib/python3.12/_compat_pickle.py\": 1728049823.6040318, \"/opt/miniconda3/lib/python3.12/lib-dynload/_pickle.cpython-312-darwin.so\": 1728049870.0554435, \"/opt/miniconda3/lib/python3.12/pickle.py\": 1728049823.8892865, \"/opt/miniconda3/lib/python3.12/site-packages/zmq/constants.py\": 1705605309.28957, \"/opt/miniconda3/lib/python3.12/site-packages/zmq/backend/cython/socket.cpython-312-darwin.so\": 1705605316.191506, \"/opt/miniconda3/lib/python3.12/site-packages/zmq/backend/cython/_device.cpython-312-darwin.so\": 1705605313.8075562, \"/opt/miniconda3/lib/python3.12/site-packages/zmq/backend/cython/_poll.cpython-312-darwin.so\": 1705605315.8893778, \"/opt/miniconda3/lib/python3.12/site-packages/zmq/backend/cython/_proxy_steerable.cpython-312-darwin.so\": 1705605316.494478, \"/opt/miniconda3/lib/python3.12/site-packages/zmq/backend/cython/_version.cpython-312-darwin.so\": 1705605314.7075644, \"/opt/miniconda3/lib/python3.12/site-packages/zmq/backend/cython/error.cpython-312-darwin.so\": 1705605315.2910712, \"/opt/miniconda3/lib/python3.12/site-packages/zmq/backend/cython/utils.cpython-312-darwin.so\": 1705605314.9962678, \"/opt/miniconda3/lib/python3.12/site-packages/zmq/backend/cython/__init__.py\": 1705605309.297033, \"/opt/miniconda3/lib/python3.12/site-packages/zmq/backend/__init__.py\": 1705605309.292831, \"/opt/miniconda3/lib/python3.12/site-packages/zmq/utils/__init__.py\": 1705605309.332337, \"/opt/miniconda3/lib/python3.12/site-packages/zmq/utils/interop.py\": 1705605309.334245, \"/opt/miniconda3/lib/python3.12/site-packages/zmq/sugar/attrsettr.py\": 1705605309.316646, \"/opt/miniconda3/lib/python3.12/site-packages/zmq/_typing.py\": 1705605309.288853, \"/opt/miniconda3/lib/python3.12/site-packages/zmq/utils/jsonapi.py\": 1705605309.334858, \"/opt/miniconda3/lib/python3.12/site-packages/zmq/sugar/poll.py\": 1705605309.317647, \"/opt/miniconda3/lib/python3.12/site-packages/zmq/sugar/socket.py\": 1705605309.318086, \"/opt/miniconda3/lib/python3.12/site-packages/zmq/sugar/context.py\": 1705605309.317005, \"/opt/miniconda3/lib/python3.12/site-packages/zmq/sugar/frame.py\": 1705605309.317327, \"/opt/miniconda3/lib/python3.12/site-packages/zmq/sugar/tracker.py\": 1705605309.318722, \"/opt/miniconda3/lib/python3.12/site-packages/zmq/sugar/version.py\": 1705605309.319036, \"/opt/miniconda3/lib/python3.12/site-packages/zmq/sugar/stopwatch.py\": 1705605309.318405, \"/opt/miniconda3/lib/python3.12/site-packages/zmq/sugar/__init__.py\": 1705605309.316027, \"/opt/miniconda3/lib/python3.12/site-packages/zmq/__init__.py\": 1705605309.287829, \"/opt/miniconda3/lib/python3.12/concurrent/__init__.py\": 1728049824.301985, \"/opt/miniconda3/lib/python3.12/token.py\": 1728049824.0695567, \"/opt/miniconda3/lib/python3.12/tokenize.py\": 1728049824.0760777, \"/opt/miniconda3/lib/python3.12/linecache.py\": 1728049823.8293204, \"/opt/miniconda3/lib/python3.12/textwrap.py\": 1728049824.0562913, \"/opt/miniconda3/lib/python3.12/traceback.py\": 1728049824.1069574, \"/opt/miniconda3/lib/python3.12/string.py\": 1728049824.0190039, \"/opt/miniconda3/lib/python3.12/logging/__init__.py\": 1728049825.7091124, \"/opt/miniconda3/lib/python3.12/concurrent/futures/_base.py\": 1728049824.31363, \"/opt/miniconda3/lib/python3.12/concurrent/futures/__init__.py\": 1728049824.3102028, \"/opt/miniconda3/lib/python3.12/lib-dynload/_heapq.cpython-312-darwin.so\": 1728049871.5839987, \"/opt/miniconda3/lib/python3.12/heapq.py\": 1728049823.8035064, \"/opt/miniconda3/lib/python3.12/lib-dynload/_socket.cpython-312-darwin.so\": 1728049865.787574, \"/opt/miniconda3/lib/python3.12/lib-dynload/array.cpython-312-darwin.so\": 1728049867.1012158, \"/opt/miniconda3/lib/python3.12/socket.py\": 1728049823.9917922, \"/opt/miniconda3/lib/python3.12/lib-dynload/_ssl.cpython-312-darwin.so\": 1728049870.6301842, \"/opt/miniconda3/lib/python3.12/lib-dynload/binascii.cpython-312-darwin.so\": 1728049863.1278305, \"/opt/miniconda3/lib/python3.12/base64.py\": 1728049823.6647015, \"/opt/miniconda3/lib/python3.12/ssl.py\": 1728049824.008743, \"/opt/miniconda3/lib/python3.12/asyncio/constants.py\": 1728049824.1931274, \"/opt/miniconda3/lib/python3.12/ast.py\": 1728049823.6613193, \"/opt/miniconda3/lib/python3.12/lib-dynload/_opcode.cpython-312-darwin.so\": 1728049875.2694585, \"/opt/miniconda3/lib/python3.12/opcode.py\": 1728049823.8690205, \"/opt/miniconda3/lib/python3.12/dis.py\": 1728049823.7489474, \"/opt/miniconda3/lib/python3.12/inspect.py\": 1728049823.8164268, \"/opt/miniconda3/lib/python3.12/asyncio/coroutines.py\": 1728049824.196296, \"/opt/miniconda3/lib/python3.12/lib-dynload/_contextvars.cpython-312-darwin.so\": 1728049866.728234, \"/opt/miniconda3/lib/python3.12/contextvars.py\": 1728049823.7199764, \"/opt/miniconda3/lib/python3.12/asyncio/format_helpers.py\": 1728049824.2062001, \"/opt/miniconda3/lib/python3.12/asyncio/base_futures.py\": 1728049824.1831768, \"/opt/miniconda3/lib/python3.12/asyncio/exceptions.py\": 1728049824.2029567, \"/opt/miniconda3/lib/python3.12/asyncio/base_tasks.py\": 1728049824.1898859, \"/opt/miniconda3/lib/python3.12/lib-dynload/_asyncio.cpython-312-darwin.so\": 1728049872.7512696, \"/opt/miniconda3/lib/python3.12/asyncio/events.py\": 1728049824.1996632, \"/opt/miniconda3/lib/python3.12/asyncio/futures.py\": 1728049824.2096806, \"/opt/miniconda3/lib/python3.12/asyncio/protocols.py\": 1728049824.2272115, \"/opt/miniconda3/lib/python3.12/asyncio/transports.py\": 1728049824.2685184, \"/opt/miniconda3/lib/python3.12/asyncio/log.py\": 1728049824.2169907, \"/opt/miniconda3/lib/python3.12/asyncio/sslproto.py\": 1728049824.2412982, \"/opt/miniconda3/lib/python3.12/asyncio/mixins.py\": 1728049824.2203965, \"/opt/miniconda3/lib/python3.12/asyncio/locks.py\": 1728049824.213513, \"/opt/miniconda3/lib/python3.12/asyncio/timeouts.py\": 1728049824.2651725, \"/opt/miniconda3/lib/python3.12/asyncio/tasks.py\": 1728049824.258537, \"/opt/miniconda3/lib/python3.12/asyncio/staggered.py\": 1728049824.2448003, \"/opt/miniconda3/lib/python3.12/asyncio/trsock.py\": 1728049824.2719715, \"/opt/miniconda3/lib/python3.12/asyncio/base_events.py\": 1728049824.179776, \"/opt/miniconda3/lib/python3.12/asyncio/runners.py\": 1728049824.2339797, \"/opt/miniconda3/lib/python3.12/asyncio/queues.py\": 1728049824.2305975, \"/opt/miniconda3/lib/python3.12/asyncio/streams.py\": 1728049824.2481666, \"/opt/miniconda3/lib/python3.12/asyncio/subprocess.py\": 1728049824.251413, \"/opt/miniconda3/lib/python3.12/asyncio/taskgroups.py\": 1728049824.254882, \"/opt/miniconda3/lib/python3.12/asyncio/threads.py\": 1728049824.2618816, \"/opt/miniconda3/lib/python3.12/asyncio/base_subprocess.py\": 1728049824.1865025, \"/opt/miniconda3/lib/python3.12/asyncio/selector_events.py\": 1728049824.2376387, \"/opt/miniconda3/lib/python3.12/asyncio/unix_events.py\": 1728049824.2753177, \"/opt/miniconda3/lib/python3.12/asyncio/__init__.py\": 1728049824.1730862, \"/opt/miniconda3/lib/python3.12/site-packages/zmq/_future.py\": 1705605309.288544, \"/opt/miniconda3/lib/python3.12/site-packages/zmq/asyncio.py\": 1705605309.28918, \"/opt/miniconda3/lib/python3.12/site-packages/traitlets/utils/__init__.py\": 1718227177.430862, \"/opt/miniconda3/lib/python3.12/site-packages/traitlets/utils/bunch.py\": 1718227177.431261, \"/opt/miniconda3/lib/python3.12/site-packages/traitlets/utils/descriptions.py\": 1718227177.431816, \"/opt/miniconda3/lib/python3.12/site-packages/traitlets/utils/getargspec.py\": 1718227177.432057, \"/opt/miniconda3/lib/python3.12/site-packages/traitlets/utils/importstring.py\": 1718227177.432295, \"/opt/miniconda3/lib/python3.12/site-packages/traitlets/utils/sentinel.py\": 1718227177.43277, \"/opt/miniconda3/lib/python3.12/site-packages/traitlets/utils/warnings.py\": 1718227177.433319, \"/opt/miniconda3/lib/python3.12/site-packages/traitlets/traitlets.py\": 1718227177.427445, \"/opt/miniconda3/lib/python3.12/site-packages/traitlets/_version.py\": 1718227177.42626, \"/opt/miniconda3/lib/python3.12/site-packages/traitlets/utils/decorators.py\": 1718227177.431537, \"/opt/miniconda3/lib/python3.12/site-packages/traitlets/__init__.py\": 1718227177.425954, \"/opt/miniconda3/lib/python3.12/lib-dynload/_queue.cpython-312-darwin.so\": 1728049870.2425501, \"/opt/miniconda3/lib/python3.12/queue.py\": 1728049823.9392495, \"/opt/miniconda3/lib/python3.12/site-packages/jupyter_core/version.py\": 1718818536.493334, \"/opt/miniconda3/lib/python3.12/site-packages/jupyter_core/__init__.py\": 1718818536.490435, \"/opt/miniconda3/lib/python3.12/site-packages/jupyter_core/utils/__init__.py\": 1718818536.493779, \"/opt/miniconda3/lib/python3.12/site-packages/jupyter_client/channelsabc.py\": 1701805456.132991, \"/opt/miniconda3/lib/python3.12/lib-dynload/_hashlib.cpython-312-darwin.so\": 1728049875.4514687, \"/opt/miniconda3/lib/python3.12/lib-dynload/_blake2.cpython-312-darwin.so\": 1728049865.2152433, \"/opt/miniconda3/lib/python3.12/hashlib.py\": 1728049823.8004422, \"/opt/miniconda3/lib/python3.12/hmac.py\": 1728049823.8065677, \"/opt/miniconda3/lib/python3.12/dataclasses.py\": 1728049823.7357888, \"/opt/miniconda3/lib/python3.12/pprint.py\": 1728049823.9162061, \"/opt/miniconda3/lib/python3.12/lib-dynload/_datetime.cpython-312-darwin.so\": 1728049862.5117784, \"/opt/miniconda3/lib/python3.12/datetime.py\": 1728049823.7393136, \"/opt/miniconda3/lib/python3.12/site-packages/tornado/__init__.py\": 1718740264.440639, \"/opt/miniconda3/lib/python3.12/numbers.py\": 1728049823.8656929, \"/opt/miniconda3/lib/python3.12/logging/handlers.py\": 1728049825.7159765, \"/opt/miniconda3/lib/python3.12/html/entities.py\": 1728049824.9742608, \"/opt/miniconda3/lib/python3.12/html/__init__.py\": 1728049824.9708374, \"/opt/miniconda3/lib/python3.12/lib-dynload/zlib.cpython-312-darwin.so\": 1728049865.9763792, \"/opt/miniconda3/lib/python3.12/site-packages/tornado/speedups.abi3.so\": 1718740267.2826142, \"/opt/miniconda3/lib/python3.12/site-packages/tornado/util.py\": 1718740264.454608, \"/opt/miniconda3/lib/python3.12/site-packages/tornado/escape.py\": 1718740264.443298, \"/opt/miniconda3/lib/python3.12/lib-dynload/_curses.cpython-312-darwin.so\": 1728049869.1195748, \"/opt/miniconda3/lib/python3.12/curses/__init__.py\": 1728049824.3789809, \"/opt/miniconda3/lib/python3.12/site-packages/tornado/log.py\": 1718740264.449375, \"/opt/miniconda3/lib/python3.12/site-packages/tornado/concurrent.py\": 1718740264.442384, \"/opt/miniconda3/lib/python3.12/site-packages/tornado/ioloop.py\": 1718740264.44764, \"/opt/miniconda3/lib/python3.12/socketserver.py\": 1728049823.9954395, \"/opt/miniconda3/lib/python3.12/logging/config.py\": 1728049825.712531, \"/opt/miniconda3/lib/python3.12/site-packages/traitlets/utils/text.py\": 1718227177.433006, \"/opt/miniconda3/lib/python3.12/gettext.py\": 1728049823.787745, \"/opt/miniconda3/lib/python3.12/argparse.py\": 1728049823.658047, \"/opt/miniconda3/lib/python3.12/site-packages/traitlets/config/loader.py\": 1718227177.429188, \"/opt/miniconda3/lib/python3.12/site-packages/traitlets/config/configurable.py\": 1718227177.428821, \"/opt/miniconda3/lib/python3.12/site-packages/traitlets/utils/nested_update.py\": 1718227177.432533, \"/opt/miniconda3/lib/python3.12/site-packages/traitlets/config/application.py\": 1718227177.428133, \"/opt/miniconda3/lib/python3.12/site-packages/traitlets/config/__init__.py\": 1718227177.427764, \"/opt/miniconda3/lib/python3.12/site-packages/traitlets/log.py\": 1718227177.426525, \"/opt/miniconda3/lib/python3.12/site-packages/zmq/eventloop/__init__.py\": 1705605309.309855, \"/opt/miniconda3/lib/python3.12/site-packages/zmq/eventloop/zmqstream.py\": 1705605309.311315, \"/opt/miniconda3/lib/python3.12/site-packages/jupyter_client/adapter.py\": 1701805456.1324472, \"/opt/miniconda3/lib/python3.12/site-packages/dateutil/_version.py\": 1716495777.703333, \"/opt/miniconda3/lib/python3.12/site-packages/dateutil/__init__.py\": 1716495777.702435, \"/opt/miniconda3/lib/python3.12/calendar.py\": 1728049823.68077, \"/opt/miniconda3/lib/python3.12/site-packages/six.py\": 1644875973.0, \"/opt/miniconda3/lib/python3.12/lib-dynload/_decimal.cpython-312-darwin.so\": 1728049876.0424457, \"/opt/miniconda3/lib/python3.12/decimal.py\": 1728049823.7425518, \"/opt/miniconda3/lib/python3.12/site-packages/dateutil/_common.py\": 1716495777.702837, \"/opt/miniconda3/lib/python3.12/site-packages/dateutil/relativedelta.py\": 1716495777.704155, \"/opt/miniconda3/lib/python3.12/site-packages/dateutil/tz/_common.py\": 1716495777.708294, \"/opt/miniconda3/lib/python3.12/site-packages/dateutil/tz/_factories.py\": 1716495777.708621, \"/opt/miniconda3/lib/python3.12/site-packages/dateutil/tz/tz.py\": 1716495777.709162, \"/opt/miniconda3/lib/python3.12/site-packages/dateutil/tz/__init__.py\": 1716495777.707934, \"/opt/miniconda3/lib/python3.12/site-packages/dateutil/parser/_parser.py\": 1716495777.70714, \"/opt/miniconda3/lib/python3.12/site-packages/dateutil/parser/isoparser.py\": 1716495777.707538, \"/opt/miniconda3/lib/python3.12/site-packages/dateutil/parser/__init__.py\": 1716495777.706632, \"/opt/miniconda3/lib/python3.12/_strptime.py\": 1728049823.638128, \"/opt/miniconda3/lib/python3.12/site-packages/jupyter_client/jsonutil.py\": 1701805456.1344519, \"/opt/miniconda3/lib/python3.12/site-packages/jupyter_client/session.py\": 1701805456.1378167, \"/opt/miniconda3/lib/python3.12/site-packages/jupyter_client/channels.py\": 1701805456.1327264, \"/opt/miniconda3/lib/python3.12/lib-dynload/termios.cpython-312-darwin.so\": 1728049874.335805, \"/opt/miniconda3/lib/python3.12/getpass.py\": 1728049823.7845895, \"/opt/miniconda3/lib/python3.12/site-packages/jupyter_client/clientabc.py\": 1701805456.1335707, \"/opt/miniconda3/lib/python3.12/glob.py\": 1728049823.790891, \"/opt/miniconda3/lib/python3.12/_compression.py\": 1728049823.6071746, \"/opt/miniconda3/lib/python3.12/lib-dynload/_bz2.cpython-312-darwin.so\": 1728049874.8912792, \"/opt/miniconda3/lib/python3.12/bz2.py\": 1728049823.6745465, \"/opt/miniconda3/lib/python3.12/lib-dynload/_lzma.cpython-312-darwin.so\": 1728049871.3951876, \"/opt/miniconda3/lib/python3.12/lzma.py\": 1728049823.8357697, \"/opt/miniconda3/lib/python3.12/shutil.py\": 1728049823.9755607, \"/opt/miniconda3/lib/python3.12/tempfile.py\": 1728049824.0529563, \"/opt/miniconda3/lib/python3.12/site-packages/platformdirs/api.py\": 1701805108.811117, \"/opt/miniconda3/lib/python3.12/site-packages/platformdirs/version.py\": 1701805108.812066, \"/opt/miniconda3/lib/python3.12/site-packages/platformdirs/macos.py\": 1701805108.8113694, \"/opt/miniconda3/lib/python3.12/site-packages/platformdirs/__init__.py\": 1701805108.8102803, \"/opt/miniconda3/lib/python3.12/site-packages/jupyter_core/paths.py\": 1718818536.492285, \"/opt/miniconda3/lib/python3.12/site-packages/jupyter_client/localinterfaces.py\": 1701805456.1358116, \"/opt/miniconda3/lib/python3.12/site-packages/jupyter_client/utils.py\": 1701805456.1383696, \"/opt/miniconda3/lib/python3.12/site-packages/jupyter_client/connect.py\": 1701805456.1338985, \"/opt/miniconda3/lib/python3.12/site-packages/jupyter_client/client.py\": 1701805456.1333206, \"/opt/miniconda3/lib/python3.12/site-packages/jupyter_client/asynchronous/client.py\": 1701805456.1391623, \"/opt/miniconda3/lib/python3.12/site-packages/jupyter_client/asynchronous/__init__.py\": 1701805456.1389196, \"/opt/miniconda3/lib/python3.12/site-packages/jupyter_client/blocking/client.py\": 1701805456.139689, \"/opt/miniconda3/lib/python3.12/site-packages/jupyter_client/blocking/__init__.py\": 1701805456.1394432, \"/opt/miniconda3/lib/python3.12/site-packages/jupyter_client/launcher.py\": 1701805456.1355355, \"/opt/miniconda3/lib/python3.12/lib-dynload/_uuid.cpython-312-darwin.so\": 1728049864.6507723, \"/opt/miniconda3/lib/python3.12/uuid.py\": 1728049824.1314318, \"/opt/miniconda3/lib/python3.12/lib-dynload/_csv.cpython-312-darwin.so\": 1728049862.933583, \"/opt/miniconda3/lib/python3.12/csv.py\": 1728049823.7325, \"/opt/miniconda3/lib/python3.12/email/__init__.py\": 1728049824.4183097, \"/opt/miniconda3/lib/python3.12/zipfile/_path/glob.py\": 1728049826.2837756, \"/opt/miniconda3/lib/python3.12/zipfile/_path/__init__.py\": 1728049826.2804992, \"/opt/miniconda3/lib/python3.12/zipfile/__init__.py\": 1728049826.2689831, \"/opt/miniconda3/lib/python3.12/quopri.py\": 1728049823.9422877, \"/opt/miniconda3/lib/python3.12/email/_parseaddr.py\": 1728049824.4284422, \"/opt/miniconda3/lib/python3.12/email/base64mime.py\": 1728049824.438254, \"/opt/miniconda3/lib/python3.12/email/quoprimime.py\": 1728049824.4814656, \"/opt/miniconda3/lib/python3.12/email/errors.py\": 1728049824.4516861, \"/opt/miniconda3/lib/python3.12/email/encoders.py\": 1728049824.44841, \"/opt/miniconda3/lib/python3.12/email/charset.py\": 1728049824.4415455, \"/opt/miniconda3/lib/python3.12/email/utils.py\": 1728049824.484889, \"/opt/miniconda3/lib/python3.12/email/header.py\": 1728049824.461558, \"/opt/miniconda3/lib/python3.12/email/_policybase.py\": 1728049824.4317954, \"/opt/miniconda3/lib/python3.12/email/_encoded_words.py\": 1728049824.4217634, \"/opt/miniconda3/lib/python3.12/email/iterators.py\": 1728049824.4683423, \"/opt/miniconda3/lib/python3.12/email/message.py\": 1728049824.4716535, \"/opt/miniconda3/lib/python3.12/importlib/metadata/_functools.py\": 1728049825.4014928, \"/opt/miniconda3/lib/python3.12/importlib/metadata/_text.py\": 1728049825.4116054, \"/opt/miniconda3/lib/python3.12/importlib/metadata/_adapters.py\": 1728049825.3949082, \"/opt/miniconda3/lib/python3.12/importlib/metadata/_meta.py\": 1728049825.4080875, \"/opt/miniconda3/lib/python3.12/importlib/metadata/_collections.py\": 1728049825.3982172, \"/opt/miniconda3/lib/python3.12/importlib/metadata/_itertools.py\": 1728049825.4048057, \"/opt/miniconda3/lib/python3.12/importlib/resources/abc.py\": 1728049825.3773034, \"/opt/miniconda3/lib/python3.12/importlib/resources/_adapters.py\": 1728049825.3636043, \"/opt/miniconda3/lib/python3.12/importlib/resources/_common.py\": 1728049825.3670993, \"/opt/miniconda3/lib/python3.12/importlib/resources/_legacy.py\": 1728049825.3739626, \"/opt/miniconda3/lib/python3.12/importlib/resources/__init__.py\": 1728049825.360123, \"/opt/miniconda3/lib/python3.12/importlib/abc.py\": 1728049825.3382688, \"/opt/miniconda3/lib/python3.12/importlib/metadata/__init__.py\": 1728049825.3916042, \"/opt/miniconda3/lib/python3.12/site-packages/jupyter_client/provisioning/provisioner_base.py\": 1701805456.1415982, \"/opt/miniconda3/lib/python3.12/site-packages/jupyter_client/provisioning/factory.py\": 1701805456.141032, \"/opt/miniconda3/lib/python3.12/site-packages/jupyter_client/provisioning/local_provisioner.py\": 1701805456.1413262, \"/opt/miniconda3/lib/python3.12/site-packages/jupyter_client/provisioning/__init__.py\": 1701805456.1407595, \"/opt/miniconda3/lib/python3.12/site-packages/jupyter_client/kernelspec.py\": 1701805456.1349924, \"/opt/miniconda3/lib/python3.12/site-packages/jupyter_client/managerabc.py\": 1701805456.1364248, \"/opt/miniconda3/lib/python3.12/site-packages/jupyter_client/manager.py\": 1701805456.1361682, \"/opt/miniconda3/lib/python3.12/site-packages/jupyter_client/multikernelmanager.py\": 1701805456.1367273, \"/opt/miniconda3/lib/python3.12/site-packages/jupyter_client/__init__.py\": 1701805456.1315687, \"/opt/miniconda3/lib/python3.12/site-packages/ipykernel/connect.py\": 1728666217.44857, \"/opt/miniconda3/lib/python3.12/site-packages/ipykernel/__init__.py\": 1728666217.447028, \"/opt/miniconda3/lib/python3.12/site-packages/IPython/core/__init__.py\": 1726064483.803531, \"/opt/miniconda3/lib/python3.12/site-packages/IPython/core/getipython.py\": 1726064483.812349, \"/opt/miniconda3/lib/python3.12/site-packages/IPython/core/release.py\": 1726064483.821276, \"/opt/miniconda3/lib/python3.12/pkgutil.py\": 1728049823.8993032, \"/opt/miniconda3/lib/python3.12/sysconfig.py\": 1728049824.0393612, \"/opt/miniconda3/lib/python3.12/_sysconfigdata__darwin_darwin.py\": 1733413641.443621, \"/opt/miniconda3/lib/python3.12/_osx_support.py\": 1728049823.6143765, \"/opt/miniconda3/lib/python3.12/pydoc.py\": 1728049823.9361389, \"/opt/miniconda3/lib/python3.12/site-packages/executing/executing.py\": 1646925118.0, \"/opt/miniconda3/lib/python3.12/site-packages/executing/version.py\": 1646925118.0, \"/opt/miniconda3/lib/python3.12/site-packages/executing/__init__.py\": 1646925118.0, \"/opt/miniconda3/lib/python3.12/site-packages/asttokens/line_numbers.py\": 1646925667.0, \"/opt/miniconda3/lib/python3.12/site-packages/asttokens/util.py\": 1646925667.0, \"/opt/miniconda3/lib/python3.12/site-packages/asttokens/mark_tokens.py\": 1646925667.0, \"/opt/miniconda3/lib/python3.12/site-packages/asttokens/asttokens.py\": 1646925667.0, \"/opt/miniconda3/lib/python3.12/site-packages/asttokens/__init__.py\": 1646925667.0, \"/opt/miniconda3/lib/python3.12/fractions.py\": 1728049823.7689524, \"/opt/miniconda3/lib/python3.12/site-packages/pure_eval/utils.py\": 1646925117.0, \"/opt/miniconda3/lib/python3.12/site-packages/pure_eval/my_getattr_static.py\": 1646925117.0, \"/opt/miniconda3/lib/python3.12/site-packages/pure_eval/core.py\": 1646925117.0, \"/opt/miniconda3/lib/python3.12/site-packages/pure_eval/version.py\": 1646925117.0, \"/opt/miniconda3/lib/python3.12/site-packages/pure_eval/__init__.py\": 1646925117.0, \"/opt/miniconda3/lib/python3.12/site-packages/stack_data/utils.py\": 1646927639.0, \"/opt/miniconda3/lib/python3.12/site-packages/stack_data/core.py\": 1646927639.0, \"/opt/miniconda3/lib/python3.12/site-packages/stack_data/formatting.py\": 1646927639.0, \"/opt/miniconda3/lib/python3.12/site-packages/stack_data/version.py\": 1646927639.0, \"/opt/miniconda3/lib/python3.12/site-packages/stack_data/__init__.py\": 1646927639.0, \"/opt/miniconda3/lib/python3.12/site-packages/pygments/__init__.py\": 1699240236.4125395, \"/opt/miniconda3/lib/python3.12/site-packages/pygments/formatters/_mapping.py\": 1699240236.4187548, \"/opt/miniconda3/lib/python3.12/site-packages/pygments/plugin.py\": 1699240236.415095, \"/opt/miniconda3/lib/python3.12/site-packages/pygments/util.py\": 1699240236.4175217, \"/opt/miniconda3/lib/python3.12/site-packages/pygments/formatters/__init__.py\": 1699240236.418461, \"/opt/miniconda3/lib/python3.12/site-packages/pygments/styles/__init__.py\": 1699240236.5027893, \"/opt/miniconda3/lib/python3.12/site-packages/pygments/formatter.py\": 1699240236.4140813, \"/opt/miniconda3/lib/python3.12/site-packages/pygments/console.py\": 1699240236.413512, \"/opt/miniconda3/lib/python3.12/site-packages/pygments/token.py\": 1699240236.4166155, \"/opt/miniconda3/lib/python3.12/site-packages/pygments/style.py\": 1699240236.4163141, \"/opt/miniconda3/lib/python3.12/site-packages/pygments/formatters/terminal256.py\": 1699240236.422674, \"/opt/miniconda3/lib/python3.12/site-packages/IPython/utils/__init__.py\": 1726064483.880552, \"/opt/miniconda3/lib/python3.12/site-packages/IPython/utils/colorable.py\": 1726064483.883458, \"/opt/miniconda3/lib/python3.12/site-packages/IPython/utils/ipstruct.py\": 1726064483.887817, \"/opt/miniconda3/lib/python3.12/site-packages/IPython/utils/coloransi.py\": 1726064483.883774, \"/opt/miniconda3/lib/python3.12/site-packages/IPython/core/excolors.py\": 1726064483.811094, \"/opt/miniconda3/lib/python3.12/site-packages/IPython/utils/PyColorize.py\": 1726064483.880392, \"/opt/miniconda3/lib/python3.12/site-packages/IPython/utils/encoding.py\": 1726064483.885953, \"/opt/miniconda3/lib/python3.12/site-packages/IPython/utils/py3compat.py\": 1726064483.890178, \"/opt/miniconda3/lib/python3.12/cmd.py\": 1728049823.6936603, \"/opt/miniconda3/lib/python3.12/bdb.py\": 1728049823.6680667, \"/opt/miniconda3/lib/python3.12/codeop.py\": 1728049823.7033527, \"/opt/miniconda3/lib/python3.12/code.py\": 1728049823.696809, \"/opt/miniconda3/lib/python3.12/pdb.py\": 1728049823.8860745, \"/opt/miniconda3/lib/python3.12/site-packages/IPython/core/debugger.py\": 1726064483.808123, \"/opt/miniconda3/lib/python3.12/site-packages/IPython/core/display_trap.py\": 1726064483.809389, \"/opt/miniconda3/lib/python3.12/shlex.py\": 1728049823.9719844, \"/opt/miniconda3/lib/python3.12/site-packages/IPython/utils/_process_common.py\": 1726064483.881167, \"/opt/miniconda3/lib/python3.12/site-packages/IPython/utils/_process_posix.py\": 1726064483.881849, \"/opt/miniconda3/lib/python3.12/site-packages/IPython/utils/process.py\": 1726064483.88988, \"/opt/miniconda3/lib/python3.12/site-packages/IPython/utils/path.py\": 1726064483.889586, \"/opt/miniconda3/lib/python3.12/site-packages/IPython/utils/terminal.py\": 1726064483.89279, \"/opt/miniconda3/lib/python3.12/site-packages/IPython/core/ultratb.py\": 1726064483.82243, \"/opt/miniconda3/lib/python3.12/site-packages/IPython/utils/_sysinfo.py\": 1726064483.882846, \"/opt/miniconda3/lib/python3.12/site-packages/IPython/utils/sysinfo.py\": 1726064483.891885, \"/opt/miniconda3/lib/python3.12/site-packages/IPython/core/crashhandler.py\": 1726064483.807663, \"/opt/miniconda3/lib/python3.12/site-packages/IPython/utils/importstring.py\": 1726064483.887165, \"/opt/miniconda3/lib/python3.12/site-packages/IPython/paths.py\": 1726064483.803077, \"/opt/miniconda3/lib/python3.12/site-packages/IPython/core/profiledir.py\": 1726064483.820343, \"/opt/miniconda3/lib/python3.12/site-packages/IPython/core/application.py\": 1726064483.804705, \"/opt/miniconda3/lib/python3.12/site-packages/IPython/terminal/__init__.py\": 1726064483.861744, \"/opt/miniconda3/lib/python3.12/site-packages/IPython/core/compilerop.py\": 1726064483.806019, \"/opt/miniconda3/lib/python3.12/site-packages/IPython/core/error.py\": 1726064483.810435, \"/opt/miniconda3/lib/python3.12/site-packages/IPython/utils/docs.py\": 1726064483.88565, \"/opt/miniconda3/lib/python3.12/site-packages/IPython/utils/decorators.py\": 1726064483.885064, \"/opt/miniconda3/lib/python3.12/site-packages/IPython/utils/text.py\": 1726064483.893162, \"/opt/miniconda3/lib/python3.12/site-packages/IPython/core/magic_arguments.py\": 1726064483.817951, \"/opt/miniconda3/lib/python3.12/getopt.py\": 1728049823.781504, \"/opt/miniconda3/lib/python3.12/site-packages/IPython/core/display_functions.py\": 1726064483.809047, \"/opt/miniconda3/lib/python3.12/mimetypes.py\": 1728049823.8456094, \"/opt/miniconda3/lib/python3.12/site-packages/IPython/testing/__init__.py\": 1726064483.872875, \"/opt/miniconda3/lib/python3.12/site-packages/IPython/testing/skipdoctest.py\": 1726064483.874068, \"/opt/miniconda3/lib/python3.12/site-packages/IPython/core/display.py\": 1726064483.808653, \"/opt/miniconda3/lib/python3.12/site-packages/IPython/lib/__init__.py\": 1726064483.852745, \"/opt/miniconda3/lib/python3.12/site-packages/IPython/lib/display.py\": 1726064483.85457, \"/opt/miniconda3/lib/python3.12/site-packages/IPython/display.py\": 1726064483.802758, \"/opt/miniconda3/lib/python3.12/site-packages/IPython/utils/data.py\": 1726064483.884755, \"/opt/miniconda3/lib/python3.12/site-packages/IPython/core/page.py\": 1726064483.818746, \"/opt/miniconda3/lib/python3.12/site-packages/IPython/lib/pretty.py\": 1726064483.8563, \"/opt/miniconda3/lib/python3.12/site-packages/IPython/utils/openpy.py\": 1726064483.889252, \"/opt/miniconda3/lib/python3.12/site-packages/IPython/utils/dir2.py\": 1726064483.885363, \"/opt/miniconda3/lib/python3.12/site-packages/IPython/utils/wildcard.py\": 1726064483.895293, \"/opt/miniconda3/lib/python3.12/site-packages/pygments/lexers/_mapping.py\": 1699240236.428442, \"/opt/miniconda3/lib/python3.12/site-packages/pygments/modeline.py\": 1699240236.414808, \"/opt/miniconda3/lib/python3.12/site-packages/pygments/lexers/__init__.py\": 1699240236.4230478, \"/opt/miniconda3/lib/python3.12/site-packages/pygments/filter.py\": 1699240236.4137926, \"/opt/miniconda3/lib/python3.12/site-packages/pygments/filters/__init__.py\": 1699240236.4180045, \"/opt/miniconda3/lib/python3.12/site-packages/pygments/regexopt.py\": 1699240236.4153824, \"/opt/miniconda3/lib/python3.12/site-packages/pygments/lexer.py\": 1699240236.4145133, \"/opt/miniconda3/lib/python3.12/site-packages/pygments/unistring.py\": 1699240236.4171927, \"/opt/miniconda3/lib/python3.12/site-packages/pygments/lexers/python.py\": 1699240236.4803588, \"/opt/miniconda3/lib/python3.12/site-packages/pygments/formatters/html.py\": 1699240236.4197798, \"/opt/miniconda3/lib/python3.12/site-packages/IPython/core/oinspect.py\": 1726064483.818404, \"/opt/miniconda3/lib/python3.12/site-packages/IPython/utils/tokenutil.py\": 1726064483.89378, \"/opt/miniconda3/lib/python3.12/site-packages/IPython/core/inputtransformer2.py\": 1726064483.815311, \"/opt/miniconda3/lib/python3.12/site-packages/IPython/core/magic.py\": 1726064483.817618, \"/opt/miniconda3/lib/python3.12/site-packages/IPython/core/hooks.py\": 1726064483.814048, \"/opt/miniconda3/lib/python3.12/site-packages/IPython/core/autocall.py\": 1726064483.805369, \"/opt/miniconda3/lib/python3.12/site-packages/IPython/core/macro.py\": 1726064483.817234, \"/opt/miniconda3/lib/python3.12/site-packages/IPython/core/splitinput.py\": 1726064483.821944, \"/opt/miniconda3/lib/python3.12/site-packages/IPython/core/prefilter.py\": 1726064483.819685, \"/opt/miniconda3/lib/python3.12/site-packages/IPython/core/alias.py\": 1726064483.804222, \"/opt/miniconda3/lib/python3.12/site-packages/IPython/core/builtin_trap.py\": 1726064483.805677, \"/opt/miniconda3/lib/python3.12/site-packages/IPython/core/displayhook.py\": 1726064483.809763, \"/opt/miniconda3/lib/python3.12/site-packages/IPython/core/displaypub.py\": 1726064483.810111, \"/opt/miniconda3/lib/python3.12/site-packages/IPython/core/events.py\": 1726064483.810766, \"/opt/miniconda3/lib/python3.12/site-packages/IPython/core/extensions.py\": 1726064483.81148, \"/opt/miniconda3/lib/python3.12/site-packages/decorator.py\": 1643638344.0, \"/opt/miniconda3/lib/python3.12/site-packages/IPython/utils/sentinel.py\": 1726064483.890459, \"/opt/miniconda3/lib/python3.12/site-packages/IPython/core/formatters.py\": 1726064483.811949, \"/opt/miniconda3/lib/python3.12/lib-dynload/_sqlite3.cpython-312-darwin.so\": 1728049876.267975, \"/opt/miniconda3/lib/python3.12/sqlite3/dbapi2.py\": 1728049825.8596954, \"/opt/miniconda3/lib/python3.12/sqlite3/__init__.py\": 1728049825.852853, \"/opt/miniconda3/lib/python3.12/site-packages/IPython/core/history.py\": 1726064483.813348, \"/opt/miniconda3/lib/python3.12/site-packages/IPython/core/logger.py\": 1726064483.816939, \"/opt/miniconda3/lib/python3.12/site-packages/IPython/core/payload.py\": 1726064483.819041, \"/opt/miniconda3/lib/python3.12/site-packages/IPython/core/usage.py\": 1726064483.822777, \"/opt/miniconda3/lib/python3.12/site-packages/IPython/utils/capture.py\": 1726064483.883158, \"/opt/miniconda3/lib/python3.12/site-packages/IPython/utils/io.py\": 1726064483.887464, \"/opt/miniconda3/lib/python3.12/site-packages/IPython/utils/strdispatch.py\": 1726064483.891313, \"/opt/miniconda3/lib/python3.12/site-packages/IPython/utils/syspathcontext.py\": 1726064483.892203, \"/opt/miniconda3/lib/python3.12/site-packages/IPython/core/async_helpers.py\": 1726064483.805045, \"/opt/miniconda3/lib/python3.12/site-packages/IPython/core/interactiveshell.py\": 1726064483.816216, \"/opt/miniconda3/lib/python3.12/site-packages/prompt_toolkit/application/current.py\": 1704404382.9321408, \"/opt/miniconda3/lib/python3.12/site-packages/prompt_toolkit/eventloop/utils.py\": 1704404382.9413636, \"/opt/miniconda3/lib/python3.12/site-packages/prompt_toolkit/eventloop/async_generator.py\": 1704404382.9407773, \"/opt/miniconda3/lib/python3.12/site-packages/prompt_toolkit/eventloop/inputhook.py\": 1704404382.9410627, \"/opt/miniconda3/lib/python3.12/site-packages/prompt_toolkit/eventloop/__init__.py\": 1704404382.9404945, \"/opt/miniconda3/lib/python3.12/site-packages/prompt_toolkit/application/run_in_terminal.py\": 1704404382.932705, \"/opt/miniconda3/lib/python3.12/site-packages/prompt_toolkit/selection.py\": 1704404382.9299247, \"/opt/miniconda3/lib/python3.12/site-packages/prompt_toolkit/clipboard/base.py\": 1704404382.9332857, \"/opt/miniconda3/lib/python3.12/site-packages/prompt_toolkit/clipboard/in_memory.py\": 1704404382.9335475, \"/opt/miniconda3/lib/python3.12/site-packages/prompt_toolkit/clipboard/__init__.py\": 1704404382.9330213, \"/opt/miniconda3/lib/python3.12/site-packages/prompt_toolkit/cache.py\": 1704404382.9261777, \"/opt/miniconda3/lib/python3.12/site-packages/prompt_toolkit/enums.py\": 1704404382.9273646, \"/opt/miniconda3/lib/python3.12/site-packages/prompt_toolkit/filters/base.py\": 1704404382.94255, \"/opt/miniconda3/lib/python3.12/site-packages/prompt_toolkit/filters/app.py\": 1704404382.9422493, \"/opt/miniconda3/lib/python3.12/site-packages/prompt_toolkit/filters/cli.py\": 1704404382.9428267, \"/opt/miniconda3/lib/python3.12/site-packages/prompt_toolkit/filters/utils.py\": 1704404382.943096, \"/opt/miniconda3/lib/python3.12/site-packages/prompt_toolkit/filters/__init__.py\": 1704404382.9419558, \"/opt/miniconda3/lib/python3.12/site-packages/prompt_toolkit/document.py\": 1704404382.9270976, \"/opt/miniconda3/lib/python3.12/site-packages/prompt_toolkit/auto_suggest.py\": 1704404382.9253073, \"/opt/miniconda3/lib/python3.12/site-packages/prompt_toolkit/keys.py\": 1704404382.9279428, \"/opt/miniconda3/lib/python3.12/site-packages/prompt_toolkit/key_binding/key_bindings.py\": 1704404382.949614, \"/opt/miniconda3/lib/python3.12/site-packages/wcwidth/table_wide.py\": 1629357208.0, \"/opt/miniconda3/lib/python3.12/site-packages/wcwidth/table_zero.py\": 1629357208.0, \"/opt/miniconda3/lib/python3.12/site-packages/wcwidth/unicode_versions.py\": 1629357208.0, \"/opt/miniconda3/lib/python3.12/site-packages/wcwidth/wcwidth.py\": 1629357208.0, \"/opt/miniconda3/lib/python3.12/site-packages/wcwidth/__init__.py\": 1629357208.0, \"/opt/miniconda3/lib/python3.12/site-packages/prompt_toolkit/utils.py\": 1704404382.9304686, \"/opt/miniconda3/lib/python3.12/site-packages/prompt_toolkit/key_binding/key_processor.py\": 1704404382.9499633, \"/opt/miniconda3/lib/python3.12/site-packages/prompt_toolkit/key_binding/__init__.py\": 1704404382.9483855, \"/opt/miniconda3/lib/python3.12/site-packages/prompt_toolkit/key_binding/vi_state.py\": 1704404382.950256, \"/opt/miniconda3/lib/python3.12/site-packages/prompt_toolkit/cursor_shapes.py\": 1704404382.9264522, \"/opt/miniconda3/lib/python3.12/site-packages/prompt_toolkit/data_structures.py\": 1704404382.926715, \"/opt/miniconda3/lib/python3.12/site-packages/prompt_toolkit/styles/base.py\": 1704404382.9657257, \"/opt/miniconda3/lib/python3.12/site-packages/prompt_toolkit/styles/named_colors.py\": 1704404382.966317, \"/opt/miniconda3/lib/python3.12/site-packages/prompt_toolkit/styles/style.py\": 1704404382.9669108, \"/opt/miniconda3/lib/python3.12/site-packages/prompt_toolkit/styles/defaults.py\": 1704404382.9660306, \"/opt/miniconda3/lib/python3.12/site-packages/prompt_toolkit/styles/pygments.py\": 1704404382.9665892, \"/opt/miniconda3/lib/python3.12/colorsys.py\": 1728049823.7066526, \"/opt/miniconda3/lib/python3.12/site-packages/prompt_toolkit/styles/style_transformation.py\": 1704404382.9672308, \"/opt/miniconda3/lib/python3.12/site-packages/prompt_toolkit/styles/__init__.py\": 1704404382.965442, \"/opt/miniconda3/lib/python3.12/site-packages/prompt_toolkit/output/color_depth.py\": 1704404382.960695, \"/opt/miniconda3/lib/python3.12/site-packages/prompt_toolkit/output/base.py\": 1704404382.9604213, \"/opt/miniconda3/lib/python3.12/site-packages/prompt_toolkit/output/flush_stdout.py\": 1704404382.961521, \"/opt/miniconda3/lib/python3.12/site-packages/prompt_toolkit/output/plain_text.py\": 1704404382.961792, \"/opt/miniconda3/lib/python3.12/site-packages/prompt_toolkit/output/defaults.py\": 1704404382.9612403, \"/opt/miniconda3/lib/python3.12/site-packages/prompt_toolkit/output/__init__.py\": 1704404382.9601312, \"/opt/miniconda3/lib/python3.12/site-packages/prompt_toolkit/output/vt100.py\": 1704404382.9621437, \"/opt/miniconda3/lib/python3.12/site-packages/prompt_toolkit/mouse_events.py\": 1704404382.928506, \"/opt/miniconda3/lib/python3.12/site-packages/prompt_toolkit/formatted_text/base.py\": 1704404382.9440026, \"/opt/miniconda3/lib/python3.12/site-packages/prompt_toolkit/formatted_text/ansi.py\": 1704404382.9437177, \"/opt/miniconda3/lib/python3.12/xml/__init__.py\": 1728049826.1548216, \"/opt/miniconda3/lib/python3.12/xml/dom/domreg.py\": 1728049826.169958, \"/opt/miniconda3/lib/python3.12/xml/dom/__init__.py\": 1728049826.1666095, \"/opt/miniconda3/lib/python3.12/xml/dom/minicompat.py\": 1728049826.1769662, \"/opt/miniconda3/lib/python3.12/xml/dom/NodeFilter.py\": 1728049826.1632624, \"/opt/miniconda3/lib/python3.12/xml/dom/xmlbuilder.py\": 1728049826.1874409, \"/opt/miniconda3/lib/python3.12/xml/dom/minidom.py\": 1728049826.180512, \"/opt/miniconda3/lib/python3.12/site-packages/prompt_toolkit/formatted_text/html.py\": 1704404382.9442809, \"/opt/miniconda3/lib/python3.12/site-packages/prompt_toolkit/formatted_text/pygments.py\": 1704404382.9445434, \"/opt/miniconda3/lib/python3.12/site-packages/prompt_toolkit/formatted_text/utils.py\": 1704404382.9448092, \"/opt/miniconda3/lib/python3.12/site-packages/prompt_toolkit/formatted_text/__init__.py\": 1704404382.9434316, \"/opt/miniconda3/lib/python3.12/site-packages/prompt_toolkit/completion/base.py\": 1704404382.9344332, \"/opt/miniconda3/lib/python3.12/site-packages/prompt_toolkit/completion/deduplicate.py\": 1704404382.934708, \"/opt/miniconda3/lib/python3.12/site-packages/prompt_toolkit/completion/filesystem.py\": 1704404382.9349809, \"/opt/miniconda3/lib/python3.12/site-packages/prompt_toolkit/completion/word_completer.py\": 1704404382.9358304, \"/opt/miniconda3/lib/python3.12/site-packages/prompt_toolkit/completion/fuzzy_completer.py\": 1704404382.9352694, \"/opt/miniconda3/lib/python3.12/site-packages/prompt_toolkit/completion/nested.py\": 1704404382.935556, \"/opt/miniconda3/lib/python3.12/site-packages/prompt_toolkit/completion/__init__.py\": 1704404382.9341161, \"/opt/miniconda3/lib/python3.12/site-packages/prompt_toolkit/history.py\": 1704404382.927665, \"/opt/miniconda3/lib/python3.12/site-packages/prompt_toolkit/search.py\": 1704404382.9296582, \"/opt/miniconda3/lib/python3.12/site-packages/prompt_toolkit/validation.py\": 1704404382.9307559, \"/opt/miniconda3/lib/python3.12/site-packages/prompt_toolkit/buffer.py\": 1704404382.925862, \"/opt/miniconda3/lib/python3.12/site-packages/prompt_toolkit/input/base.py\": 1704404382.9457114, \"/opt/miniconda3/lib/python3.12/site-packages/prompt_toolkit/input/defaults.py\": 1704404382.945986, \"/opt/miniconda3/lib/python3.12/site-packages/prompt_toolkit/input/__init__.py\": 1704404382.9451263, \"/opt/miniconda3/lib/python3.12/site-packages/prompt_toolkit/input/typeahead.py\": 1704404382.9468114, \"/opt/miniconda3/lib/python3.12/site-packages/prompt_toolkit/key_binding/bindings/__init__.py\": 1704404382.9504952, \"/opt/miniconda3/lib/python3.12/site-packages/prompt_toolkit/key_binding/bindings/scroll.py\": 1704404382.9536865, \"/opt/miniconda3/lib/python3.12/site-packages/prompt_toolkit/key_binding/bindings/page_navigation.py\": 1704404382.9534104, \"/opt/miniconda3/lib/python3.12/site-packages/prompt_toolkit/lexers/base.py\": 1704404382.9595063, \"/opt/miniconda3/lib/python3.12/site-packages/prompt_toolkit/lexers/pygments.py\": 1704404382.959814, \"/opt/miniconda3/lib/python3.12/site-packages/prompt_toolkit/lexers/__init__.py\": 1704404382.959238, \"/opt/miniconda3/lib/python3.12/site-packages/prompt_toolkit/layout/utils.py\": 1704404382.9589257, \"/opt/miniconda3/lib/python3.12/site-packages/prompt_toolkit/layout/processors.py\": 1704404382.9579682, \"/opt/miniconda3/lib/python3.12/site-packages/prompt_toolkit/layout/controls.py\": 1704404382.955791, \"/opt/miniconda3/lib/python3.12/site-packages/prompt_toolkit/layout/dimension.py\": 1704404382.9560935, \"/opt/miniconda3/lib/python3.12/site-packages/prompt_toolkit/layout/margins.py\": 1704404382.956964, \"/opt/miniconda3/lib/python3.12/site-packages/prompt_toolkit/layout/mouse_handlers.py\": 1704404382.9575875, \"/opt/miniconda3/lib/python3.12/site-packages/prompt_toolkit/layout/screen.py\": 1704404382.958293, \"/opt/miniconda3/lib/python3.12/site-packages/prompt_toolkit/layout/containers.py\": 1704404382.9553862, \"/opt/miniconda3/lib/python3.12/site-packages/prompt_toolkit/layout/layout.py\": 1704404382.956667, \"/opt/miniconda3/lib/python3.12/site-packages/prompt_toolkit/layout/menus.py\": 1704404382.9573112, \"/opt/miniconda3/lib/python3.12/site-packages/prompt_toolkit/layout/scrollable_pane.py\": 1704404382.9586453, \"/opt/miniconda3/lib/python3.12/site-packages/prompt_toolkit/layout/__init__.py\": 1704404382.9548242, \"/opt/miniconda3/lib/python3.12/site-packages/prompt_toolkit/key_binding/bindings/completion.py\": 1704404382.9513767, \"/opt/miniconda3/lib/python3.12/site-packages/prompt_toolkit/key_binding/bindings/named_commands.py\": 1704404382.9528668, \"/opt/miniconda3/lib/python3.12/site-packages/prompt_toolkit/key_binding/bindings/basic.py\": 1704404382.9510684, \"/opt/miniconda3/lib/python3.12/site-packages/prompt_toolkit/key_binding/bindings/cpr.py\": 1704404382.9516475, \"/opt/miniconda3/lib/python3.12/site-packages/prompt_toolkit/key_binding/bindings/emacs.py\": 1704404382.9519663, \"/opt/miniconda3/lib/python3.12/site-packages/prompt_toolkit/key_binding/bindings/mouse.py\": 1704404382.95254, \"/opt/miniconda3/lib/python3.12/site-packages/prompt_toolkit/input/ansi_escape_sequences.py\": 1704404382.9454253, \"/opt/miniconda3/lib/python3.12/site-packages/prompt_toolkit/input/vt100_parser.py\": 1704404382.9474194, \"/opt/miniconda3/lib/python3.12/site-packages/prompt_toolkit/key_binding/digraphs.py\": 1704404382.948985, \"/opt/miniconda3/lib/python3.12/site-packages/prompt_toolkit/key_binding/bindings/vi.py\": 1704404382.95447, \"/opt/miniconda3/lib/python3.12/site-packages/prompt_toolkit/key_binding/defaults.py\": 1704404382.9486465, \"/opt/miniconda3/lib/python3.12/site-packages/prompt_toolkit/key_binding/emacs_state.py\": 1704404382.9492538, \"/opt/miniconda3/lib/python3.12/site-packages/prompt_toolkit/layout/dummy.py\": 1704404382.9563618, \"/opt/miniconda3/lib/python3.12/site-packages/prompt_toolkit/renderer.py\": 1704404382.9293652, \"/opt/miniconda3/lib/python3.12/site-packages/prompt_toolkit/application/application.py\": 1704404382.9318452, \"/opt/miniconda3/lib/python3.12/site-packages/prompt_toolkit/application/dummy.py\": 1704404382.9324224, \"/opt/miniconda3/lib/python3.12/site-packages/prompt_toolkit/application/__init__.py\": 1704404382.931368, \"/opt/miniconda3/lib/python3.12/site-packages/prompt_toolkit/key_binding/bindings/focus.py\": 1704404382.9522314, \"/opt/miniconda3/lib/python3.12/site-packages/prompt_toolkit/widgets/toolbars.py\": 1704404382.9688451, \"/opt/miniconda3/lib/python3.12/site-packages/prompt_toolkit/widgets/base.py\": 1704404382.9679418, \"/opt/miniconda3/lib/python3.12/site-packages/prompt_toolkit/widgets/dialogs.py\": 1704404382.9682283, \"/opt/miniconda3/lib/python3.12/site-packages/prompt_toolkit/widgets/menus.py\": 1704404382.9685376, \"/opt/miniconda3/lib/python3.12/site-packages/prompt_toolkit/widgets/__init__.py\": 1704404382.9675615, \"/opt/miniconda3/lib/python3.12/site-packages/prompt_toolkit/shortcuts/dialogs.py\": 1704404382.9634128, \"/opt/miniconda3/lib/python3.12/site-packages/prompt_toolkit/shortcuts/progress_bar/formatters.py\": 1704404382.9651022, \"/opt/miniconda3/lib/python3.12/site-packages/prompt_toolkit/shortcuts/progress_bar/base.py\": 1704404382.964794, \"/opt/miniconda3/lib/python3.12/site-packages/prompt_toolkit/shortcuts/progress_bar/__init__.py\": 1704404382.9644787, \"/opt/miniconda3/lib/python3.12/site-packages/prompt_toolkit/key_binding/bindings/auto_suggest.py\": 1704404382.9507816, \"/opt/miniconda3/lib/python3.12/site-packages/prompt_toolkit/key_binding/bindings/open_in_editor.py\": 1704404382.9531403, \"/opt/miniconda3/lib/python3.12/site-packages/prompt_toolkit/shortcuts/prompt.py\": 1704404382.9638464, \"/opt/miniconda3/lib/python3.12/site-packages/prompt_toolkit/shortcuts/utils.py\": 1704404382.9641478, \"/opt/miniconda3/lib/python3.12/site-packages/prompt_toolkit/shortcuts/__init__.py\": 1704404382.9631166, \"/opt/miniconda3/lib/python3.12/site-packages/prompt_toolkit/__init__.py\": 1704404382.9249978, \"/opt/miniconda3/lib/python3.12/site-packages/prompt_toolkit/patch_stdout.py\": 1704404382.9287887, \"/opt/miniconda3/lib/python3.12/lib-dynload/unicodedata.cpython-312-darwin.so\": 1728049874.6990628, \"/opt/miniconda3/lib/python3.12/site-packages/IPython/core/guarded_eval.py\": 1726064483.812851, \"/opt/miniconda3/lib/python3.12/site-packages/IPython/core/latex_symbols.py\": 1726064483.816625, \"/opt/miniconda3/lib/python3.12/site-packages/IPython/utils/generics.py\": 1726064483.886856, \"/opt/miniconda3/lib/python3.12/site-packages/parso/utils.py\": 1641458668.0, \"/opt/miniconda3/lib/python3.12/site-packages/parso/tree.py\": 1641458668.0, \"/opt/miniconda3/lib/python3.12/site-packages/parso/python/__init__.py\": 1641458668.0, \"/opt/miniconda3/lib/python3.12/site-packages/parso/python/token.py\": 1641458668.0, \"/opt/miniconda3/lib/python3.12/site-packages/parso/python/tokenize.py\": 1641458668.0, \"/opt/miniconda3/lib/python3.12/site-packages/parso/pgen2/grammar_parser.py\": 1641458668.0, \"/opt/miniconda3/lib/python3.12/site-packages/parso/pgen2/generator.py\": 1641458668.0, \"/opt/miniconda3/lib/python3.12/site-packages/parso/pgen2/__init__.py\": 1641458668.0, \"/opt/miniconda3/lib/python3.12/site-packages/parso/parser.py\": 1641458668.0, \"/opt/miniconda3/lib/python3.12/site-packages/parso/_compatibility.py\": 1641458668.0, \"/opt/miniconda3/lib/python3.12/difflib.py\": 1728049823.7457514, \"/opt/miniconda3/lib/python3.12/site-packages/parso/python/prefix.py\": 1641458668.0, \"/opt/miniconda3/lib/python3.12/site-packages/parso/python/tree.py\": 1641458668.0, \"/opt/miniconda3/lib/python3.12/site-packages/parso/python/parser.py\": 1641458668.0, \"/opt/miniconda3/lib/python3.12/site-packages/parso/python/diff.py\": 1641458668.0, \"/opt/miniconda3/lib/python3.12/site-packages/parso/cache.py\": 1641458668.0, \"/opt/miniconda3/lib/python3.12/site-packages/parso/normalizer.py\": 1641458668.0, \"/opt/miniconda3/lib/python3.12/site-packages/parso/python/errors.py\": 1641458668.0, \"/opt/miniconda3/lib/python3.12/site-packages/parso/python/pep8.py\": 1641458668.0, \"/opt/miniconda3/lib/python3.12/site-packages/parso/file_io.py\": 1641458668.0, \"/opt/miniconda3/lib/python3.12/site-packages/parso/grammar.py\": 1641458668.0, \"/opt/miniconda3/lib/python3.12/site-packages/parso/__init__.py\": 1641458668.0, \"/opt/miniconda3/lib/python3.12/site-packages/jedi/parser_utils.py\": 1721058402.467616, \"/opt/miniconda3/lib/python3.12/site-packages/jedi/debug.py\": 1721058402.467075, \"/opt/miniconda3/lib/python3.12/site-packages/jedi/settings.py\": 1721058402.468058, \"/opt/miniconda3/lib/python3.12/site-packages/jedi/cache.py\": 1721058402.466592, \"/opt/miniconda3/lib/python3.12/site-packages/jedi/file_io.py\": 1721058402.467312, \"/opt/miniconda3/lib/python3.12/site-packages/jedi/inference/cache.py\": 1721058402.475328, \"/opt/miniconda3/lib/python3.12/site-packages/jedi/inference/helpers.py\": 1721058402.477618, \"/opt/miniconda3/lib/python3.12/site-packages/jedi/inference/utils.py\": 1721058402.48106, \"/opt/miniconda3/lib/python3.12/site-packages/jedi/inference/base_value.py\": 1721058402.475052, \"/opt/miniconda3/lib/python3.12/site-packages/jedi/inference/sys_path.py\": 1721058402.480806, \"/opt/miniconda3/lib/python3.12/site-packages/jedi/inference/recursion.py\": 1721058402.479302, \"/opt/miniconda3/lib/python3.12/site-packages/jedi/inference/flow_analysis.py\": 1721058402.477295, \"/opt/miniconda3/lib/python3.12/site-packages/jedi/common.py\": 1721058402.466828, \"/opt/miniconda3/lib/python3.12/site-packages/jedi/inference/lazy_value.py\": 1721058402.478215, \"/opt/miniconda3/lib/python3.12/site-packages/jedi/inference/docstrings.py\": 1721058402.476199, \"/opt/miniconda3/lib/python3.12/site-packages/jedi/plugins/__init__.py\": 1721058402.489347, \"/opt/miniconda3/lib/python3.12/site-packages/jedi/inference/names.py\": 1721058402.478514, \"/opt/miniconda3/lib/python3.12/site-packages/jedi/inference/filters.py\": 1721058402.476767, \"/opt/miniconda3/lib/python3.12/site-packages/jedi/inference/compiled/getattr_static.py\": 1721058402.481914, \"/opt/miniconda3/lib/python3.12/site-packages/jedi/inference/compiled/access.py\": 1721058402.481654, \"/opt/miniconda3/lib/python3.12/site-packages/jedi/inference/signature.py\": 1721058402.479842, \"/opt/miniconda3/lib/python3.12/site-packages/jedi/inference/context.py\": 1721058402.475637, \"/opt/miniconda3/lib/python3.12/site-packages/jedi/inference/compiled/value.py\": 1721058402.482547, \"/opt/miniconda3/lib/python3.12/site-packages/jedi/inference/compiled/__init__.py\": 1721058402.481357, \"/opt/miniconda3/lib/python3.12/site-packages/jedi/inference/analysis.py\": 1721058402.474366, \"/opt/miniconda3/lib/python3.12/site-packages/jedi/inference/gradual/__init__.py\": 1721058402.483717, \"/opt/miniconda3/lib/python3.12/site-packages/jedi/inference/value/module.py\": 1721058402.488785, \"/opt/miniconda3/lib/python3.12/site-packages/jedi/inference/value/dynamic_arrays.py\": 1721058402.487175, \"/opt/miniconda3/lib/python3.12/site-packages/jedi/inference/value/iterable.py\": 1721058402.488073, \"/opt/miniconda3/lib/python3.12/site-packages/jedi/inference/arguments.py\": 1721058402.474735, \"/opt/miniconda3/lib/python3.12/site-packages/jedi/inference/parser_cache.py\": 1721058402.47904, \"/opt/miniconda3/lib/python3.12/site-packages/jedi/inference/gradual/generics.py\": 1721058402.484975, \"/opt/miniconda3/lib/python3.12/site-packages/jedi/inference/value/function.py\": 1721058402.48746, \"/opt/miniconda3/lib/python3.12/site-packages/jedi/inference/value/klass.py\": 1721058402.488504, \"/opt/miniconda3/lib/python3.12/site-packages/jedi/inference/value/instance.py\": 1721058402.487762, \"/opt/miniconda3/lib/python3.12/site-packages/jedi/inference/value/__init__.py\": 1721058402.486605, \"/opt/miniconda3/lib/python3.12/site-packages/jedi/inference/gradual/base.py\": 1721058402.484329, \"/opt/miniconda3/lib/python3.12/site-packages/jedi/inference/gradual/type_var.py\": 1721058402.48548, \"/opt/miniconda3/lib/python3.12/site-packages/jedi/inference/gradual/typing.py\": 1721058402.486078, \"/opt/miniconda3/lib/python3.12/site-packages/jedi/inference/gradual/stub_value.py\": 1721058402.485225, \"/opt/miniconda3/lib/python3.12/site-packages/jedi/inference/gradual/typeshed.py\": 1721058402.485791, \"/opt/miniconda3/lib/python3.12/site-packages/jedi/_compatibility.py\": 1721058402.466345, \"/opt/miniconda3/lib/python3.12/site-packages/jedi/inference/compiled/subprocess/functions.py\": 1721058402.483427, \"/opt/miniconda3/lib/python3.12/site-packages/jedi/api/exceptions.py\": 1721058402.470915, \"/opt/miniconda3/lib/python3.12/site-packages/jedi/inference/compiled/subprocess/__init__.py\": 1721058402.482912, \"/opt/miniconda3/lib/python3.12/site-packages/jedi/inference/imports.py\": 1721058402.477951, \"/opt/miniconda3/lib/python3.12/site-packages/jedi/inference/param.py\": 1721058402.478794, \"/opt/miniconda3/lib/python3.12/site-packages/jedi/inference/gradual/annotation.py\": 1721058402.484027, \"/opt/miniconda3/lib/python3.12/site-packages/jedi/inference/value/decorator.py\": 1721058402.486884, \"/opt/miniconda3/lib/python3.12/site-packages/jedi/inference/syntax_tree.py\": 1721058402.480509, \"/opt/miniconda3/lib/python3.12/site-packages/jedi/inference/__init__.py\": 1721058402.474074, \"/opt/miniconda3/lib/python3.12/site-packages/jedi/inference/gradual/conversion.py\": 1721058402.484661, \"/opt/miniconda3/lib/python3.12/site-packages/jedi/inference/compiled/mixed.py\": 1721058402.482192, \"/opt/miniconda3/lib/python3.12/pydoc_data/__init__.py\": 1728049825.80924, \"/opt/miniconda3/lib/python3.12/pydoc_data/topics.py\": 1728049825.8164637, \"/opt/miniconda3/lib/python3.12/site-packages/jedi/api/keywords.py\": 1721058402.472123, \"/opt/miniconda3/lib/python3.12/site-packages/jedi/api/completion_cache.py\": 1721058402.469974, \"/opt/miniconda3/lib/python3.12/site-packages/jedi/api/helpers.py\": 1721058402.47156, \"/opt/miniconda3/lib/python3.12/site-packages/jedi/api/classes.py\": 1721058402.469301, \"/opt/miniconda3/lib/python3.12/site-packages/jedi/api/interpreter.py\": 1721058402.47184, \"/opt/miniconda3/lib/python3.12/site-packages/jedi/api/strings.py\": 1721058402.473012, \"/opt/miniconda3/lib/python3.12/site-packages/jedi/api/file_name.py\": 1721058402.47123, \"/opt/miniconda3/lib/python3.12/site-packages/jedi/inference/docstring_utils.py\": 1721058402.475922, \"/opt/miniconda3/lib/python3.12/site-packages/jedi/api/completion.py\": 1721058402.469655, \"/opt/miniconda3/lib/python3.12/filecmp.py\": 1728049823.7588923, \"/opt/miniconda3/lib/python3.12/site-packages/jedi/api/environment.py\": 1721058402.470324, \"/opt/miniconda3/lib/python3.12/site-packages/jedi/inference/references.py\": 1721058402.479587, \"/opt/miniconda3/lib/python3.12/site-packages/jedi/api/project.py\": 1721058402.472439, \"/opt/miniconda3/lib/python3.12/site-packages/jedi/api/errors.py\": 1721058402.4706, \"/opt/miniconda3/lib/python3.12/site-packages/jedi/inference/value/namespace.py\": 1721058402.48904, \"/opt/miniconda3/lib/python3.12/site-packages/jedi/api/refactoring/__init__.py\": 1721058402.473415, \"/opt/miniconda3/lib/python3.12/site-packages/jedi/api/refactoring/extract.py\": 1721058402.473724, \"/opt/miniconda3/lib/python3.12/site-packages/jedi/inference/gradual/utils.py\": 1721058402.486322, \"/opt/miniconda3/lib/python3.12/site-packages/jedi/api/__init__.py\": 1721058402.468895, \"/opt/miniconda3/lib/python3.12/site-packages/jedi/plugins/stdlib.py\": 1721058402.490881, \"/opt/miniconda3/lib/python3.12/site-packages/jedi/plugins/flask.py\": 1721058402.489864, \"/opt/miniconda3/lib/python3.12/site-packages/jedi/plugins/pytest.py\": 1721058402.490166, \"/opt/miniconda3/lib/python3.12/site-packages/jedi/plugins/django.py\": 1721058402.489615, \"/opt/miniconda3/lib/python3.12/site-packages/jedi/plugins/registry.py\": 1721058402.490459, \"/opt/miniconda3/lib/python3.12/site-packages/jedi/__init__.py\": 1721058402.465741, \"/opt/miniconda3/lib/python3.12/site-packages/IPython/core/completer.py\": 1726064483.806923, \"/opt/miniconda3/lib/python3.12/site-packages/IPython/terminal/ptutils.py\": 1726064483.864432, \"/opt/miniconda3/lib/python3.12/site-packages/IPython/terminal/shortcuts/auto_match.py\": 1726064483.869731, \"/opt/miniconda3/lib/python3.12/site-packages/IPython/terminal/shortcuts/filters.py\": 1726064483.870387, \"/opt/miniconda3/lib/python3.12/site-packages/IPython/terminal/shortcuts/auto_suggest.py\": 1726064483.870058, \"/opt/miniconda3/lib/python3.12/site-packages/IPython/terminal/shortcuts/__init__.py\": 1726064483.869424, \"/opt/miniconda3/lib/python3.12/concurrent/futures/thread.py\": 1728049824.3204846, \"/opt/miniconda3/lib/python3.12/site-packages/IPython/terminal/debugger.py\": 1726064483.86235, \"/opt/miniconda3/lib/python3.12/site-packages/IPython/lib/clipboard.py\": 1726064483.853462, \"/opt/miniconda3/lib/python3.12/site-packages/IPython/terminal/magics.py\": 1726064483.863798, \"/opt/miniconda3/lib/python3.12/site-packages/IPython/terminal/pt_inputhooks/__init__.py\": 1726064483.864841, \"/opt/miniconda3/lib/python3.12/site-packages/IPython/terminal/prompts.py\": 1726064483.864109, \"/opt/miniconda3/lib/python3.12/site-packages/IPython/terminal/interactiveshell.py\": 1726064483.863109, \"/opt/miniconda3/lib/python3.12/site-packages/IPython/core/magics/auto.py\": 1726064483.82376, \"/opt/miniconda3/lib/python3.12/site-packages/IPython/core/magics/basic.py\": 1726064483.824126, \"/opt/miniconda3/lib/python3.12/http/__init__.py\": 1728049824.9853852, \"/opt/miniconda3/lib/python3.12/email/feedparser.py\": 1728049824.4548697, \"/opt/miniconda3/lib/python3.12/email/parser.py\": 1728049824.474906, \"/opt/miniconda3/lib/python3.12/http/client.py\": 1728049824.9891987, \"/opt/miniconda3/lib/python3.12/urllib/response.py\": 1728049826.077764, \"/opt/miniconda3/lib/python3.12/urllib/error.py\": 1728049826.067689, \"/opt/miniconda3/lib/python3.12/lib-dynload/_scproxy.cpython-312-darwin.so\": 1728049872.9554508, \"/opt/miniconda3/lib/python3.12/urllib/request.py\": 1728049826.0745146, \"/opt/miniconda3/lib/python3.12/site-packages/IPython/utils/contexts.py\": 1726064483.884127, \"/opt/miniconda3/lib/python3.12/site-packages/IPython/core/magics/code.py\": 1726064483.824552, \"/opt/miniconda3/lib/python3.12/site-packages/IPython/core/magics/config.py\": 1726064483.826126, \"/opt/miniconda3/lib/python3.12/site-packages/IPython/core/magics/display.py\": 1726064483.826457, \"/opt/miniconda3/lib/python3.12/lib-dynload/_lsprof.cpython-312-darwin.so\": 1728049869.294234, \"/opt/miniconda3/lib/python3.12/profile.py\": 1728049823.9195542, \"/opt/miniconda3/lib/python3.12/cProfile.py\": 1728049823.6776874, \"/opt/miniconda3/lib/python3.12/pstats.py\": 1728049823.9230633, \"/opt/miniconda3/lib/python3.12/timeit.py\": 1728049824.0663033, \"/opt/miniconda3/lib/python3.12/site-packages/IPython/utils/module_paths.py\": 1726064483.888949, \"/opt/miniconda3/lib/python3.12/lib-dynload/resource.cpython-312-darwin.so\": 1728049867.475619, \"/opt/miniconda3/lib/python3.12/site-packages/IPython/utils/timing.py\": 1726064483.893474, \"/opt/miniconda3/lib/python3.12/site-packages/IPython/core/magics/ast_mod.py\": 1726064483.823465, \"/opt/miniconda3/lib/python3.12/site-packages/IPython/core/magics/execution.py\": 1726064483.826978, \"/opt/miniconda3/lib/python3.12/site-packages/IPython/core/magics/extension.py\": 1726064483.82729, \"/opt/miniconda3/lib/python3.12/site-packages/IPython/core/magics/history.py\": 1726064483.827616, \"/opt/miniconda3/lib/python3.12/site-packages/IPython/core/magics/logging.py\": 1726064483.827939, \"/opt/miniconda3/lib/python3.12/site-packages/IPython/core/magics/namespace.py\": 1726064483.828321, \"/opt/miniconda3/lib/python3.12/site-packages/IPython/core/magics/osm.py\": 1726064483.828756, \"/opt/miniconda3/lib/python3.12/site-packages/IPython/core/magics/packaging.py\": 1726064483.829079, \"/opt/miniconda3/lib/python3.12/site-packages/IPython/core/magics/pylab.py\": 1726064483.829385, \"/opt/miniconda3/lib/python3.12/site-packages/IPython/core/magics/script.py\": 1726064483.829712, \"/opt/miniconda3/lib/python3.12/site-packages/IPython/core/magics/__init__.py\": 1726064483.823159, \"/opt/miniconda3/lib/python3.12/site-packages/IPython/core/shellapp.py\": 1726064483.821628, \"/opt/miniconda3/lib/python3.12/site-packages/IPython/extensions/__init__.py\": 1726064483.849053, \"/opt/miniconda3/lib/python3.12/site-packages/IPython/extensions/storemagic.py\": 1726064483.849814, \"/opt/miniconda3/lib/python3.12/site-packages/IPython/terminal/ipapp.py\": 1726064483.863457, \"/opt/miniconda3/lib/python3.12/site-packages/IPython/terminal/embed.py\": 1726064483.862688, \"/opt/miniconda3/lib/python3.12/site-packages/IPython/utils/frame.py\": 1726064483.886526, \"/opt/miniconda3/lib/python3.12/site-packages/IPython/__init__.py\": 1726064483.801437, \"/opt/miniconda3/lib/python3.12/site-packages/ipykernel/control.py\": 1728666217.44886, \"/opt/miniconda3/lib/python3.12/site-packages/ipykernel/heartbeat.py\": 1728666217.450872, \"/opt/miniconda3/lib/python3.12/site-packages/ipykernel/iostream.py\": 1728666217.451249, \"/opt/miniconda3/lib/python3.12/site-packages/comm/base_comm.py\": 1709323040.707315, \"/opt/miniconda3/lib/python3.12/site-packages/comm/__init__.py\": 1709323040.706761, \"/opt/miniconda3/lib/python3.12/site-packages/ipykernel/jsonutil.py\": 1728666217.451944, \"/opt/miniconda3/lib/python3.12/site-packages/psutil/_common.py\": 1699246714.8810155, \"/opt/miniconda3/lib/python3.12/site-packages/psutil/_compat.py\": 1699246714.8813148, \"/opt/miniconda3/lib/python3.12/site-packages/psutil/_psposix.py\": 1699246714.8830705, \"/opt/miniconda3/lib/python3.12/site-packages/psutil/_psutil_osx.cpython-312-darwin.so\": 1699246716.775473, \"/opt/miniconda3/lib/python3.12/site-packages/psutil/_psutil_posix.cpython-312-darwin.so\": 1699246716.8814921, \"/opt/miniconda3/lib/python3.12/site-packages/psutil/_psosx.py\": 1699246714.882796, \"/opt/miniconda3/lib/python3.12/site-packages/psutil/__init__.py\": 1699246714.8806279, \"/opt/miniconda3/lib/python3.12/site-packages/tornado/gen.py\": 1718740264.445276, \"/opt/miniconda3/lib/python3.12/site-packages/tornado/locks.py\": 1718740264.448994, \"/opt/miniconda3/lib/python3.12/site-packages/tornado/queues.py\": 1718740264.451254, \"/opt/miniconda3/lib/python3.12/site-packages/ipykernel/kernelbase.py\": 1728666217.452835, \"/opt/miniconda3/lib/python3.12/site-packages/ipykernel/comm/comm.py\": 1728666217.458489, \"/opt/miniconda3/lib/python3.12/site-packages/ipykernel/comm/manager.py\": 1728666217.458864, \"/opt/miniconda3/lib/python3.12/site-packages/ipykernel/comm/__init__.py\": 1728666217.458149, \"/opt/miniconda3/lib/python3.12/site-packages/ipykernel/compiler.py\": 1728666217.448278, \"/opt/miniconda3/lib/python3.12/site-packages/packaging/__init__.py\": 1720102207.864737, \"/opt/miniconda3/lib/python3.12/site-packages/packaging/_structures.py\": 1720102207.866488, \"/opt/miniconda3/lib/python3.12/site-packages/packaging/version.py\": 1720102207.869783, \"/opt/miniconda3/lib/python3.12/site-packages/ipykernel/eventloops.py\": 1728666217.450565, \"/opt/miniconda3/lib/python3.12/site-packages/IPython/core/payloadpage.py\": 1726064483.819331, \"/opt/miniconda3/lib/python3.12/site-packages/ipykernel/displayhook.py\": 1728666217.449893, \"/opt/miniconda3/lib/python3.12/site-packages/ipykernel/zmqshell.py\": 1728666217.457721, \"/opt/miniconda3/lib/python3.12/site-packages/ipykernel/ipkernel.py\": 1728666217.451634, \"/opt/miniconda3/lib/python3.12/site-packages/ipykernel/parentpoller.py\": 1728666217.453748, \"/opt/miniconda3/lib/python3.12/site-packages/ipykernel/kernelapp.py\": 1728666217.452356, \"/opt/miniconda3/lib/python3.12/site-packages/tornado/platform/__init__.py\": 1718740264.458696, \"/opt/miniconda3/lib/python3.12/site-packages/tornado/platform/asyncio.py\": 1718740264.459167, \"/opt/miniconda3/lib/python3.12/site-packages/debugpy/_version.py\": 1699267979.398346, \"/opt/miniconda3/lib/python3.12/site-packages/debugpy/public_api.py\": 1699267979.398597, \"/opt/miniconda3/lib/python3.12/site-packages/debugpy/__init__.py\": 1699267979.3978658, \"/opt/miniconda3/lib/python3.12/site-packages/debugpy/_vendored/_util.py\": 1699267979.3993597, \"/opt/miniconda3/lib/python3.12/site-packages/debugpy/_vendored/__init__.py\": 1699267979.3988829, \"/opt/miniconda3/lib/python3.12/site-packages/debugpy/_vendored/pydevd/_pydevd_bundle/__init__.py\": 1699267979.4192176, \"/opt/miniconda3/lib/python3.12/encodings/ascii.py\": 1728049824.534578, \"/opt/miniconda3/lib/python3.12/encodings/latin_1.py\": 1728049824.8202145, \"/opt/miniconda3/lib/python3.12/stringprep.py\": 1728049824.0224288, \"/opt/miniconda3/lib/python3.12/encodings/idna.py\": 1728049824.723287, \"/opt/miniconda3/lib/python3.12/site-packages/debugpy/_vendored/pydevd/_pydevd_bundle/pydevd_vm_type.py\": 1699267979.4404976, \"/opt/miniconda3/lib/python3.12/site-packages/debugpy/_vendored/pydevd/_pydev_bundle/__init__.py\": 1699267979.4042237, \"/opt/miniconda3/lib/python3.12/xmlrpc/__init__.py\": 1728049826.2541974, \"/opt/miniconda3/lib/python3.12/xml/parsers/__init__.py\": 1728049826.2179947, \"/opt/miniconda3/lib/python3.12/lib-dynload/pyexpat.cpython-312-darwin.so\": 1728049872.195949, \"/opt/miniconda3/lib/python3.12/xml/parsers/expat.py\": 1728049826.2214358, \"/opt/miniconda3/lib/python3.12/gzip.py\": 1728049823.7972794, \"/opt/miniconda3/lib/python3.12/xmlrpc/client.py\": 1728049826.2575498, \"/opt/miniconda3/lib/python3.12/http/server.py\": 1728049824.99946, \"/opt/miniconda3/lib/python3.12/xmlrpc/server.py\": 1728049826.2609434, \"/opt/miniconda3/lib/python3.12/site-packages/debugpy/_vendored/pydevd/_pydev_bundle/_pydev_saved_modules.py\": 1699267979.4086382, \"/opt/miniconda3/lib/python3.12/site-packages/debugpy/_vendored/pydevd/_pydevd_bundle/pydevd_constants.py\": 1699267979.423478, \"/opt/miniconda3/lib/python3.12/site-packages/debugpy/_vendored/pydevd/_pydev_runfiles/__init__.py\": 1699267979.416376, \"/opt/miniconda3/lib/python3.12/site-packages/debugpy/_vendored/pydevd/_pydevd_frame_eval/__init__.py\": 1699267979.4454975, \"/opt/miniconda3/lib/python3.12/site-packages/debugpy/_vendored/pydevd/pydev_ipython/__init__.py\": 1699267979.460346, \"/opt/miniconda3/lib/python3.12/plistlib.py\": 1728049823.906078, \"/opt/miniconda3/lib/python3.12/site-packages/packaging/_elffile.py\": 1720102207.865111, \"/opt/miniconda3/lib/python3.12/site-packages/packaging/_manylinux.py\": 1720102207.86548, \"/opt/miniconda3/lib/python3.12/site-packages/packaging/_musllinux.py\": 1720102207.86581, \"/opt/miniconda3/lib/python3.12/site-packages/packaging/tags.py\": 1720102207.869064, \"/opt/miniconda3/lib/python3.12/site-packages/packaging/utils.py\": 1720102207.869412, \"/opt/miniconda3/lib/python3.12/site-packages/packaging/specifiers.py\": 1720102207.868665, \"/opt/miniconda3/lib/python3.12/site-packages/packaging/_tokenizer.py\": 1720102207.866814, \"/opt/miniconda3/lib/python3.12/site-packages/packaging/_parser.py\": 1720102207.866163, \"/opt/miniconda3/lib/python3.12/site-packages/packaging/markers.py\": 1720102207.867172, \"/opt/miniconda3/lib/python3.12/site-packages/packaging/requirements.py\": 1720102207.868198, \"/opt/miniconda3/lib/python3.12/site-packages/setuptools/_vendor/more_itertools/recipes.py\": 1726491207.0, \"/opt/miniconda3/lib/python3.12/site-packages/setuptools/_vendor/more_itertools/more.py\": 1726491207.0, \"/opt/miniconda3/lib/python3.12/site-packages/setuptools/_vendor/more_itertools/__init__.py\": 1726491207.0, \"/opt/miniconda3/lib/python3.12/site-packages/setuptools/_vendor/jaraco/functools/__init__.py\": 1726491207.0, \"/opt/miniconda3/lib/python3.12/lib-dynload/grp.cpython-312-darwin.so\": 1728049864.2915049, \"/opt/miniconda3/lib/python3.12/tarfile.py\": 1728049824.0460422, \"/opt/miniconda3/lib/python3.12/site-packages/setuptools/_vendor/jaraco/context.py\": 1726491207.0, \"/opt/miniconda3/lib/python3.12/importlib/resources/_itertools.py\": 1728049825.3705711, \"/opt/miniconda3/lib/python3.12/importlib/resources/readers.py\": 1728049825.3806138, \"/opt/miniconda3/lib/python3.12/importlib/readers.py\": 1728049825.3449264, \"/opt/miniconda3/lib/python3.12/site-packages/setuptools/_vendor/jaraco/text/__init__.py\": 1726491207.0, \"/opt/miniconda3/lib/python3.12/site-packages/pkg_resources/__init__.py\": 1726491207.0, \"/opt/miniconda3/lib/python3.12/site-packages/debugpy/_vendored/pydevd/pydevd_plugins/__init__.py\": 1699267979.4906702, \"/opt/miniconda3/lib/python3.12/site-packages/debugpy/_vendored/pydevd/_pydev_bundle/pydev_log.py\": 1699267979.4130363, \"/opt/miniconda3/lib/python3.12/site-packages/debugpy/_vendored/pydevd/_pydev_bundle/_pydev_filesystem_encoding.py\": 1699267979.40642, \"/opt/miniconda3/lib/python3.12/site-packages/debugpy/_vendored/pydevd/_pydevd_bundle/pydevd_comm_constants.py\": 1699267979.422553, \"/opt/miniconda3/lib/python3.12/site-packages/debugpy/_vendored/pydevd/pydevd_file_utils.py\": 1699267979.4029744, \"/opt/miniconda3/lib/python3.12/site-packages/debugpy/_vendored/pydevd/_pydev_bundle/_pydev_execfile.py\": 1699267979.4059887, \"/opt/miniconda3/lib/python3.12/site-packages/debugpy/_vendored/pydevd/_pydevd_bundle/pydevd_exec2.py\": 1699267979.4306095, \"/opt/miniconda3/lib/python3.12/site-packages/debugpy/_vendored/pydevd/_pydev_bundle/pydev_imports.py\": 1699267979.4107866, \"/opt/miniconda3/lib/python3.12/site-packages/debugpy/_vendored/pydevd/_pydev_bundle/pydev_is_thread_alive.py\": 1699267979.4121752, \"/opt/miniconda3/lib/python3.12/site-packages/debugpy/_vendored/pydevd/_pydev_bundle/pydev_override.py\": 1699267979.4146674, \"/opt/miniconda3/lib/python3.12/site-packages/debugpy/_vendored/pydevd/pydevd_plugins/extensions/__init__.py\": 1699267979.492022, \"/opt/miniconda3/lib/python3.12/site-packages/debugpy/_vendored/pydevd/_pydevd_bundle/pydevd_extension_utils.py\": 1699267979.4311092, \"/opt/miniconda3/lib/python3.12/site-packages/debugpy/_vendored/pydevd/_pydevd_bundle/pydevd_frame_utils.py\": 1699267979.432138, \"/opt/miniconda3/lib/python3.12/site-packages/debugpy/_vendored/pydevd/_pydevd_bundle/pydevd_filtering.py\": 1699267979.4313934, \"/opt/miniconda3/lib/python3.12/site-packages/debugpy/_vendored/pydevd/_pydevd_bundle/pydevd_io.py\": 1699267979.4329176, \"/opt/miniconda3/lib/python3.12/site-packages/debugpy/_vendored/pydevd/_pydevd_bundle/pydevd_defaults.py\": 1699267979.4298565, \"/opt/miniconda3/lib/python3.12/site-packages/debugpy/_vendored/pydevd/_pydevd_bundle/pydevd_utils.py\": 1699267979.4399042, \"/opt/miniconda3/lib/python3.12/site-packages/debugpy/_vendored/pydevd/_pydevd_bundle/pydevd_runpy.py\": 1699267979.4362926, \"/opt/miniconda3/lib/python3.12/site-packages/debugpy/_vendored/pydevd/_pydev_bundle/_pydev_tipper_common.py\": 1699267979.4094605, \"/opt/miniconda3/lib/python3.12/site-packages/debugpy/_vendored/pydevd/_pydev_bundle/_pydev_imports_tipper.py\": 1699267979.407299, \"/opt/miniconda3/lib/python3.12/site-packages/debugpy/_vendored/pydevd/_pydev_bundle/_pydev_calltip_util.py\": 1699267979.4046438, \"/opt/miniconda3/lib/python3.12/site-packages/debugpy/_vendored/pydevd/_pydevd_bundle/pydevd_safe_repr.py\": 1699267979.4365897, \"/opt/miniconda3/lib/python3.12/site-packages/debugpy/_vendored/pydevd/_pydevd_bundle/pydevd_resolver.py\": 1699267979.435997, \"/opt/miniconda3/lib/python3.12/site-packages/debugpy/_vendored/pydevd/_pydevd_bundle/pydevd_extension_api.py\": 1699267979.43086, \"/opt/miniconda3/lib/python3.12/site-packages/debugpy/_vendored/pydevd/_pydevd_bundle/pydevd_xml.py\": 1699267979.4407816, \"/opt/miniconda3/lib/python3.12/site-packages/debugpy/_vendored/pydevd/_pydevd_bundle/pydevd_dont_trace.py\": 1699267979.4301093, \"/opt/miniconda3/lib/python3.12/site-packages/debugpy/_vendored/pydevd/_pydevd_frame_eval/vendored/__init__.py\": 1699267979.4502974, \"/opt/miniconda3/lib/python3.12/site-packages/debugpy/_vendored/pydevd/_pydevd_frame_eval/vendored/bytecode/flags.py\": 1699267979.4531946, \"/opt/miniconda3/lib/python3.12/site-packages/debugpy/_vendored/pydevd/_pydevd_frame_eval/vendored/bytecode/instr.py\": 1699267979.45369, \"/opt/miniconda3/lib/python3.12/site-packages/debugpy/_vendored/pydevd/_pydevd_frame_eval/vendored/bytecode/bytecode.py\": 1699267979.451558, \"/opt/miniconda3/lib/python3.12/site-packages/debugpy/_vendored/pydevd/_pydevd_frame_eval/vendored/bytecode/concrete.py\": 1699267979.452672, \"/opt/miniconda3/lib/python3.12/site-packages/debugpy/_vendored/pydevd/_pydevd_frame_eval/vendored/bytecode/cfg.py\": 1699267979.452134, \"/opt/miniconda3/lib/python3.12/site-packages/debugpy/_vendored/pydevd/_pydevd_frame_eval/vendored/bytecode/__init__.py\": 1699267979.4510977, \"/opt/miniconda3/lib/python3.12/site-packages/debugpy/_vendored/pydevd/_pydevd_bundle/pydevd_bytecode_utils.py\": 1699267979.4210844, \"/opt/miniconda3/lib/python3.12/site-packages/debugpy/_vendored/pydevd/_pydevd_bundle/pydevd_frame.py\": 1699267979.4318283, \"/opt/miniconda3/lib/python3.12/site-packages/debugpy/_vendored/pydevd/_pydevd_bundle/pydevd_additional_thread_info_regular.py\": 1699267979.4200485, \"/opt/miniconda3/lib/python3.12/site-packages/debugpy/_vendored/pydevd/_pydevd_bundle/pydevd_additional_thread_info.py\": 1699267979.4197838, \"/opt/miniconda3/lib/python3.12/site-packages/debugpy/_vendored/pydevd/_pydevd_bundle/pydevd_thread_lifecycle.py\": 1699267979.4382765, \"/opt/miniconda3/lib/python3.12/site-packages/debugpy/_vendored/pydevd/_pydevd_bundle/pydevd_save_locals.py\": 1699267979.4368458, \"/opt/miniconda3/lib/python3.12/site-packages/debugpy/_vendored/pydevd/_pydev_bundle/pydev_monkey.py\": 1699267979.4137845, \"/opt/miniconda3/lib/python3.12/site-packages/debugpy/_vendored/pydevd/pydevd_tracing.py\": 1699267979.4034517, \"/opt/miniconda3/lib/python3.12/site-packages/debugpy/_vendored/pydevd/_pydevd_bundle/pydevd_collect_bytecode_info.py\": 1699267979.421741, \"/opt/miniconda3/lib/python3.12/site-packages/debugpy/_vendored/pydevd/_pydevd_bundle/pydevd_daemon_thread.py\": 1699267979.4295907, \"/opt/miniconda3/lib/python3.12/site-packages/debugpy/_vendored/pydevd/_pydevd_bundle/pydevd_timeout.py\": 1699267979.4385417, \"/opt/miniconda3/lib/python3.12/site-packages/debugpy/_vendored/pydevd/_pydevd_bundle/pydevd_vars.py\": 1699267979.4402544, \"/opt/miniconda3/lib/python3.12/site-packages/debugpy/_vendored/pydevd/_pydev_bundle/pydev_console_utils.py\": 1699267979.4099956, \"/opt/miniconda3/lib/python3.12/site-packages/debugpy/_vendored/pydevd/_pydevd_bundle/pydevd_import_class.py\": 1699267979.4326472, \"/opt/miniconda3/lib/python3.12/site-packages/debugpy/_vendored/pydevd/_pydevd_bundle/pydevd_breakpoints.py\": 1699267979.42076, \"/opt/miniconda3/lib/python3.12/site-packages/debugpy/_vendored/pydevd/_pydevd_bundle/pydevd_custom_frames.py\": 1699267979.423742, \"/opt/miniconda3/lib/python3.12/site-packages/debugpy/_vendored/pydevd/_pydevd_bundle/pydevd_dont_trace_files.py\": 1699267979.4303675, \"/opt/miniconda3/lib/python3.12/site-packages/debugpy/_vendored/pydevd/_pydevd_bundle/pydevd_net_command.py\": 1699267979.4334536, \"/opt/miniconda3/lib/python3.12/site-packages/debugpy/_vendored/pydevd/_pydevd_bundle/pydevconsole_code.py\": 1699267979.4195385, \"/opt/miniconda3/lib/python3.12/site-packages/debugpy/_vendored/pydevd/_pydev_bundle/pydev_umd.py\": 1699267979.4150665, \"/opt/miniconda3/lib/python3.12/site-packages/debugpy/_vendored/pydevd/pydevconsole.py\": 1699267979.4012437, \"/opt/miniconda3/lib/python3.12/site-packages/debugpy/_vendored/pydevd/_pydev_bundle/_pydev_completer.py\": 1699267979.4053864, \"/opt/miniconda3/lib/python3.12/site-packages/debugpy/_vendored/pydevd/_pydevd_bundle/pydevd_net_command_factory_xml.py\": 1699267979.4340806, \"/opt/miniconda3/lib/python3.12/site-packages/debugpy/_vendored/pydevd/_pydevd_bundle/pydevd_trace_dispatch_regular.py\": 1699267979.4393535, \"/opt/miniconda3/lib/python3.12/site-packages/debugpy/_vendored/pydevd/_pydevd_bundle/pydevd_trace_dispatch.py\": 1699267979.439049, \"/opt/miniconda3/lib/python3.12/site-packages/debugpy/_vendored/pydevd/_pydevd_frame_eval/pydevd_frame_eval_main.py\": 1699267979.4459877, \"/opt/miniconda3/lib/python3.12/site-packages/debugpy/_vendored/pydevd/_pydevd_bundle/pydevd_source_mapping.py\": 1699267979.4373682, \"/opt/miniconda3/lib/python3.12/site-packages/debugpy/_vendored/pydevd/_pydevd_bundle/pydevd_concurrency_analyser/__init__.py\": 1699267979.44453, \"/opt/miniconda3/lib/python3.12/site-packages/debugpy/_vendored/pydevd/_pydevd_bundle/pydevd_concurrency_analyser/pydevd_thread_wrappers.py\": 1699267979.445067, \"/opt/miniconda3/lib/python3.12/site-packages/debugpy/_vendored/pydevd/_pydevd_bundle/pydevd_concurrency_analyser/pydevd_concurrency_logger.py\": 1699267979.444821, \"/opt/miniconda3/lib/python3.12/site-packages/debugpy/_vendored/pydevd/_pydevd_bundle/_debug_adapter/__init__.py\": 1699267979.4409883, \"/opt/miniconda3/lib/python3.12/site-packages/debugpy/_vendored/pydevd/_pydevd_bundle/_debug_adapter/pydevd_schema_log.py\": 1699267979.4443247, \"/opt/miniconda3/lib/python3.12/site-packages/debugpy/_vendored/pydevd/_pydevd_bundle/_debug_adapter/pydevd_base_schema.py\": 1699267979.4424782, \"/opt/miniconda3/lib/python3.12/site-packages/debugpy/_vendored/pydevd/_pydevd_bundle/_debug_adapter/pydevd_schema.py\": 1699267979.4440355, \"/opt/miniconda3/lib/python3.12/site-packages/debugpy/_vendored/pydevd/_pydevd_bundle/pydevd_reload.py\": 1699267979.4356692, \"/opt/miniconda3/lib/python3.12/site-packages/debugpy/_vendored/pydevd/_pydev_bundle/fsnotify/__init__.py\": 1699267979.4159882, \"/opt/miniconda3/lib/python3.12/site-packages/debugpy/_vendored/pydevd/_pydevd_bundle/pydevd_console.py\": 1699267979.4230883, \"/opt/miniconda3/lib/python3.12/site-packages/debugpy/_vendored/pydevd/_pydevd_bundle/pydevd_comm.py\": 1699267979.4222493, \"/opt/miniconda3/lib/python3.12/site-packages/debugpy/_vendored/pydevd/_pydevd_bundle/pydevd_net_command_factory_json.py\": 1699267979.433765, \"/opt/miniconda3/lib/python3.12/site-packages/debugpy/_vendored/pydevd/_pydevd_bundle/pydevd_api.py\": 1699267979.420496, \"/opt/miniconda3/lib/python3.12/site-packages/debugpy/_vendored/pydevd/_pydevd_bundle/pydevd_json_debug_options.py\": 1699267979.4331841, \"/opt/miniconda3/lib/python3.12/site-packages/debugpy/_vendored/pydevd/_pydevd_bundle/pydevd_process_net_command_json.py\": 1699267979.435088, \"/opt/miniconda3/lib/python3.12/site-packages/debugpy/_vendored/pydevd/_pydevd_bundle/pydevd_traceproperty.py\": 1699267979.4396079, \"/opt/miniconda3/lib/python3.12/site-packages/debugpy/_vendored/pydevd/_pydevd_bundle/pydevd_process_net_command.py\": 1699267979.4346824, \"/opt/miniconda3/lib/python3.12/site-packages/debugpy/_vendored/pydevd/_pydevd_bundle/pydevd_suspended_frames.py\": 1699267979.4380143, \"/opt/miniconda3/lib/python3.12/site-packages/debugpy/_vendored/pydevd/_pydevd_bundle/pydevd_trace_api.py\": 1699267979.4387975, \"/opt/miniconda3/lib/python3.12/site-packages/debugpy/_vendored/pydevd/pydevd_plugins/pydevd_line_validation.py\": 1699267979.49151, \"/opt/miniconda3/lib/python3.12/site-packages/debugpy/_vendored/pydevd/pydevd_plugins/django_debug.py\": 1699267979.490961, \"/opt/miniconda3/lib/python3.12/site-packages/debugpy/_vendored/pydevd/pydevd_plugins/jinja2_debug.py\": 1699267979.49125, \"/opt/miniconda3/lib/python3.12/site-packages/debugpy/_vendored/pydevd/_pydevd_bundle/pydevd_plugin_utils.py\": 1699267979.4343474, \"/opt/miniconda3/lib/python3.12/site-packages/debugpy/_vendored/pydevd/pydevd_plugins/extensions/types/__init__.py\": 1699267979.4922915, \"/opt/miniconda3/lib/python3.12/site-packages/debugpy/_vendored/pydevd/pydevd_plugins/extensions/types/pydevd_helpers.py\": 1699267979.4925227, \"/opt/miniconda3/lib/python3.12/site-packages/debugpy/_vendored/pydevd/pydevd_plugins/extensions/types/pydevd_plugin_numpy_types.py\": 1699267979.4927666, \"/opt/miniconda3/lib/python3.12/site-packages/debugpy/_vendored/pydevd/pydevd_plugins/extensions/types/pydevd_plugin_pandas_types.py\": 1699267979.4930196, \"/opt/miniconda3/lib/python3.12/site-packages/debugpy/_vendored/pydevd/pydevd_plugins/extensions/types/pydevd_plugins_django_form_str.py\": 1699267979.49326, \"/opt/miniconda3/lib/python3.12/site-packages/debugpy/_vendored/pydevd/pydevd.py\": 1699267979.4023228, \"/opt/miniconda3/lib/python3.12/site-packages/debugpy/_vendored/force_pydevd.py\": 1699267979.399601, \"/opt/miniconda3/lib/python3.12/site-packages/debugpy/server/__init__.py\": 1699267979.4997163, \"/opt/miniconda3/lib/python3.12/site-packages/debugpy/adapter/__init__.py\": 1699267979.4935338, \"/opt/miniconda3/lib/python3.12/site-packages/debugpy/common/__init__.py\": 1699267979.4955738, \"/opt/miniconda3/lib/python3.12/site-packages/debugpy/common/json.py\": 1699267979.495835, \"/opt/miniconda3/lib/python3.12/site-packages/debugpy/common/timestamp.py\": 1699267979.497656, \"/opt/miniconda3/lib/python3.12/site-packages/debugpy/common/util.py\": 1699267979.4979048, \"/opt/miniconda3/lib/python3.12/site-packages/debugpy/common/log.py\": 1699267979.4961076, \"/opt/miniconda3/lib/python3.12/site-packages/debugpy/common/sockets.py\": 1699267979.4971557, \"/opt/miniconda3/lib/python3.12/site-packages/debugpy/server/api.py\": 1699267979.4999857, \"/opt/miniconda3/lib/python3.12/site-packages/ipykernel/debugger.py\": 1728666217.449576, \"/opt/miniconda3/lib/python3.12/site-packages/IPython/core/completerlib.py\": 1726064483.807309, \"/opt/miniconda3/lib/python3.12/ctypes/macholib/__init__.py\": 1728049824.3542106, \"/opt/miniconda3/lib/python3.12/ctypes/macholib/framework.py\": 1728049824.3709118, \"/opt/miniconda3/lib/python3.12/ctypes/macholib/dylib.py\": 1728049824.3611786, \"/opt/miniconda3/lib/python3.12/ctypes/macholib/dyld.py\": 1728049824.3577087, \"/opt/miniconda3/lib/python3.12/ctypes/util.py\": 1728049824.3389397, \"/opt/miniconda3/lib/python3.12/site-packages/appnope/_nope.py\": 1699321029.6752524, \"/opt/miniconda3/lib/python3.12/site-packages/appnope/__init__.py\": 1699321029.6742358, \"/opt/miniconda3/lib/python3.12/site-packages/matplotlib/_api/deprecation.py\": 1732550909.551914, \"/opt/miniconda3/lib/python3.12/site-packages/matplotlib/_api/__init__.py\": 1732550909.551613, \"/opt/miniconda3/lib/python3.12/site-packages/matplotlib/_version.py\": 1732550909.6578271, \"/opt/miniconda3/lib/python3.12/site-packages/numpy/_utils/_convertions.py\": 1708641728.3097904, \"/opt/miniconda3/lib/python3.12/site-packages/numpy/_utils/__init__.py\": 1708641728.3094766, \"/opt/miniconda3/lib/python3.12/site-packages/numpy/_globals.py\": 1708641728.2406435, \"/opt/miniconda3/lib/python3.12/site-packages/numpy/exceptions.py\": 1708641728.2437797, \"/opt/miniconda3/lib/python3.12/site-packages/numpy/version.py\": 1708641728.2457585, \"/opt/miniconda3/lib/python3.12/site-packages/numpy/_distributor_init.py\": 1708641728.2402976, \"/opt/miniconda3/lib/python3.12/site-packages/numpy/_utils/_inspect.py\": 1708641728.310136, \"/opt/miniconda3/lib/python3.12/site-packages/numpy/core/_exceptions.py\": 1708641728.250479, \"/opt/miniconda3/lib/python3.12/site-packages/numpy/dtypes.py\": 1708641728.2444904, \"/opt/miniconda3/lib/python3.12/site-packages/numpy/core/_multiarray_umath.cpython-312-darwin.so\": 1708641736.2319357, \"/opt/miniconda3/lib/python3.12/site-packages/numpy/core/overrides.py\": 1708641728.263592, \"/opt/miniconda3/lib/python3.12/site-packages/numpy/core/multiarray.py\": 1708641728.2611234, \"/opt/miniconda3/lib/python3.12/site-packages/numpy/core/umath.py\": 1708641728.265458, \"/opt/miniconda3/lib/python3.12/site-packages/numpy/core/_string_helpers.py\": 1708641728.2524571, \"/opt/miniconda3/lib/python3.12/site-packages/numpy/compat/py3k.py\": 1708641728.3235817, \"/opt/miniconda3/lib/python3.12/site-packages/numpy/compat/__init__.py\": 1708641728.3232257, \"/opt/miniconda3/lib/python3.12/site-packages/numpy/core/_dtype.py\": 1708641728.2497816, \"/opt/miniconda3/lib/python3.12/site-packages/numpy/core/_type_aliases.py\": 1708641728.2528744, \"/opt/miniconda3/lib/python3.12/site-packages/numpy/core/numerictypes.py\": 1708641728.2629104, \"/opt/miniconda3/lib/python3.12/site-packages/numpy/core/_ufunc_config.py\": 1708641728.2536194, \"/opt/miniconda3/lib/python3.12/site-packages/numpy/core/_methods.py\": 1708641728.2520974, \"/opt/miniconda3/lib/python3.12/site-packages/numpy/core/fromnumeric.py\": 1708641728.2578368, \"/opt/miniconda3/lib/python3.12/site-packages/numpy/core/shape_base.py\": 1708641728.264813, \"/opt/miniconda3/lib/python3.12/site-packages/numpy/core/arrayprint.py\": 1708641728.2545362, \"/opt/miniconda3/lib/python3.12/site-packages/numpy/core/_asarray.py\": 1708641728.2490253, \"/opt/miniconda3/lib/python3.12/site-packages/numpy/core/numeric.py\": 1708641728.2621322, \"/opt/miniconda3/lib/python3.12/site-packages/numpy/core/defchararray.py\": 1708641728.2557602, \"/opt/miniconda3/lib/python3.12/site-packages/numpy/core/records.py\": 1708641728.2640421, \"/opt/miniconda3/lib/python3.12/site-packages/numpy/core/memmap.py\": 1708641728.260253, \"/opt/miniconda3/lib/python3.12/site-packages/numpy/core/function_base.py\": 1708641728.258753, \"/opt/miniconda3/lib/python3.12/site-packages/numpy/core/_machar.py\": 1708641728.2517316, \"/opt/miniconda3/lib/python3.12/site-packages/numpy/core/getlimits.py\": 1708641728.2595468, \"/opt/miniconda3/lib/python3.12/site-packages/numpy/core/einsumfunc.py\": 1708641728.256708, \"/opt/miniconda3/lib/python3.12/site-packages/numpy/core/_multiarray_tests.cpython-312-darwin.so\": 1708641735.4299352, \"/opt/miniconda3/lib/python3.12/site-packages/numpy/core/_add_newdocs.py\": 1708641728.2476645, \"/opt/miniconda3/lib/python3.12/site-packages/numpy/core/_add_newdocs_scalars.py\": 1708641728.2481687, \"/opt/miniconda3/lib/python3.12/site-packages/numpy/core/_dtype_ctypes.py\": 1708641728.2501373, \"/opt/miniconda3/lib/python3.12/site-packages/numpy/core/_internal.py\": 1708641728.2509964, \"/opt/miniconda3/lib/python3.12/site-packages/numpy/_pytesttester.py\": 1708641728.2409868, \"/opt/miniconda3/lib/python3.12/site-packages/numpy/core/__init__.py\": 1708641728.2461152, \"/opt/miniconda3/lib/python3.12/site-packages/numpy/__config__.py\": 1733414259.5908148, \"/opt/miniconda3/lib/python3.12/site-packages/numpy/lib/mixins.py\": 1708641728.4106236, \"/opt/miniconda3/lib/python3.12/site-packages/numpy/lib/ufunclike.py\": 1708641728.4217627, \"/opt/miniconda3/lib/python3.12/site-packages/numpy/lib/type_check.py\": 1708641728.4210575, \"/opt/miniconda3/lib/python3.12/site-packages/numpy/lib/scimath.py\": 1708641728.4166522, \"/opt/miniconda3/lib/python3.12/site-packages/numpy/lib/stride_tricks.py\": 1708641728.4184878, \"/opt/miniconda3/lib/python3.12/site-packages/numpy/lib/twodim_base.py\": 1708641728.4192514, \"/opt/miniconda3/lib/python3.12/site-packages/numpy/linalg/_umath_linalg.cpython-312-darwin.so\": 1708641734.9068167, \"/opt/miniconda3/lib/python3.12/site-packages/numpy/_typing/_nested_sequence.py\": 1708641728.307776, \"/opt/miniconda3/lib/python3.12/site-packages/numpy/_typing/_nbit.py\": 1708641728.307445, \"/opt/miniconda3/lib/python3.12/site-packages/numpy/_typing/_char_codes.py\": 1708641728.3064387, \"/opt/miniconda3/lib/python3.12/site-packages/numpy/_typing/_scalars.py\": 1708641728.3080988, \"/opt/miniconda3/lib/python3.12/site-packages/numpy/_typing/_shape.py\": 1708641728.308414, \"/opt/miniconda3/lib/python3.12/site-packages/numpy/_typing/_dtype_like.py\": 1708641728.306787, \"/opt/miniconda3/lib/python3.12/site-packages/numpy/_typing/_array_like.py\": 1708641728.3057587, \"/opt/miniconda3/lib/python3.12/site-packages/numpy/_typing/__init__.py\": 1708641728.3050807, \"/opt/miniconda3/lib/python3.12/site-packages/numpy/linalg/linalg.py\": 1708641728.2810326, \"/opt/miniconda3/lib/python3.12/site-packages/numpy/linalg/__init__.py\": 1708641728.279995, \"/opt/miniconda3/lib/python3.12/site-packages/numpy/matrixlib/defmatrix.py\": 1708641728.4544568, \"/opt/miniconda3/lib/python3.12/site-packages/numpy/matrixlib/__init__.py\": 1708641728.4537454, \"/opt/miniconda3/lib/python3.12/site-packages/numpy/lib/histograms.py\": 1708641728.4091794, \"/opt/miniconda3/lib/python3.12/site-packages/numpy/lib/function_base.py\": 1708641728.4082782, \"/opt/miniconda3/lib/python3.12/site-packages/numpy/lib/index_tricks.py\": 1708641728.409946, \"/opt/miniconda3/lib/python3.12/site-packages/numpy/lib/nanfunctions.py\": 1708641728.412453, \"/opt/miniconda3/lib/python3.12/site-packages/numpy/lib/shape_base.py\": 1708641728.417761, \"/opt/miniconda3/lib/python3.12/site-packages/numpy/lib/polynomial.py\": 1708641728.41441, \"/opt/miniconda3/lib/python3.12/site-packages/numpy/lib/utils.py\": 1708641728.4228785, \"/opt/miniconda3/lib/python3.12/site-packages/numpy/lib/arraysetops.py\": 1708641728.4044313, \"/opt/miniconda3/lib/python3.12/site-packages/numpy/lib/format.py\": 1708641728.4059255, \"/opt/miniconda3/lib/python3.12/site-packages/numpy/lib/_datasource.py\": 1708641728.4009812, \"/opt/miniconda3/lib/python3.12/site-packages/numpy/lib/_iotools.py\": 1708641728.4014208, \"/opt/miniconda3/lib/python3.12/site-packages/numpy/lib/npyio.py\": 1708641728.4135427, \"/opt/miniconda3/lib/python3.12/site-packages/numpy/lib/arrayterator.py\": 1708641728.4051423, \"/opt/miniconda3/lib/python3.12/site-packages/numpy/lib/arraypad.py\": 1708641728.4036338, \"/opt/miniconda3/lib/python3.12/site-packages/numpy/lib/_version.py\": 1708641728.4017875, \"/opt/miniconda3/lib/python3.12/site-packages/numpy/lib/__init__.py\": 1708641728.4002242, \"/opt/miniconda3/lib/python3.12/site-packages/numpy/fft/_pocketfft_internal.cpython-312-darwin.so\": 1708641739.7654762, \"/opt/miniconda3/lib/python3.12/site-packages/numpy/fft/_pocketfft.py\": 1708641728.277519, \"/opt/miniconda3/lib/python3.12/site-packages/numpy/fft/helper.py\": 1708641728.2782238, \"/opt/miniconda3/lib/python3.12/site-packages/numpy/fft/__init__.py\": 1708641728.2766774, \"/opt/miniconda3/lib/python3.12/site-packages/numpy/polynomial/polyutils.py\": 1708641728.4669068, \"/opt/miniconda3/lib/python3.12/site-packages/numpy/polynomial/_polybase.py\": 1708641728.461151, \"/opt/miniconda3/lib/python3.12/site-packages/numpy/polynomial/polynomial.py\": 1708641728.4661527, \"/opt/miniconda3/lib/python3.12/site-packages/numpy/polynomial/chebyshev.py\": 1708641728.4620318, \"/opt/miniconda3/lib/python3.12/site-packages/numpy/polynomial/legendre.py\": 1708641728.4653237, \"/opt/miniconda3/lib/python3.12/site-packages/numpy/polynomial/hermite.py\": 1708641728.46286, \"/opt/miniconda3/lib/python3.12/site-packages/numpy/polynomial/hermite_e.py\": 1708641728.4636781, \"/opt/miniconda3/lib/python3.12/site-packages/numpy/polynomial/laguerre.py\": 1708641728.464496, \"/opt/miniconda3/lib/python3.12/site-packages/numpy/polynomial/__init__.py\": 1708641728.4600375, \"/opt/miniconda3/lib/python3.12/site-packages/numpy/random/_common.cpython-312-darwin.so\": 1708641740.0534036, \"/opt/miniconda3/lib/python3.12/secrets.py\": 1728049823.9619088, \"/opt/miniconda3/lib/python3.12/site-packages/numpy/random/bit_generator.cpython-312-darwin.so\": 1708641737.9493575, \"/opt/miniconda3/lib/python3.12/site-packages/numpy/random/_bounded_integers.cpython-312-darwin.so\": 1708641739.471925, \"/opt/miniconda3/lib/python3.12/site-packages/numpy/random/_mt19937.cpython-312-darwin.so\": 1708641737.023138, \"/opt/miniconda3/lib/python3.12/site-packages/numpy/random/mtrand.cpython-312-darwin.so\": 1708641738.2594504, \"/opt/miniconda3/lib/python3.12/site-packages/numpy/random/_philox.cpython-312-darwin.so\": 1708641737.6885812, \"/opt/miniconda3/lib/python3.12/site-packages/numpy/random/_pcg64.cpython-312-darwin.so\": 1708641738.879862, \"/opt/miniconda3/lib/python3.12/site-packages/numpy/random/_sfc64.cpython-312-darwin.so\": 1708641735.7020698, \"/opt/miniconda3/lib/python3.12/site-packages/numpy/random/_generator.cpython-312-darwin.so\": 1708641737.2941065, \"/opt/miniconda3/lib/python3.12/site-packages/numpy/random/_pickle.py\": 1708641728.2863421, \"/opt/miniconda3/lib/python3.12/site-packages/numpy/random/__init__.py\": 1708641728.2842069, \"/opt/miniconda3/lib/python3.12/site-packages/numpy/ctypeslib.py\": 1708641728.2420726, \"/opt/miniconda3/lib/python3.12/site-packages/numpy/ma/core.py\": 1708641728.4445992, \"/opt/miniconda3/lib/python3.12/site-packages/numpy/ma/extras.py\": 1708641728.4456127, \"/opt/miniconda3/lib/python3.12/site-packages/numpy/ma/__init__.py\": 1708641728.4421797, \"/opt/miniconda3/lib/python3.12/site-packages/numpy/__init__.py\": 1708641728.2391238, \"/opt/miniconda3/lib/python3.12/site-packages/matplotlib/_c_internal_utils.cpython-312-darwin.so\": 1732550914.676054, \"/opt/miniconda3/lib/python3.12/site-packages/matplotlib/cbook.py\": 1732550909.514727, \"/opt/miniconda3/lib/python3.12/site-packages/matplotlib/_docstring.py\": 1732550909.5069437, \"/opt/miniconda3/lib/python3.12/site-packages/matplotlib/backends/registry.py\": 1732550909.574065, \"/opt/miniconda3/lib/python3.12/site-packages/matplotlib/backends/__init__.py\": 1732550909.5586019, \"/opt/miniconda3/lib/python3.12/site-packages/PIL/_version.py\": 1731594935.43416, \"/opt/miniconda3/lib/python3.12/site-packages/PIL/__init__.py\": 1731594935.422887, \"/opt/miniconda3/lib/python3.12/site-packages/PIL/ExifTags.py\": 1731594935.389489, \"/opt/miniconda3/lib/python3.12/site-packages/PIL/_deprecate.py\": 1731594935.424038, \"/opt/miniconda3/lib/python3.12/site-packages/PIL/ImageMode.py\": 1731594935.402493, \"/opt/miniconda3/lib/python3.12/site-packages/PIL/TiffTags.py\": 1731594935.420122, \"/opt/miniconda3/lib/python3.12/site-packages/PIL/_binary.py\": 1731594935.423648, \"/opt/miniconda3/lib/python3.12/site-packages/PIL/_typing.py\": 1731594935.433419, \"/opt/miniconda3/lib/python3.12/site-packages/PIL/_util.py\": 1731594935.433797, \"/opt/miniconda3/lib/python3.12/site-packages/defusedxml/common.py\": 1615228157.0, \"/opt/miniconda3/lib/python3.12/site-packages/defusedxml/__init__.py\": 1615228157.0, \"/opt/miniconda3/lib/python3.12/xml/etree/__init__.py\": 1728049826.206141, \"/opt/miniconda3/lib/python3.12/xml/etree/ElementPath.py\": 1728049826.1990287, \"/opt/miniconda3/lib/python3.12/lib-dynload/_elementtree.cpython-312-darwin.so\": 1728049866.3539364, \"/opt/miniconda3/lib/python3.12/xml/etree/ElementTree.py\": 1728049826.202683, \"/opt/miniconda3/lib/python3.12/site-packages/defusedxml/ElementTree.py\": 1615228157.0, \"/opt/miniconda3/lib/python3.12/site-packages/PIL/_imaging.cpython-312-darwin.so\": 1731594940.4757879, \"/opt/miniconda3/lib/python3.12/site-packages/PIL/Image.py\": 1731594935.396808, \"/opt/miniconda3/lib/python3.12/site-packages/PIL/ImageChops.py\": 1731594935.397271, \"/opt/miniconda3/lib/python3.12/site-packages/PIL/ImageFile.py\": 1731594935.400113, \"/opt/miniconda3/lib/python3.12/site-packages/PIL/GimpGradientFile.py\": 1731594935.393256, \"/opt/miniconda3/lib/python3.12/site-packages/PIL/GimpPaletteFile.py\": 1731594935.393633, \"/opt/miniconda3/lib/python3.12/site-packages/PIL/ImageColor.py\": 1731594935.398256, \"/opt/miniconda3/lib/python3.12/site-packages/PIL/PaletteFile.py\": 1731594935.412048, \"/opt/miniconda3/lib/python3.12/site-packages/PIL/ImagePalette.py\": 1731594935.40382, \"/opt/miniconda3/lib/python3.12/site-packages/PIL/ImageSequence.py\": 1731594935.404999, \"/opt/miniconda3/lib/python3.12/site-packages/PIL/PngImagePlugin.py\": 1731594935.415605, \"/opt/miniconda3/lib/python3.12/site-packages/matplotlib/_cm.py\": 1732550909.505216, \"/opt/miniconda3/lib/python3.12/site-packages/numpy/_core/__init__.py\": 1708641728.3109102, \"/opt/miniconda3/lib/python3.12/site-packages/matplotlib/_path.cpython-312-darwin.so\": 1732550915.3403997, \"/opt/miniconda3/lib/python3.12/site-packages/matplotlib/bezier.py\": 1732550909.5139265, \"/opt/miniconda3/lib/python3.12/site-packages/matplotlib/path.py\": 1732550909.5249002, \"/opt/miniconda3/lib/python3.12/site-packages/matplotlib/transforms.py\": 1732550909.5310307, \"/opt/miniconda3/lib/python3.12/site-packages/matplotlib/ticker.py\": 1732550909.5304577, \"/opt/miniconda3/lib/python3.12/site-packages/matplotlib/scale.py\": 1732550909.5273807, \"/opt/miniconda3/lib/python3.12/site-packages/matplotlib/_color_data.py\": 1732550909.5062826, \"/opt/miniconda3/lib/python3.12/site-packages/matplotlib/colors.py\": 1732550909.5165446, \"/opt/miniconda3/lib/python3.12/site-packages/pyparsing/util.py\": 1731445693.947932, \"/opt/miniconda3/lib/python3.12/site-packages/pyparsing/unicode.py\": 1731445693.947451, \"/opt/miniconda3/lib/python3.12/site-packages/pyparsing/exceptions.py\": 1731445693.945326, \"/opt/miniconda3/lib/python3.12/site-packages/pyparsing/actions.py\": 1731445693.942999, \"/opt/miniconda3/lib/python3.12/site-packages/pyparsing/results.py\": 1731445693.946602, \"/opt/miniconda3/lib/python3.12/site-packages/pyparsing/core.py\": 1731445693.944849, \"/opt/miniconda3/lib/python3.12/site-packages/pyparsing/helpers.py\": 1731445693.945882, \"/opt/miniconda3/lib/python3.12/site-packages/pyparsing/testing.py\": 1731445693.94703, \"/opt/miniconda3/lib/python3.12/site-packages/pyparsing/common.py\": 1731445693.943443, \"/opt/miniconda3/lib/python3.12/site-packages/pyparsing/__init__.py\": 1731445693.94255, \"/opt/miniconda3/lib/python3.12/site-packages/matplotlib/_fontconfig_pattern.py\": 1732550909.5074944, \"/opt/miniconda3/lib/python3.12/site-packages/matplotlib/_enums.py\": 1732550909.5072181, \"/opt/miniconda3/lib/python3.12/site-packages/cycler.py\": 1637851582.0, \"/opt/miniconda3/lib/python3.12/site-packages/matplotlib/rcsetup.py\": 1732550909.5266912, \"/opt/miniconda3/lib/python3.12/site-packages/matplotlib/ft2font.cpython-312-darwin.so\": 1732550915.5419993, \"/opt/miniconda3/lib/python3.12/site-packages/kiwisolver/_cext.cpython-312-darwin.so\": 1699242280.2684069, \"/opt/miniconda3/lib/python3.12/site-packages/kiwisolver/__init__.py\": 1699242278.5671737, \"/opt/miniconda3/lib/python3.12/site-packages/matplotlib/_cm_listed.py\": 1732550909.5058732, \"/opt/miniconda3/lib/python3.12/site-packages/matplotlib/cm.py\": 1732550909.5150533, \"/opt/miniconda3/lib/python3.12/site-packages/matplotlib/__init__.py\": 1732550909.50388, \"/opt/miniconda3/lib/python3.12/site-packages/matplotlib/artist.py\": 1732550909.5116007, \"/opt/miniconda3/lib/python3.12/site-packages/matplotlib/hatch.py\": 1732550909.52016, \"/opt/miniconda3/lib/python3.12/site-packages/matplotlib/markers.py\": 1732550909.522465, \"/opt/miniconda3/lib/python3.12/site-packages/matplotlib/lines.py\": 1732550909.5221224, \"/opt/miniconda3/lib/python3.12/site-packages/matplotlib/collections.py\": 1732550909.5155635, \"/opt/miniconda3/lib/python3.12/site-packages/matplotlib/_pylab_helpers.py\": 1732550909.5094056, \"/opt/miniconda3/lib/python3.12/site-packages/matplotlib/backend_tools.py\": 1732550909.5136087, \"/opt/miniconda3/lib/python3.12/site-packages/matplotlib/_mathtext_data.py\": 1732550909.5091267, \"/opt/miniconda3/lib/python3.12/site-packages/matplotlib/_afm.py\": 1732550909.504206, \"/opt/miniconda3/lib/python3.12/site-packages/matplotlib/font_manager.py\": 1732550909.5195382, \"/opt/miniconda3/lib/python3.12/site-packages/matplotlib/patches.py\": 1732550909.524195, \"/opt/miniconda3/lib/python3.12/site-packages/matplotlib/_text_helpers.py\": 1732550909.5096955, \"/opt/miniconda3/lib/python3.12/site-packages/matplotlib/dviread.py\": 1732550909.5181649, \"/opt/miniconda3/lib/python3.12/site-packages/matplotlib/_mathtext.py\": 1732550909.508702, \"/opt/miniconda3/lib/python3.12/site-packages/matplotlib/mathtext.py\": 1732550909.5227475, \"/opt/miniconda3/lib/python3.12/site-packages/matplotlib/texmanager.py\": 1732550909.529034, \"/opt/miniconda3/lib/python3.12/site-packages/matplotlib/textpath.py\": 1732550909.5293498, \"/opt/miniconda3/lib/python3.12/site-packages/matplotlib/text.py\": 1732550909.5298407, \"/opt/miniconda3/lib/python3.12/site-packages/matplotlib/_tight_bbox.py\": 1732550909.5099685, \"/opt/miniconda3/lib/python3.12/site-packages/matplotlib/widgets.py\": 1732550909.5322986, \"/opt/miniconda3/lib/python3.12/site-packages/matplotlib/backend_managers.py\": 1732550909.513255, \"/opt/miniconda3/lib/python3.12/site-packages/matplotlib/_layoutgrid.py\": 1732550909.5080988, \"/opt/miniconda3/lib/python3.12/site-packages/matplotlib/_constrained_layout.py\": 1732550909.5066545, \"/opt/miniconda3/lib/python3.12/site-packages/matplotlib/_tight_layout.py\": 1732550909.5102577, \"/opt/miniconda3/lib/python3.12/site-packages/matplotlib/layout_engine.py\": 1732550909.5209434, \"/opt/miniconda3/lib/python3.12/site-packages/matplotlib/backend_bases.py\": 1732550909.5129383, \"/opt/miniconda3/lib/python3.12/site-packages/matplotlib/contour.py\": 1732550909.5173228, \"/opt/miniconda3/lib/python3.12/site-packages/matplotlib/spines.py\": 1732550909.527723, \"/opt/miniconda3/lib/python3.12/site-packages/matplotlib/colorbar.py\": 1732550909.515992, \"/opt/miniconda3/lib/python3.12/site-packages/matplotlib/_image.cpython-312-darwin.so\": 1732550914.808785, \"/opt/miniconda3/lib/python3.12/site-packages/matplotlib/image.py\": 1732550909.520647, \"/opt/miniconda3/lib/python3.12/site-packages/matplotlib/style/core.py\": 1732550909.581561, \"/opt/miniconda3/lib/python3.12/site-packages/matplotlib/style/__init__.py\": 1732550909.5812602, \"/opt/miniconda3/lib/python3.12/site-packages/matplotlib/_blocking_input.py\": 1732550909.504786, \"/opt/miniconda3/lib/python3.12/site-packages/matplotlib/offsetbox.py\": 1732550909.523499, \"/opt/miniconda3/lib/python3.12/site-packages/matplotlib/units.py\": 1732550909.531599, \"/opt/miniconda3/lib/python3.12/site-packages/matplotlib/axis.py\": 1732550909.5121648, \"/opt/miniconda3/lib/python3.12/site-packages/matplotlib/gridspec.py\": 1732550909.5198898, \"/opt/miniconda3/lib/python3.12/site-packages/matplotlib/table.py\": 1732550909.5287066, \"/opt/miniconda3/lib/python3.12/site-packages/matplotlib/axes/_base.py\": 1732550909.5567563, \"/opt/miniconda3/lib/python3.12/site-packages/matplotlib/category.py\": 1732550909.5141966, \"/opt/miniconda3/lib/python3.12/site-packages/dateutil/rrule.py\": 1716495777.705522, \"/opt/miniconda3/lib/python3.12/site-packages/matplotlib/dates.py\": 1732550909.5177693, \"/opt/miniconda3/lib/python3.12/site-packages/matplotlib/container.py\": 1732550909.5168235, \"/opt/miniconda3/lib/python3.12/site-packages/matplotlib/legend_handler.py\": 1732550909.5212634, \"/opt/miniconda3/lib/python3.12/site-packages/matplotlib/legend.py\": 1732550909.5216925, \"/opt/miniconda3/lib/python3.12/site-packages/matplotlib/mlab.py\": 1732550909.5230944, \"/opt/miniconda3/lib/python3.12/site-packages/matplotlib/quiver.py\": 1732550909.5262687, \"/opt/miniconda3/lib/python3.12/site-packages/matplotlib/stackplot.py\": 1732550909.5280023, \"/opt/miniconda3/lib/python3.12/site-packages/matplotlib/streamplot.py\": 1732550909.5283427, \"/opt/miniconda3/lib/python3.12/site-packages/matplotlib/tri/_triangulation.py\": 1732550909.6330307, \"/opt/miniconda3/lib/python3.12/site-packages/matplotlib/tri/_tricontour.py\": 1732550909.6333148, \"/opt/miniconda3/lib/python3.12/site-packages/matplotlib/tri/_trifinder.py\": 1732550909.6335921, \"/opt/miniconda3/lib/python3.12/site-packages/matplotlib/tri/_tritools.py\": 1732550909.6352034, \"/opt/miniconda3/lib/python3.12/site-packages/matplotlib/tri/_triinterpolate.py\": 1732550909.6340704, \"/opt/miniconda3/lib/python3.12/site-packages/matplotlib/tri/_tripcolor.py\": 1732550909.6343486, \"/opt/miniconda3/lib/python3.12/site-packages/matplotlib/tri/_triplot.py\": 1732550909.634629, \"/opt/miniconda3/lib/python3.12/site-packages/matplotlib/tri/_trirefine.py\": 1732550909.6349096, \"/opt/miniconda3/lib/python3.12/site-packages/matplotlib/tri/__init__.py\": 1732550909.6327572, \"/opt/miniconda3/lib/python3.12/site-packages/matplotlib/axes/_secondary_axes.py\": 1732550909.55728, \"/opt/miniconda3/lib/python3.12/site-packages/matplotlib/axes/_axes.py\": 1732550909.5558975, \"/opt/miniconda3/lib/python3.12/site-packages/matplotlib/axes/__init__.py\": 1732550909.5545588, \"/opt/miniconda3/lib/python3.12/site-packages/matplotlib/projections/geo.py\": 1732550909.5781803, \"/opt/miniconda3/lib/python3.12/site-packages/matplotlib/projections/polar.py\": 1732550909.5786288, \"/opt/miniconda3/lib/python3.12/site-packages/mpl_toolkits/mplot3d/proj3d.py\": 1732550909.6538575, \"/opt/miniconda3/lib/python3.12/site-packages/mpl_toolkits/mplot3d/art3d.py\": 1732550909.652091, \"/opt/miniconda3/lib/python3.12/site-packages/mpl_toolkits/mplot3d/axis3d.py\": 1732550909.6532516, \"/opt/miniconda3/lib/python3.12/site-packages/mpl_toolkits/mplot3d/axes3d.py\": 1732550909.6527853, \"/opt/miniconda3/lib/python3.12/site-packages/mpl_toolkits/mplot3d/__init__.py\": 1732550909.651694, \"/opt/miniconda3/lib/python3.12/site-packages/matplotlib/projections/__init__.py\": 1732550909.5778527, \"/opt/miniconda3/lib/python3.12/site-packages/matplotlib/figure.py\": 1732550909.5188148, \"/opt/miniconda3/lib/python3.12/site-packages/matplotlib/pyplot.py\": 1732550909.525822, \"/opt/miniconda3/lib/python3.12/site-packages/matplotlib/backends/_backend_agg.cpython-312-darwin.so\": 1732550916.1096199, \"/opt/miniconda3/lib/python3.12/site-packages/matplotlib/backends/backend_agg.py\": 1732550909.5589252, \"/opt/miniconda3/lib/python3.12/site-packages/IPython/core/pylabtools.py\": 1726064483.820979, \"/opt/miniconda3/lib/python3.12/site-packages/matplotlib_inline/config.py\": 1699248742.771336, \"/opt/miniconda3/lib/python3.12/site-packages/matplotlib_inline/backend_inline.py\": 1699248742.7710245, \"/opt/miniconda3/lib/python3.12/site-packages/matplotlib_inline/__init__.py\": 1699248742.7706745, \"/opt/miniconda3/lib/python3.12/site-packages/pytz/exceptions.py\": 1713974461.489898, \"/opt/miniconda3/lib/python3.12/site-packages/pytz/lazy.py\": 1713974461.490167, \"/opt/miniconda3/lib/python3.12/site-packages/pytz/tzinfo.py\": 1713974461.491009, \"/opt/miniconda3/lib/python3.12/site-packages/pytz/tzfile.py\": 1713974461.490702, \"/opt/miniconda3/lib/python3.12/site-packages/pytz/__init__.py\": 1713974461.489605, \"/opt/miniconda3/lib/python3.12/site-packages/pandas/compat/_constants.py\": 1732737764.653205, \"/opt/miniconda3/lib/python3.12/site-packages/pandas/compat/compressors.py\": 1732737764.653788, \"/opt/miniconda3/lib/python3.12/site-packages/pandas/util/__init__.py\": 1732737765.133083, \"/opt/miniconda3/lib/python3.12/site-packages/pandas/util/version/__init__.py\": 1732737765.135821, \"/opt/miniconda3/lib/python3.12/site-packages/pandas/compat/numpy/__init__.py\": 1732737764.654758, \"/opt/miniconda3/lib/python3.12/site-packages/pandas/compat/pyarrow.py\": 1732737764.654386, \"/opt/miniconda3/lib/python3.12/site-packages/pandas/compat/__init__.py\": 1732737764.652893, \"/opt/miniconda3/lib/python3.12/site-packages/pandas/_typing.py\": 1732737764.644998, \"/opt/miniconda3/lib/python3.12/site-packages/pandas/util/_exceptions.py\": 1732737765.134379, \"/opt/miniconda3/lib/python3.12/site-packages/pandas/_config/config.py\": 1732737764.646764, \"/opt/miniconda3/lib/python3.12/site-packages/pandas/_config/dates.py\": 1732737764.647068, \"/opt/miniconda3/lib/python3.12/site-packages/pandas/_config/display.py\": 1732737764.647351, \"/opt/miniconda3/lib/python3.12/site-packages/pandas/_config/__init__.py\": 1732737764.646463, \"/opt/miniconda3/lib/python3.12/site-packages/pandas/core/__init__.py\": 1732737764.655307, \"/opt/miniconda3/lib/python3.12/site-packages/pandas/core/config_init.py\": 1732737764.658027, \"/opt/miniconda3/lib/python3.12/site-packages/pandas/_libs/pandas_parser.cpython-312-darwin.so\": 1732737798.3248496, \"/opt/miniconda3/lib/python3.12/site-packages/pandas/_libs/pandas_datetime.cpython-312-darwin.so\": 1732737803.754596, \"/opt/miniconda3/lib/python3.12/site-packages/pandas/_libs/tslibs/ccalendar.cpython-312-darwin.so\": 1732737801.9295917, \"/opt/miniconda3/lib/python3.12/site-packages/pandas/_libs/tslibs/np_datetime.cpython-312-darwin.so\": 1732737807.2662807, \"/opt/miniconda3/lib/python3.12/site-packages/pandas/_libs/tslibs/dtypes.cpython-312-darwin.so\": 1732737799.0073354, \"/opt/miniconda3/lib/python3.12/site-packages/pandas/_libs/tslibs/base.cpython-312-darwin.so\": 1732737803.1467137, \"/opt/miniconda3/lib/python3.12/site-packages/pandas/_libs/tslibs/nattype.cpython-312-darwin.so\": 1732737801.2482042, \"/opt/miniconda3/lib/python3.12/site-packages/pandas/compat/_optional.py\": 1732737764.653493, \"/opt/miniconda3/lib/python3.12/zoneinfo/_tzpath.py\": 1728049826.298533, \"/opt/miniconda3/lib/python3.12/zoneinfo/_common.py\": 1728049826.2953067, \"/opt/miniconda3/lib/python3.12/lib-dynload/_zoneinfo.cpython-312-darwin.so\": 1728049865.425464, \"/opt/miniconda3/lib/python3.12/zoneinfo/__init__.py\": 1728049826.2919593, \"/opt/miniconda3/lib/python3.12/site-packages/pandas/_libs/tslibs/timezones.cpython-312-darwin.so\": 1732737801.469538, \"/opt/miniconda3/lib/python3.12/site-packages/pandas/_config/localization.py\": 1732737764.647643, \"/opt/miniconda3/lib/python3.12/site-packages/pandas/_libs/tslibs/fields.cpython-312-darwin.so\": 1732737800.1162734, \"/opt/miniconda3/lib/python3.12/site-packages/pandas/_libs/tslibs/timedeltas.cpython-312-darwin.so\": 1732737804.9882302, \"/opt/miniconda3/lib/python3.12/site-packages/pandas/_libs/tslibs/tzconversion.cpython-312-darwin.so\": 1732737804.1589227, \"/opt/miniconda3/lib/python3.12/site-packages/pandas/_libs/tslibs/timestamps.cpython-312-darwin.so\": 1732737799.685249, \"/opt/miniconda3/lib/python3.12/site-packages/pandas/_libs/properties.cpython-312-darwin.so\": 1732737800.3369193, \"/opt/miniconda3/lib/python3.12/site-packages/pandas/_libs/tslibs/offsets.cpython-312-darwin.so\": 1732737798.8004348, \"/opt/miniconda3/lib/python3.12/site-packages/pandas/_libs/tslibs/strptime.cpython-312-darwin.so\": 1732737805.9056463, \"/opt/miniconda3/lib/python3.12/site-packages/pandas/_libs/tslibs/parsing.cpython-312-darwin.so\": 1732737804.3707416, \"/opt/miniconda3/lib/python3.12/site-packages/pandas/_libs/tslibs/conversion.cpython-312-darwin.so\": 1732737800.7814882, \"/opt/miniconda3/lib/python3.12/site-packages/pandas/_libs/tslibs/period.cpython-312-darwin.so\": 1732737805.4118786, \"/opt/miniconda3/lib/python3.12/site-packages/pandas/_libs/tslibs/vectorized.cpython-312-darwin.so\": 1732737798.1107292, \"/opt/miniconda3/lib/python3.12/site-packages/pandas/_libs/tslibs/__init__.py\": 1732737764.631707, \"/opt/miniconda3/lib/python3.12/site-packages/pandas/_libs/ops_dispatch.cpython-312-darwin.so\": 1732737804.7720113, \"/opt/miniconda3/lib/python3.12/site-packages/pandas/_libs/missing.cpython-312-darwin.so\": 1732737802.532954, \"/opt/miniconda3/lib/python3.12/site-packages/pandas/_libs/hashtable.cpython-312-darwin.so\": 1732737802.9467096, \"/opt/miniconda3/lib/python3.12/site-packages/pandas/_libs/algos.cpython-312-darwin.so\": 1732737802.7444022, \"/opt/miniconda3/lib/python3.12/site-packages/pandas/_libs/interval.cpython-312-darwin.so\": 1732737806.873723, \"/opt/miniconda3/lib/python3.12/site-packages/pandas/_libs/__init__.py\": 1732737764.636614, \"/opt/miniconda3/lib/python3.12/site-packages/pandas/core/dtypes/__init__.py\": 1732737764.682376, \"/opt/miniconda3/lib/python3.12/site-packages/pandas/_libs/lib.cpython-312-darwin.so\": 1732737806.6446528, \"/opt/miniconda3/lib/python3.12/site-packages/pandas/errors/__init__.py\": 1732737764.721538, \"/opt/miniconda3/lib/python3.12/site-packages/pandas/core/dtypes/generic.py\": 1732737764.68478, \"/opt/miniconda3/lib/python3.12/site-packages/pandas/core/dtypes/base.py\": 1732737764.68323, \"/opt/miniconda3/lib/python3.12/site-packages/pandas/core/dtypes/inference.py\": 1732737764.685072, \"/opt/miniconda3/lib/python3.12/site-packages/pandas/core/dtypes/dtypes.py\": 1732737764.684486, \"/opt/miniconda3/lib/python3.12/site-packages/pandas/core/dtypes/common.py\": 1732737764.68387, \"/opt/miniconda3/lib/python3.12/site-packages/pandas/core/dtypes/missing.py\": 1732737764.685368, \"/opt/miniconda3/lib/python3.12/site-packages/pandas/util/_decorators.py\": 1732737765.133813, \"/opt/miniconda3/lib/python3.12/site-packages/pandas/io/__init__.py\": 1732737764.721893, \"/opt/miniconda3/lib/python3.12/site-packages/pandas/io/_util.py\": 1732737764.722154, \"/opt/miniconda3/lib/python3.12/site-packages/pandas/core/dtypes/cast.py\": 1732737764.683557, \"/opt/miniconda3/lib/python3.12/site-packages/pandas/core/dtypes/astype.py\": 1732737764.682945, \"/opt/miniconda3/lib/python3.12/site-packages/pandas/core/dtypes/concat.py\": 1732737764.684158, \"/opt/miniconda3/lib/python3.12/site-packages/pandas/core/array_algos/__init__.py\": 1732737764.666072, \"/opt/miniconda3/lib/python3.12/site-packages/pandas/core/common.py\": 1732737764.657701, \"/opt/miniconda3/lib/python3.12/site-packages/pandas/core/construction.py\": 1732737764.658425, \"/opt/miniconda3/lib/python3.12/site-packages/pandas/core/array_algos/take.py\": 1732737764.668205, \"/opt/miniconda3/lib/python3.12/site-packages/pandas/core/indexers/utils.py\": 1732737764.689377, \"/opt/miniconda3/lib/python3.12/site-packages/pandas/core/indexers/__init__.py\": 1732737764.68878, \"/opt/miniconda3/lib/python3.12/site-packages/pandas/core/algorithms.py\": 1732737764.655905, \"/opt/miniconda3/lib/python3.12/site-packages/pandas/core/arrays/arrow/accessors.py\": 1732737764.675461, \"/opt/miniconda3/lib/python3.12/site-packages/pandas/util/_validators.py\": 1732737765.135451, \"/opt/miniconda3/lib/python3.12/site-packages/pandas/core/missing.py\": 1732737764.660683, \"/opt/miniconda3/lib/python3.12/site-packages/pandas/_libs/ops.cpython-312-darwin.so\": 1732737802.3362865, \"/opt/miniconda3/lib/python3.12/site-packages/pandas/core/roperator.py\": 1732737764.661587, \"/opt/miniconda3/lib/python3.12/site-packages/pandas/core/computation/__init__.py\": 1732737764.677815, \"/opt/miniconda3/lib/python3.12/site-packages/numexpr/interpreter.cpython-312-darwin.so\": 1730216036.1785843, \"/opt/miniconda3/lib/python3.12/site-packages/numexpr/expressions.py\": 1730216031.679648, \"/opt/miniconda3/lib/python3.12/site-packages/numexpr/version.py\": 1730216031.686551, \"/opt/miniconda3/lib/python3.12/site-packages/numexpr/utils.py\": 1730216031.686257, \"/opt/miniconda3/lib/python3.12/site-packages/numexpr/necompiler.py\": 1730216031.684302, \"/opt/miniconda3/lib/python3.12/site-packages/numexpr/__init__.py\": 1730216031.678539, \"/opt/miniconda3/lib/python3.12/site-packages/pandas/core/computation/check.py\": 1732737764.678695, \"/opt/miniconda3/lib/python3.12/site-packages/pandas/core/computation/expressions.py\": 1732737764.680816, \"/opt/miniconda3/lib/python3.12/site-packages/pandas/core/ops/missing.py\": 1732737764.707979, \"/opt/miniconda3/lib/python3.12/site-packages/pandas/core/ops/dispatch.py\": 1732737764.705989, \"/opt/miniconda3/lib/python3.12/site-packages/pandas/core/ops/invalid.py\": 1732737764.706537, \"/opt/miniconda3/lib/python3.12/site-packages/pandas/core/ops/array_ops.py\": 1732737764.705442, \"/opt/miniconda3/lib/python3.12/site-packages/pandas/core/ops/common.py\": 1732737764.705717, \"/opt/miniconda3/lib/python3.12/site-packages/pandas/core/ops/docstrings.py\": 1732737764.706264, \"/opt/miniconda3/lib/python3.12/site-packages/pandas/core/ops/mask_ops.py\": 1732737764.706808, \"/opt/miniconda3/lib/python3.12/site-packages/pandas/core/ops/__init__.py\": 1732737764.705156, \"/opt/miniconda3/lib/python3.12/site-packages/pandas/core/arraylike.py\": 1732737764.656778, \"/opt/miniconda3/lib/python3.12/site-packages/pandas/core/arrays/_arrow_string_mixins.py\": 1732737764.669167, \"/opt/miniconda3/lib/python3.12/site-packages/pandas/core/arrays/_utils.py\": 1732737764.669978, \"/opt/miniconda3/lib/python3.12/site-packages/pandas/compat/numpy/function.py\": 1732737764.655046, \"/opt/miniconda3/lib/python3.12/site-packages/pandas/core/array_algos/quantile.py\": 1732737764.66763, \"/opt/miniconda3/lib/python3.12/site-packages/pandas/core/sorting.py\": 1732737764.662878, \"/opt/miniconda3/lib/python3.12/site-packages/pandas/core/arrays/base.py\": 1732737764.670308, \"/opt/miniconda3/lib/python3.12/site-packages/bottleneck/benchmark/__init__.py\": 1731058911.446812, \"/opt/miniconda3/lib/python3.12/site-packages/bottleneck/benchmark/autotimeit.py\": 1731058911.447179, \"/opt/miniconda3/lib/python3.12/site-packages/bottleneck/benchmark/bench.py\": 1731058911.447591, \"/opt/miniconda3/lib/python3.12/site-packages/bottleneck/benchmark/bench_detailed.py\": 1731058911.447993, \"/opt/miniconda3/lib/python3.12/site-packages/bottleneck/tests/__init__.py\": 1731058911.451417, \"/opt/miniconda3/lib/python3.12/site-packages/bottleneck/tests/util.py\": 1731058911.455614, \"/opt/miniconda3/lib/python3.12/site-packages/bottleneck/slow/reduce.py\": 1731058911.44998, \"/opt/miniconda3/lib/python3.12/site-packages/bottleneck/slow/nonreduce.py\": 1731058911.449231, \"/opt/miniconda3/lib/python3.12/site-packages/bottleneck/slow/nonreduce_axis.py\": 1731058911.449608, \"/opt/miniconda3/lib/python3.12/site-packages/bottleneck/slow/move.py\": 1731058911.448867, \"/opt/miniconda3/lib/python3.12/site-packages/bottleneck/slow/__init__.py\": 1731058911.448481, \"/opt/miniconda3/lib/python3.12/site-packages/bottleneck/_pytesttester.py\": 1731058911.442896, \"/opt/miniconda3/lib/python3.12/site-packages/bottleneck/move.cpython-312-darwin.so\": 1731058914.735085, \"/opt/miniconda3/lib/python3.12/site-packages/bottleneck/nonreduce.cpython-312-darwin.so\": 1731058914.928916, \"/opt/miniconda3/lib/python3.12/site-packages/bottleneck/nonreduce_axis.cpython-312-darwin.so\": 1731058914.5478175, \"/opt/miniconda3/lib/python3.12/site-packages/bottleneck/reduce.cpython-312-darwin.so\": 1731058915.1122937, \"/opt/miniconda3/lib/python3.12/site-packages/bottleneck/_version.py\": 1731058911.443263, \"/opt/miniconda3/lib/python3.12/site-packages/bottleneck/__init__.py\": 1731058911.442502, \"/opt/miniconda3/lib/python3.12/site-packages/pandas/core/nanops.py\": 1732737764.660983, \"/opt/miniconda3/lib/python3.12/site-packages/pandas/core/array_algos/masked_accumulations.py\": 1732737764.666621, \"/opt/miniconda3/lib/python3.12/site-packages/pandas/core/array_algos/masked_reductions.py\": 1732737764.666889, \"/opt/miniconda3/lib/python3.12/site-packages/pandas/core/util/__init__.py\": 1732737764.716724, \"/opt/miniconda3/lib/python3.12/site-packages/pandas/_libs/hashing.cpython-312-darwin.so\": 1732737801.6733642, \"/opt/miniconda3/lib/python3.12/site-packages/pandas/core/util/hashing.py\": 1732737764.717006, \"/opt/miniconda3/lib/python3.12/site-packages/pandas/core/arrays/masked.py\": 1732737764.672736, \"/opt/miniconda3/lib/python3.12/site-packages/pandas/_libs/arrays.cpython-312-darwin.so\": 1732737803.5596893, \"/opt/miniconda3/lib/python3.12/site-packages/pandas/core/arrays/numeric.py\": 1732737764.67302, \"/opt/miniconda3/lib/python3.12/site-packages/pandas/core/arrays/floating.py\": 1732737764.671857, \"/opt/miniconda3/lib/python3.12/site-packages/pandas/core/arrays/integer.py\": 1732737764.672127, \"/opt/miniconda3/lib/python3.12/site-packages/pandas/core/array_algos/transforms.py\": 1732737764.668501, \"/opt/miniconda3/lib/python3.12/site-packages/pandas/core/arrays/_mixins.py\": 1732737764.669437, \"/opt/miniconda3/lib/python3.12/site-packages/pandas/core/strings/__init__.py\": 1732737764.713075, \"/opt/miniconda3/lib/python3.12/site-packages/pandas/core/strings/base.py\": 1732737764.713705, \"/opt/miniconda3/lib/python3.12/site-packages/pandas/core/strings/object_array.py\": 1732737764.713985, \"/opt/miniconda3/lib/python3.12/site-packages/pandas/core/arrays/numpy_.py\": 1732737764.673307, \"/opt/miniconda3/lib/python3.12/site-packages/pandas/core/arrays/string_.py\": 1732737764.673901, \"/opt/miniconda3/lib/python3.12/site-packages/pandas/tseries/__init__.py\": 1732737765.130202, \"/opt/miniconda3/lib/python3.12/site-packages/pandas/tseries/frequencies.py\": 1732737765.132121, \"/opt/miniconda3/lib/python3.12/site-packages/pandas/core/arrays/arrow/array.py\": 1732737764.675814, \"/opt/miniconda3/lib/python3.12/site-packages/pandas/core/arrays/arrow/__init__.py\": 1732737764.674897, \"/opt/miniconda3/lib/python3.12/site-packages/pandas/core/arrays/boolean.py\": 1732737764.670587, \"/opt/miniconda3/lib/python3.12/site-packages/pandas/core/accessor.py\": 1732737764.655594, \"/opt/miniconda3/lib/python3.12/site-packages/pandas/core/base.py\": 1732737764.657268, \"/opt/miniconda3/lib/python3.12/site-packages/pandas/io/formats/__init__.py\": 1732737764.733764, \"/opt/miniconda3/lib/python3.12/site-packages/pandas/io/formats/console.py\": 1732737764.734314, \"/opt/miniconda3/lib/python3.12/site-packages/pandas/core/arrays/categorical.py\": 1732737764.670915, \"/opt/miniconda3/lib/python3.12/site-packages/pandas/_libs/tslib.cpython-312-darwin.so\": 1732737802.1365027, \"/opt/miniconda3/lib/python3.12/site-packages/pandas/core/array_algos/datetimelike_accumulations.py\": 1732737764.666353, \"/opt/miniconda3/lib/python3.12/site-packages/pandas/core/arrays/datetimelike.py\": 1732737764.671242, \"/opt/miniconda3/lib/python3.12/site-packages/pandas/core/arrays/_ranges.py\": 1732737764.669708, \"/opt/miniconda3/lib/python3.12/site-packages/pandas/tseries/offsets.py\": 1732737765.132702, \"/opt/miniconda3/lib/python3.12/site-packages/pandas/core/arrays/datetimes.py\": 1732737764.671574, \"/opt/miniconda3/lib/python3.12/site-packages/pandas/core/arrays/timedeltas.py\": 1732737764.674498, \"/opt/miniconda3/lib/python3.12/site-packages/pandas/core/arrays/interval.py\": 1732737764.672427, \"/opt/miniconda3/lib/python3.12/site-packages/pandas/core/arrays/period.py\": 1732737764.673599, \"/opt/miniconda3/lib/python3.12/site-packages/pandas/_libs/sparse.cpython-312-darwin.so\": 1732737803.351553, \"/opt/miniconda3/lib/python3.12/site-packages/pandas/io/formats/printing.py\": 1732737764.737608, \"/opt/miniconda3/lib/python3.12/site-packages/pandas/core/arrays/sparse/array.py\": 1732737764.67722, \"/opt/miniconda3/lib/python3.12/site-packages/pandas/core/arrays/sparse/accessor.py\": 1732737764.676887, \"/opt/miniconda3/lib/python3.12/site-packages/pandas/core/arrays/sparse/__init__.py\": 1732737764.676568, \"/opt/miniconda3/lib/python3.12/site-packages/pandas/core/arrays/string_arrow.py\": 1732737764.674194, \"/opt/miniconda3/lib/python3.12/site-packages/pandas/core/arrays/__init__.py\": 1732737764.66889, \"/opt/miniconda3/lib/python3.12/site-packages/pandas/core/flags.py\": 1732737764.658757, \"/opt/miniconda3/lib/python3.12/site-packages/pandas/_libs/internals.cpython-312-darwin.so\": 1732737804.5763934, \"/opt/miniconda3/lib/python3.12/site-packages/pandas/core/_numba/__init__.py\": 1732737764.663143, \"/opt/miniconda3/lib/python3.12/site-packages/pandas/core/_numba/executor.py\": 1732737764.663436, \"/opt/miniconda3/lib/python3.12/site-packages/pandas/core/apply.py\": 1732737764.656493, \"/opt/miniconda3/lib/python3.12/site-packages/pandas/_libs/indexing.cpython-312-darwin.so\": 1732737799.9049618, \"/opt/miniconda3/lib/python3.12/site-packages/pandas/core/indexes/__init__.py\": 1732737764.689648, \"/opt/miniconda3/lib/python3.12/site-packages/pandas/_libs/index.cpython-312-darwin.so\": 1732737803.9587052, \"/opt/miniconda3/lib/python3.12/site-packages/pandas/_libs/writers.cpython-312-darwin.so\": 1732737797.9107785, \"/opt/miniconda3/lib/python3.12/site-packages/pandas/_libs/join.cpython-312-darwin.so\": 1732737805.1848018, \"/opt/miniconda3/lib/python3.12/site-packages/pandas/core/array_algos/putmask.py\": 1732737764.667158, \"/opt/miniconda3/lib/python3.12/site-packages/pandas/core/indexes/frozen.py\": 1732737764.69249, \"/opt/miniconda3/lib/python3.12/site-packages/pandas/core/strings/accessor.py\": 1732737764.713415, \"/opt/miniconda3/lib/python3.12/site-packages/pandas/core/indexes/base.py\": 1732737764.690837, \"/opt/miniconda3/lib/python3.12/site-packages/pandas/core/indexes/extension.py\": 1732737764.692204, \"/opt/miniconda3/lib/python3.12/site-packages/pandas/core/indexes/category.py\": 1732737764.691214, \"/opt/miniconda3/lib/python3.12/site-packages/pandas/core/indexes/range.py\": 1732737764.693783, \"/opt/miniconda3/lib/python3.12/site-packages/pandas/core/tools/__init__.py\": 1732737764.714239, \"/opt/miniconda3/lib/python3.12/site-packages/pandas/core/tools/timedeltas.py\": 1732737764.716151, \"/opt/miniconda3/lib/python3.12/site-packages/pandas/core/indexes/datetimelike.py\": 1732737764.691584, \"/opt/miniconda3/lib/python3.12/site-packages/pandas/core/tools/times.py\": 1732737764.716461, \"/opt/miniconda3/lib/python3.12/site-packages/pandas/core/indexes/datetimes.py\": 1732737764.691908, \"/opt/miniconda3/lib/python3.12/site-packages/pandas/core/indexes/multi.py\": 1732737764.693164, \"/opt/miniconda3/lib/python3.12/site-packages/pandas/core/indexes/timedeltas.py\": 1732737764.694152, \"/opt/miniconda3/lib/python3.12/site-packages/pandas/core/indexes/interval.py\": 1732737764.692778, \"/opt/miniconda3/lib/python3.12/site-packages/pandas/core/indexes/period.py\": 1732737764.693477, \"/opt/miniconda3/lib/python3.12/site-packages/pandas/core/indexes/api.py\": 1732737764.690327, \"/opt/miniconda3/lib/python3.12/site-packages/pandas/core/indexing.py\": 1732737764.660366, \"/opt/miniconda3/lib/python3.12/site-packages/pandas/core/sample.py\": 1732737764.661862, \"/opt/miniconda3/lib/python3.12/site-packages/pandas/core/array_algos/replace.py\": 1732737764.667919, \"/opt/miniconda3/lib/python3.12/site-packages/pandas/core/internals/blocks.py\": 1732737764.700433, \"/opt/miniconda3/lib/python3.12/site-packages/pandas/core/internals/api.py\": 1732737764.699363, \"/opt/miniconda3/lib/python3.12/site-packages/pandas/core/internals/base.py\": 1732737764.700076, \"/opt/miniconda3/lib/python3.12/site-packages/pandas/core/internals/ops.py\": 1732737764.701867, \"/opt/miniconda3/lib/python3.12/site-packages/pandas/core/internals/managers.py\": 1732737764.70154, \"/opt/miniconda3/lib/python3.12/site-packages/pandas/core/internals/array_manager.py\": 1732737764.699682, \"/opt/miniconda3/lib/python3.12/site-packages/pandas/core/internals/concat.py\": 1732737764.700852, \"/opt/miniconda3/lib/python3.12/site-packages/pandas/core/internals/__init__.py\": 1732737764.699065, \"/opt/miniconda3/lib/python3.12/site-packages/pandas/core/internals/construction.py\": 1732737764.701202, \"/opt/miniconda3/lib/python3.12/site-packages/pandas/core/methods/__init__.py\": 1732737764.70213, \"/opt/miniconda3/lib/python3.12/site-packages/pandas/core/reshape/__init__.py\": 1732737764.708275, \"/opt/miniconda3/lib/python3.12/site-packages/pandas/core/reshape/concat.py\": 1732737764.708865, \"/opt/miniconda3/lib/python3.12/lib-dynload/mmap.cpython-312-darwin.so\": 1728049865.6034622, \"/opt/miniconda3/lib/python3.12/site-packages/pandas/core/shared_docs.py\": 1732737764.662586, \"/opt/miniconda3/lib/python3.12/site-packages/pandas/io/common.py\": 1732737764.723071, \"/opt/miniconda3/lib/python3.12/site-packages/pandas/io/formats/format.py\": 1732737764.735462, \"/opt/miniconda3/lib/python3.12/site-packages/pandas/core/methods/describe.py\": 1732737764.702424, \"/opt/miniconda3/lib/python3.12/site-packages/pandas/_libs/window/__init__.py\": 1732737764.64351, \"/opt/miniconda3/lib/python3.12/site-packages/pandas/_libs/window/aggregations.cpython-312-darwin.so\": 1732737805.6068819, \"/opt/miniconda3/lib/python3.12/site-packages/pandas/_libs/window/indexers.cpython-312-darwin.so\": 1732737806.131358, \"/opt/miniconda3/lib/python3.12/site-packages/pandas/core/indexers/objects.py\": 1732737764.689083, \"/opt/miniconda3/lib/python3.12/site-packages/pandas/core/util/numba_.py\": 1732737764.717276, \"/opt/miniconda3/lib/python3.12/site-packages/pandas/core/window/common.py\": 1732737764.717895, \"/opt/miniconda3/lib/python3.12/site-packages/pandas/core/window/doc.py\": 1732737764.71816, \"/opt/miniconda3/lib/python3.12/site-packages/pandas/core/window/numba_.py\": 1732737764.719138, \"/opt/miniconda3/lib/python3.12/site-packages/pandas/core/window/online.py\": 1732737764.720773, \"/opt/miniconda3/lib/python3.12/site-packages/pandas/core/window/rolling.py\": 1732737764.721143, \"/opt/miniconda3/lib/python3.12/site-packages/pandas/core/window/ewm.py\": 1732737764.718442, \"/opt/miniconda3/lib/python3.12/site-packages/pandas/core/window/expanding.py\": 1732737764.718834, \"/opt/miniconda3/lib/python3.12/site-packages/pandas/core/window/__init__.py\": 1732737764.717633, \"/opt/miniconda3/lib/python3.12/site-packages/pandas/core/generic.py\": 1732737764.659971, \"/opt/miniconda3/lib/python3.12/site-packages/pandas/core/methods/selectn.py\": 1732737764.702709, \"/opt/miniconda3/lib/python3.12/site-packages/pandas/core/reshape/util.py\": 1732737764.710991, \"/opt/miniconda3/lib/python3.12/site-packages/pandas/core/tools/numeric.py\": 1732737764.714842, \"/opt/miniconda3/lib/python3.12/site-packages/pandas/core/reshape/melt.py\": 1732737764.709446, \"/opt/miniconda3/lib/python3.12/site-packages/pandas/_libs/reshape.cpython-312-darwin.so\": 1732737799.2317274, \"/opt/miniconda3/lib/python3.12/site-packages/pandas/core/indexes/accessors.py\": 1732737764.690008, \"/opt/miniconda3/lib/python3.12/site-packages/pandas/arrays/__init__.py\": 1732737764.652501, \"/opt/miniconda3/lib/python3.12/site-packages/pandas/core/tools/datetimes.py\": 1732737764.714555, \"/opt/miniconda3/lib/python3.12/site-packages/pandas/io/formats/info.py\": 1732737764.73605, \"/opt/miniconda3/lib/python3.12/site-packages/pandas/plotting/_core.py\": 1732737764.749331, \"/opt/miniconda3/lib/python3.12/site-packages/pandas/plotting/_misc.py\": 1732737764.7511, \"/opt/miniconda3/lib/python3.12/site-packages/pandas/plotting/__init__.py\": 1732737764.749035, \"/opt/miniconda3/lib/python3.12/site-packages/pandas/core/series.py\": 1732737764.662257, \"/opt/miniconda3/lib/python3.12/site-packages/pandas/core/frame.py\": 1732737764.659343, \"/opt/miniconda3/lib/python3.12/site-packages/pandas/core/groupby/base.py\": 1732737764.686032, \"/opt/miniconda3/lib/python3.12/site-packages/pandas/_libs/groupby.cpython-312-darwin.so\": 1732737798.5839694, \"/opt/miniconda3/lib/python3.12/site-packages/pandas/core/groupby/categorical.py\": 1732737764.686302, \"/opt/miniconda3/lib/python3.12/site-packages/pandas/core/groupby/grouper.py\": 1732737764.687352, \"/opt/miniconda3/lib/python3.12/site-packages/pandas/core/groupby/ops.py\": 1732737764.688354, \"/opt/miniconda3/lib/python3.12/site-packages/pandas/core/groupby/numba_.py\": 1732737764.68801, \"/opt/miniconda3/lib/python3.12/site-packages/pandas/core/groupby/indexing.py\": 1732737764.687691, \"/opt/miniconda3/lib/python3.12/site-packages/pandas/core/groupby/groupby.py\": 1732737764.687022, \"/opt/miniconda3/lib/python3.12/site-packages/pandas/core/groupby/generic.py\": 1732737764.686617, \"/opt/miniconda3/lib/python3.12/site-packages/pandas/core/groupby/__init__.py\": 1732737764.685756, \"/opt/miniconda3/lib/python3.12/site-packages/pandas/core/api.py\": 1732737764.65619, \"/opt/miniconda3/lib/python3.12/site-packages/pandas/tseries/api.py\": 1732737765.131773, \"/opt/miniconda3/lib/python3.12/site-packages/pandas/core/computation/common.py\": 1732737764.679019, \"/opt/miniconda3/lib/python3.12/site-packages/pandas/core/computation/align.py\": 1732737764.678146, \"/opt/miniconda3/lib/python3.12/site-packages/pandas/core/computation/scope.py\": 1732737764.682112, \"/opt/miniconda3/lib/python3.12/site-packages/pandas/core/computation/ops.py\": 1732737764.68111, \"/opt/miniconda3/lib/python3.12/site-packages/pandas/core/computation/engines.py\": 1732737764.679305, \"/opt/miniconda3/lib/python3.12/site-packages/pandas/core/computation/parsing.py\": 1732737764.681397, \"/opt/miniconda3/lib/python3.12/site-packages/pandas/core/computation/expr.py\": 1732737764.680477, \"/opt/miniconda3/lib/python3.12/site-packages/pandas/core/computation/eval.py\": 1732737764.679591, \"/opt/miniconda3/lib/python3.12/site-packages/pandas/core/computation/api.py\": 1732737764.678423, \"/opt/miniconda3/lib/python3.12/site-packages/pandas/core/reshape/encoding.py\": 1732737764.70916, \"/opt/miniconda3/lib/python3.12/site-packages/pandas/core/reshape/merge.py\": 1732737764.70979, \"/opt/miniconda3/lib/python3.12/site-packages/pandas/core/reshape/pivot.py\": 1732737764.710113, \"/opt/miniconda3/lib/python3.12/site-packages/pandas/core/reshape/tile.py\": 1732737764.710707, \"/opt/miniconda3/lib/python3.12/site-packages/pandas/core/reshape/api.py\": 1732737764.708578, \"/opt/miniconda3/lib/python3.12/site-packages/pandas/api/extensions/__init__.py\": 1732737764.650615, \"/opt/miniconda3/lib/python3.12/site-packages/pandas/api/indexers/__init__.py\": 1732737764.65102, \"/opt/miniconda3/lib/python3.12/site-packages/pandas/core/interchange/__init__.py\": 1732737764.695991, \"/opt/miniconda3/lib/python3.12/site-packages/pandas/core/interchange/dataframe_protocol.py\": 1732737764.697217, \"/opt/miniconda3/lib/python3.12/site-packages/pandas/core/interchange/utils.py\": 1732737764.6978, \"/opt/miniconda3/lib/python3.12/site-packages/pandas/core/interchange/from_dataframe.py\": 1732737764.697512, \"/opt/miniconda3/lib/python3.12/site-packages/pandas/api/interchange/__init__.py\": 1732737764.651379, \"/opt/miniconda3/lib/python3.12/site-packages/pandas/core/dtypes/api.py\": 1732737764.682671, \"/opt/miniconda3/lib/python3.12/site-packages/pandas/api/types/__init__.py\": 1732737764.651744, \"/opt/miniconda3/lib/python3.12/site-packages/pandas/core/resample.py\": 1732737764.661307, \"/opt/miniconda3/lib/python3.12/site-packages/pandas/_libs/json.cpython-312-darwin.so\": 1732737799.4291923, \"/opt/miniconda3/lib/python3.12/site-packages/pandas/io/json/_normalize.py\": 1732737764.743681, \"/opt/miniconda3/lib/python3.12/site-packages/pandas/io/json/_table_schema.py\": 1732737764.744048, \"/opt/miniconda3/lib/python3.12/site-packages/pandas/_libs/parsers.cpython-312-darwin.so\": 1732737806.4479804, \"/opt/miniconda3/lib/python3.12/site-packages/pandas/io/parsers/base_parser.py\": 1732737764.746182, \"/opt/miniconda3/lib/python3.12/site-packages/pandas/io/parsers/arrow_parser_wrapper.py\": 1732737764.744746, \"/opt/miniconda3/lib/python3.12/site-packages/pandas/io/parsers/c_parser_wrapper.py\": 1732737764.746506, \"/opt/miniconda3/lib/python3.12/site-packages/pandas/io/parsers/python_parser.py\": 1732737764.746816, \"/opt/miniconda3/lib/python3.12/site-packages/pandas/io/parsers/readers.py\": 1732737764.74714, \"/opt/miniconda3/lib/python3.12/site-packages/pandas/io/parsers/__init__.py\": 1732737764.744464, \"/opt/miniconda3/lib/python3.12/site-packages/pandas/io/json/_json.py\": 1732737764.743363, \"/opt/miniconda3/lib/python3.12/site-packages/pandas/io/json/__init__.py\": 1732737764.743047, \"/opt/miniconda3/lib/python3.12/site-packages/pandas/io/stata.py\": 1732737764.727261, \"/opt/miniconda3/lib/python3.12/site-packages/pandas/api/typing/__init__.py\": 1732737764.652126, \"/opt/miniconda3/lib/python3.12/site-packages/pandas/api/__init__.py\": 1732737764.650234, \"/opt/miniconda3/lib/python3.12/site-packages/pandas/_testing/contexts.py\": 1732737764.64985, \"/opt/miniconda3/lib/python3.12/site-packages/pandas/_testing/_io.py\": 1732737764.648681, \"/opt/miniconda3/lib/python3.12/site-packages/pandas/_testing/_warnings.py\": 1732737764.648986, \"/opt/miniconda3/lib/python3.12/lib-dynload/cmath.cpython-312-darwin.so\": 1728049867.676381, \"/opt/miniconda3/lib/python3.12/site-packages/pandas/_libs/testing.cpython-312-darwin.so\": 1732737801.013776, \"/opt/miniconda3/lib/python3.12/site-packages/pandas/_testing/asserters.py\": 1732737764.649292, \"/opt/miniconda3/lib/python3.12/site-packages/pandas/_testing/compat.py\": 1732737764.649573, \"/opt/miniconda3/lib/python3.12/site-packages/pandas/_testing/__init__.py\": 1732737764.648059, \"/opt/miniconda3/lib/python3.12/site-packages/pandas/testing.py\": 1732737764.646054, \"/opt/miniconda3/lib/python3.12/site-packages/pandas/util/_print_versions.py\": 1732737765.134643, \"/opt/miniconda3/lib/python3.12/site-packages/pandas/io/clipboards.py\": 1732737764.722768, \"/opt/miniconda3/lib/python3.12/site-packages/pandas/io/excel/_util.py\": 1732737764.731666, \"/opt/miniconda3/lib/python3.12/site-packages/pandas/io/excel/_calamine.py\": 1732737764.730249, \"/opt/miniconda3/lib/python3.12/site-packages/pandas/io/excel/_odfreader.py\": 1732737764.730526, \"/opt/miniconda3/lib/python3.12/site-packages/pandas/io/excel/_openpyxl.py\": 1732737764.731124, \"/opt/miniconda3/lib/python3.12/site-packages/pandas/io/excel/_pyxlsb.py\": 1732737764.731395, \"/opt/miniconda3/lib/python3.12/site-packages/pandas/io/excel/_xlrd.py\": 1732737764.731941, \"/opt/miniconda3/lib/python3.12/site-packages/pandas/io/excel/_base.py\": 1732737764.729974, \"/opt/miniconda3/lib/python3.12/site-packages/pandas/io/excel/_odswriter.py\": 1732737764.730833, \"/opt/miniconda3/lib/python3.12/site-packages/pandas/io/excel/_xlsxwriter.py\": 1732737764.733319, \"/opt/miniconda3/lib/python3.12/site-packages/pandas/io/excel/__init__.py\": 1732737764.729669, \"/opt/miniconda3/lib/python3.12/site-packages/pandas/io/feather_format.py\": 1732737764.723347, \"/opt/miniconda3/lib/python3.12/site-packages/pandas/io/gbq.py\": 1732737764.724775, \"/opt/miniconda3/lib/python3.12/site-packages/pandas/io/html.py\": 1732737764.725086, \"/opt/miniconda3/lib/python3.12/site-packages/pandas/io/orc.py\": 1732737764.725369, \"/opt/miniconda3/lib/python3.12/site-packages/pandas/io/parquet.py\": 1732737764.725649, \"/opt/miniconda3/lib/python3.12/site-packages/pandas/compat/pickle_compat.py\": 1732737764.654096, \"/opt/miniconda3/lib/python3.12/site-packages/pandas/io/pickle.py\": 1732737764.725934, \"/opt/miniconda3/lib/python3.12/site-packages/pandas/core/computation/pytables.py\": 1732737764.681797, \"/opt/miniconda3/lib/python3.12/site-packages/pandas/io/pytables.py\": 1732737764.726304, \"/opt/miniconda3/lib/python3.12/site-packages/pandas/io/sas/sasreader.py\": 1732737764.748669, \"/opt/miniconda3/lib/python3.12/site-packages/pandas/io/sas/__init__.py\": 1732737764.74752, \"/opt/miniconda3/lib/python3.12/site-packages/pandas/io/spss.py\": 1732737764.72661, \"/opt/miniconda3/lib/python3.12/site-packages/pandas/io/sql.py\": 1732737764.726926, \"/opt/miniconda3/lib/python3.12/site-packages/pandas/io/xml.py\": 1732737764.727577, \"/opt/miniconda3/lib/python3.12/site-packages/pandas/io/api.py\": 1732737764.722438, \"/opt/miniconda3/lib/python3.12/site-packages/pandas/util/_tester.py\": 1732737765.135188, \"/opt/miniconda3/lib/python3.12/site-packages/pandas/_version_meson.py\": 1732737764.631151, \"/opt/miniconda3/lib/python3.12/site-packages/pandas/__init__.py\": 1732737764.644706}\n"
     ]
    }
   ],
   "source": [
    "\n",
    "# imports\n",
    "import os\n",
    "import sys\n",
    "import types\n",
    "import json\n",
    "import base64\n",
    "\n",
    "# figure size/format\n",
    "fig_width = 7\n",
    "fig_height = 5\n",
    "fig_format = 'retina'\n",
    "fig_dpi = 96\n",
    "interactivity = ''\n",
    "is_shiny = False\n",
    "is_dashboard = False\n",
    "plotly_connected = True\n",
    "\n",
    "# matplotlib defaults / format\n",
    "try:\n",
    "  import matplotlib.pyplot as plt\n",
    "  plt.rcParams['figure.figsize'] = (fig_width, fig_height)\n",
    "  plt.rcParams['figure.dpi'] = fig_dpi\n",
    "  plt.rcParams['savefig.dpi'] = \"figure\"\n",
    "  from IPython.display import set_matplotlib_formats\n",
    "  set_matplotlib_formats(fig_format)\n",
    "except Exception:\n",
    "  pass\n",
    "\n",
    "# plotly use connected mode\n",
    "try:\n",
    "  import plotly.io as pio\n",
    "  if plotly_connected:\n",
    "    pio.renderers.default = \"notebook_connected\"\n",
    "  else:\n",
    "    pio.renderers.default = \"notebook\"\n",
    "  for template in pio.templates.keys():\n",
    "    pio.templates[template].layout.margin = dict(t=30,r=0,b=0,l=0)\n",
    "except Exception:\n",
    "  pass\n",
    "\n",
    "# disable itables paging for dashboards\n",
    "if is_dashboard:\n",
    "  try:\n",
    "    from itables import options\n",
    "    options.dom = 'fiBrtlp'\n",
    "    options.maxBytes = 1024 * 1024\n",
    "    options.language = dict(info = \"Showing _TOTAL_ entries\")\n",
    "    options.classes = \"display nowrap compact\"\n",
    "    options.paging = False\n",
    "    options.searching = True\n",
    "    options.ordering = True\n",
    "    options.info = True\n",
    "    options.lengthChange = False\n",
    "    options.autoWidth = False\n",
    "    options.responsive = True\n",
    "    options.keys = True\n",
    "    options.buttons = []\n",
    "  except Exception:\n",
    "    pass\n",
    "  \n",
    "  try:\n",
    "    import altair as alt\n",
    "    # By default, dashboards will have container sized\n",
    "    # vega visualizations which allows them to flow reasonably\n",
    "    theme_sentinel = '_quarto-dashboard-internal'\n",
    "    def make_theme(name):\n",
    "        nonTheme = alt.themes._plugins[name]    \n",
    "        def patch_theme(*args, **kwargs):\n",
    "            existingTheme = nonTheme()\n",
    "            if 'height' not in existingTheme:\n",
    "              existingTheme['height'] = 'container'\n",
    "            if 'width' not in existingTheme:\n",
    "              existingTheme['width'] = 'container'\n",
    "\n",
    "            if 'config' not in existingTheme:\n",
    "              existingTheme['config'] = dict()\n",
    "            \n",
    "            # Configure the default font sizes\n",
    "            title_font_size = 15\n",
    "            header_font_size = 13\n",
    "            axis_font_size = 12\n",
    "            legend_font_size = 12\n",
    "            mark_font_size = 12\n",
    "            tooltip = False\n",
    "\n",
    "            config = existingTheme['config']\n",
    "\n",
    "            # The Axis\n",
    "            if 'axis' not in config:\n",
    "              config['axis'] = dict()\n",
    "            axis = config['axis']\n",
    "            if 'labelFontSize' not in axis:\n",
    "              axis['labelFontSize'] = axis_font_size\n",
    "            if 'titleFontSize' not in axis:\n",
    "              axis['titleFontSize'] = axis_font_size  \n",
    "\n",
    "            # The legend\n",
    "            if 'legend' not in config:\n",
    "              config['legend'] = dict()\n",
    "            legend = config['legend']\n",
    "            if 'labelFontSize' not in legend:\n",
    "              legend['labelFontSize'] = legend_font_size\n",
    "            if 'titleFontSize' not in legend:\n",
    "              legend['titleFontSize'] = legend_font_size  \n",
    "\n",
    "            # The header\n",
    "            if 'header' not in config:\n",
    "              config['header'] = dict()\n",
    "            header = config['header']\n",
    "            if 'labelFontSize' not in header:\n",
    "              header['labelFontSize'] = header_font_size\n",
    "            if 'titleFontSize' not in header:\n",
    "              header['titleFontSize'] = header_font_size    \n",
    "\n",
    "            # Title\n",
    "            if 'title' not in config:\n",
    "              config['title'] = dict()\n",
    "            title = config['title']\n",
    "            if 'fontSize' not in title:\n",
    "              title['fontSize'] = title_font_size\n",
    "\n",
    "            # Marks\n",
    "            if 'mark' not in config:\n",
    "              config['mark'] = dict()\n",
    "            mark = config['mark']\n",
    "            if 'fontSize' not in mark:\n",
    "              mark['fontSize'] = mark_font_size\n",
    "\n",
    "            # Mark tooltips\n",
    "            if tooltip and 'tooltip' not in mark:\n",
    "              mark['tooltip'] = dict(content=\"encoding\")\n",
    "\n",
    "            return existingTheme\n",
    "            \n",
    "        return patch_theme\n",
    "\n",
    "    # We can only do this once per session\n",
    "    if theme_sentinel not in alt.themes.names():\n",
    "      for name in alt.themes.names():\n",
    "        alt.themes.register(name, make_theme(name))\n",
    "      \n",
    "      # register a sentinel theme so we only do this once\n",
    "      alt.themes.register(theme_sentinel, make_theme('default'))\n",
    "      alt.themes.enable('default')\n",
    "\n",
    "  except Exception:\n",
    "    pass\n",
    "\n",
    "# enable pandas latex repr when targeting pdfs\n",
    "try:\n",
    "  import pandas as pd\n",
    "  if fig_format == 'pdf':\n",
    "    pd.set_option('display.latex.repr', True)\n",
    "except Exception:\n",
    "  pass\n",
    "\n",
    "# interactivity\n",
    "if interactivity:\n",
    "  from IPython.core.interactiveshell import InteractiveShell\n",
    "  InteractiveShell.ast_node_interactivity = interactivity\n",
    "\n",
    "# NOTE: the kernel_deps code is repeated in the cleanup.py file\n",
    "# (we can't easily share this code b/c of the way it is run).\n",
    "# If you edit this code also edit the same code in cleanup.py!\n",
    "\n",
    "# output kernel dependencies\n",
    "kernel_deps = dict()\n",
    "for module in list(sys.modules.values()):\n",
    "  # Some modules play games with sys.modules (e.g. email/__init__.py\n",
    "  # in the standard library), and occasionally this can cause strange\n",
    "  # failures in getattr.  Just ignore anything that's not an ordinary\n",
    "  # module.\n",
    "  if not isinstance(module, types.ModuleType):\n",
    "    continue\n",
    "  path = getattr(module, \"__file__\", None)\n",
    "  if not path:\n",
    "    continue\n",
    "  if path.endswith(\".pyc\") or path.endswith(\".pyo\"):\n",
    "    path = path[:-1]\n",
    "  if not os.path.exists(path):\n",
    "    continue\n",
    "  kernel_deps[path] = os.stat(path).st_mtime\n",
    "print(json.dumps(kernel_deps))\n",
    "\n",
    "# set run_path if requested\n",
    "run_path = 'L1VzZXJzL2xhdXJlbnQvTmV4dGNsb3VkL0xBVVJFTlQvTElWUkVTL3NpdGVfcmVncmVzc2lvbl9weXRob24vY29kZXM='\n",
    "if run_path:\n",
    "  # hex-decode the path\n",
    "  run_path = base64.b64decode(run_path.encode(\"utf-8\")).decode(\"utf-8\")\n",
    "  os.chdir(run_path)\n",
    "\n",
    "# reset state\n",
    "%reset\n",
    "\n",
    "# shiny\n",
    "# Checking for shiny by using False directly because we're after the %reset. We don't want\n",
    "# to set a variable that stays in global scope.\n",
    "if False:\n",
    "  try:\n",
    "    import htmltools as _htmltools\n",
    "    import ast as _ast\n",
    "\n",
    "    _htmltools.html_dependency_render_mode = \"json\"\n",
    "\n",
    "    # This decorator will be added to all function definitions\n",
    "    def _display_if_has_repr_html(x):\n",
    "      try:\n",
    "        # IPython 7.14 preferred import\n",
    "        from IPython.display import display, HTML\n",
    "      except:\n",
    "        from IPython.core.display import display, HTML\n",
    "\n",
    "      if hasattr(x, '_repr_html_'):\n",
    "        display(HTML(x._repr_html_()))\n",
    "      return x\n",
    "\n",
    "    # ideally we would undo the call to ast_transformers.append\n",
    "    # at the end of this block whenver an error occurs, we do \n",
    "    # this for now as it will only be a problem if the user \n",
    "    # switches from shiny to not-shiny mode (and even then likely\n",
    "    # won't matter)\n",
    "    import builtins\n",
    "    builtins._display_if_has_repr_html = _display_if_has_repr_html\n",
    "\n",
    "    class _FunctionDefReprHtml(_ast.NodeTransformer):\n",
    "      def visit_FunctionDef(self, node):\n",
    "        node.decorator_list.insert(\n",
    "          0,\n",
    "          _ast.Name(id=\"_display_if_has_repr_html\", ctx=_ast.Load())\n",
    "        )\n",
    "        return node\n",
    "\n",
    "      def visit_AsyncFunctionDef(self, node):\n",
    "        node.decorator_list.insert(\n",
    "          0,\n",
    "          _ast.Name(id=\"_display_if_has_repr_html\", ctx=_ast.Load())\n",
    "        )\n",
    "        return node\n",
    "\n",
    "    ip = get_ipython()\n",
    "    ip.ast_transformers.append(_FunctionDefReprHtml())\n",
    "\n",
    "  except:\n",
    "    pass\n",
    "\n",
    "def ojs_define(**kwargs):\n",
    "  import json\n",
    "  try:\n",
    "    # IPython 7.14 preferred import\n",
    "    from IPython.display import display, HTML\n",
    "  except:\n",
    "    from IPython.core.display import display, HTML\n",
    "\n",
    "  # do some minor magic for convenience when handling pandas\n",
    "  # dataframes\n",
    "  def convert(v):\n",
    "    try:\n",
    "      import pandas as pd\n",
    "    except ModuleNotFoundError: # don't do the magic when pandas is not available\n",
    "      return v\n",
    "    if type(v) == pd.Series:\n",
    "      v = pd.DataFrame(v)\n",
    "    if type(v) == pd.DataFrame:\n",
    "      j = json.loads(v.T.to_json(orient='split'))\n",
    "      return dict((k,v) for (k,v) in zip(j[\"index\"], j[\"data\"]))\n",
    "    else:\n",
    "      return v\n",
    "\n",
    "  v = dict(contents=list(dict(name=key, value=convert(value)) for (key, value) in kwargs.items()))\n",
    "  display(HTML('<script type=\"ojs-define\">' + json.dumps(v) + '</script>'), metadata=dict(ojs_define = True))\n",
    "globals()[\"ojs_define\"] = ojs_define\n",
    "# globals()[\"__spec__\"] = None"
   ]
  },
  {
   "cell_type": "code",
   "execution_count": 2,
   "id": "4115aaa6",
   "metadata": {},
   "outputs": [],
   "source": [
    "import pandas as pd\n",
    "import numpy as np\n",
    "import matplotlib.pyplot as plt\n",
    "import statsmodels.formula.api as smf"
   ]
  },
  {
   "cell_type": "code",
   "execution_count": 3,
   "id": "54154792",
   "metadata": {},
   "outputs": [],
   "source": [
    "#| echo: false\n",
    "\n",
    "plt.rc('font', **{'family': 'serif', 'serif': ['Latin Modern Roman']})\n",
    "plt.rc(\"font\", size=6)\n",
    "plt.rc(\"lines\", markersize=4) #"
   ]
  },
  {
   "cell_type": "code",
   "execution_count": 4,
   "id": "c9b0cad1",
   "metadata": {},
   "outputs": [
    {
     "name": "stderr",
     "output_type": "stream",
     "text": [
      "findfont: Generic family 'serif' not found because none of the following families were found: Latin Modern Roman\n"
     ]
    },
    {
     "name": "stderr",
     "output_type": "stream",
     "text": [
      "findfont: Generic family 'serif' not found because none of the following families were found: Latin Modern Roman\n"
     ]
    },
    {
     "name": "stderr",
     "output_type": "stream",
     "text": [
      "findfont: Generic family 'serif' not found because none of the following families were found: Latin Modern Roman\n"
     ]
    },
    {
     "name": "stderr",
     "output_type": "stream",
     "text": [
      "findfont: Generic family 'serif' not found because none of the following families were found: Latin Modern Roman\n"
     ]
    },
    {
     "name": "stderr",
     "output_type": "stream",
     "text": [
      "findfont: Generic family 'serif' not found because none of the following families were found: Latin Modern Roman\n"
     ]
    },
    {
     "name": "stderr",
     "output_type": "stream",
     "text": [
      "findfont: Generic family 'serif' not found because none of the following families were found: Latin Modern Roman\n"
     ]
    },
    {
     "name": "stderr",
     "output_type": "stream",
     "text": [
      "findfont: Generic family 'serif' not found because none of the following families were found: Latin Modern Roman\n"
     ]
    },
    {
     "name": "stderr",
     "output_type": "stream",
     "text": [
      "findfont: Generic family 'serif' not found because none of the following families were found: Latin Modern Roman\n"
     ]
    },
    {
     "name": "stderr",
     "output_type": "stream",
     "text": [
      "findfont: Generic family 'serif' not found because none of the following families were found: Latin Modern Roman\n"
     ]
    },
    {
     "name": "stderr",
     "output_type": "stream",
     "text": [
      "findfont: Generic family 'serif' not found because none of the following families were found: Latin Modern Roman\n"
     ]
    },
    {
     "name": "stderr",
     "output_type": "stream",
     "text": [
      "findfont: Generic family 'serif' not found because none of the following families were found: Latin Modern Roman\n"
     ]
    },
    {
     "name": "stderr",
     "output_type": "stream",
     "text": [
      "findfont: Generic family 'serif' not found because none of the following families were found: Latin Modern Roman\n"
     ]
    },
    {
     "name": "stderr",
     "output_type": "stream",
     "text": [
      "findfont: Generic family 'serif' not found because none of the following families were found: Latin Modern Roman\n"
     ]
    },
    {
     "name": "stderr",
     "output_type": "stream",
     "text": [
      "findfont: Generic family 'serif' not found because none of the following families were found: Latin Modern Roman\n"
     ]
    },
    {
     "name": "stderr",
     "output_type": "stream",
     "text": [
      "findfont: Generic family 'serif' not found because none of the following families were found: Latin Modern Roman\n"
     ]
    },
    {
     "name": "stderr",
     "output_type": "stream",
     "text": [
      "findfont: Generic family 'serif' not found because none of the following families were found: Latin Modern Roman\n"
     ]
    },
    {
     "name": "stderr",
     "output_type": "stream",
     "text": [
      "findfont: Generic family 'serif' not found because none of the following families were found: Latin Modern Roman\n"
     ]
    },
    {
     "name": "stderr",
     "output_type": "stream",
     "text": [
      "findfont: Generic family 'serif' not found because none of the following families were found: Latin Modern Roman\n"
     ]
    },
    {
     "name": "stderr",
     "output_type": "stream",
     "text": [
      "findfont: Generic family 'serif' not found because none of the following families were found: Latin Modern Roman\n"
     ]
    },
    {
     "name": "stderr",
     "output_type": "stream",
     "text": [
      "findfont: Generic family 'serif' not found because none of the following families were found: Latin Modern Roman\n"
     ]
    },
    {
     "name": "stderr",
     "output_type": "stream",
     "text": [
      "findfont: Generic family 'serif' not found because none of the following families were found: Latin Modern Roman\n"
     ]
    },
    {
     "name": "stderr",
     "output_type": "stream",
     "text": [
      "findfont: Generic family 'serif' not found because none of the following families were found: Latin Modern Roman\n"
     ]
    },
    {
     "name": "stderr",
     "output_type": "stream",
     "text": [
      "findfont: Generic family 'serif' not found because none of the following families were found: Latin Modern Roman\n"
     ]
    },
    {
     "name": "stderr",
     "output_type": "stream",
     "text": [
      "findfont: Generic family 'serif' not found because none of the following families were found: Latin Modern Roman\n"
     ]
    },
    {
     "name": "stderr",
     "output_type": "stream",
     "text": [
      "findfont: Generic family 'serif' not found because none of the following families were found: Latin Modern Roman\n"
     ]
    },
    {
     "name": "stderr",
     "output_type": "stream",
     "text": [
      "findfont: Generic family 'serif' not found because none of the following families were found: Latin Modern Roman\n"
     ]
    },
    {
     "name": "stderr",
     "output_type": "stream",
     "text": [
      "findfont: Generic family 'serif' not found because none of the following families were found: Latin Modern Roman\n"
     ]
    },
    {
     "name": "stderr",
     "output_type": "stream",
     "text": [
      "findfont: Generic family 'serif' not found because none of the following families were found: Latin Modern Roman\n"
     ]
    },
    {
     "name": "stderr",
     "output_type": "stream",
     "text": [
      "findfont: Generic family 'serif' not found because none of the following families were found: Latin Modern Roman\n"
     ]
    },
    {
     "name": "stderr",
     "output_type": "stream",
     "text": [
      "findfont: Generic family 'serif' not found because none of the following families were found: Latin Modern Roman\n"
     ]
    },
    {
     "name": "stderr",
     "output_type": "stream",
     "text": [
      "findfont: Generic family 'serif' not found because none of the following families were found: Latin Modern Roman\n"
     ]
    },
    {
     "name": "stderr",
     "output_type": "stream",
     "text": [
      "findfont: Generic family 'serif' not found because none of the following families were found: Latin Modern Roman\n"
     ]
    },
    {
     "name": "stderr",
     "output_type": "stream",
     "text": [
      "findfont: Generic family 'serif' not found because none of the following families were found: Latin Modern Roman\n"
     ]
    },
    {
     "name": "stderr",
     "output_type": "stream",
     "text": [
      "findfont: Generic family 'serif' not found because none of the following families were found: Latin Modern Roman\n"
     ]
    },
    {
     "name": "stderr",
     "output_type": "stream",
     "text": [
      "findfont: Generic family 'serif' not found because none of the following families were found: Latin Modern Roman\n"
     ]
    },
    {
     "name": "stderr",
     "output_type": "stream",
     "text": [
      "findfont: Generic family 'serif' not found because none of the following families were found: Latin Modern Roman\n"
     ]
    },
    {
     "name": "stderr",
     "output_type": "stream",
     "text": [
      "findfont: Generic family 'serif' not found because none of the following families were found: Latin Modern Roman\n"
     ]
    },
    {
     "name": "stderr",
     "output_type": "stream",
     "text": [
      "findfont: Generic family 'serif' not found because none of the following families were found: Latin Modern Roman\n"
     ]
    },
    {
     "name": "stderr",
     "output_type": "stream",
     "text": [
      "findfont: Generic family 'serif' not found because none of the following families were found: Latin Modern Roman\n"
     ]
    },
    {
     "name": "stderr",
     "output_type": "stream",
     "text": [
      "findfont: Generic family 'serif' not found because none of the following families were found: Latin Modern Roman\n"
     ]
    },
    {
     "name": "stderr",
     "output_type": "stream",
     "text": [
      "findfont: Generic family 'serif' not found because none of the following families were found: Latin Modern Roman\n"
     ]
    },
    {
     "data": {
      "image/png": "[encoded data removed]",
      "text/plain": [
       "<Figure size 672x480 with 1 Axes>"
      ]
     },
     "metadata": {
      "image/png": {
       "height": 418,
       "width": 577
      }
     },
     "output_type": "display_data"
    }
   ],
   "source": [
    "ozone = pd.read_csv(\"../donnees/ozone_simple.txt\", header=0, sep=\";\")\n",
    "plt.plot(ozone.T12, ozone.O3, '.k')\n",
    "plt.ylabel('O3')\n",
    "plt.xlabel('T12')\n",
    "plt.show()"
   ]
  },
  {
   "cell_type": "code",
   "execution_count": 5,
   "id": "b73c6085",
   "metadata": {},
   "outputs": [
    {
     "data": {
      "text/html": [
       "<table class=\"simpletable\">\n",
       "<caption>OLS Regression Results</caption>\n",
       "<tr>\n",
       "  <th>Dep. Variable:</th>           <td>O3</td>        <th>  R-squared:         </th> <td>   0.279</td>\n",
       "</tr>\n",
       "<tr>\n",
       "  <th>Model:</th>                   <td>OLS</td>       <th>  Adj. R-squared:    </th> <td>   0.264</td>\n",
       "</tr>\n",
       "<tr>\n",
       "  <th>Method:</th>             <td>Least Squares</td>  <th>  F-statistic:       </th> <td>   18.58</td>\n",
       "</tr>\n",
       "<tr>\n",
       "  <th>Date:</th>             <td>Fri, 31 Jan 2025</td> <th>  Prob (F-statistic):</th> <td>8.04e-05</td>\n",
       "</tr>\n",
       "<tr>\n",
       "  <th>Time:</th>                 <td>15:41:21</td>     <th>  Log-Likelihood:    </th> <td> -220.96</td>\n",
       "</tr>\n",
       "<tr>\n",
       "  <th>No. Observations:</th>      <td>    50</td>      <th>  AIC:               </th> <td>   445.9</td>\n",
       "</tr>\n",
       "<tr>\n",
       "  <th>Df Residuals:</th>          <td>    48</td>      <th>  BIC:               </th> <td>   449.7</td>\n",
       "</tr>\n",
       "<tr>\n",
       "  <th>Df Model:</th>              <td>     1</td>      <th>                     </th>     <td> </td>   \n",
       "</tr>\n",
       "<tr>\n",
       "  <th>Covariance Type:</th>      <td>nonrobust</td>    <th>                     </th>     <td> </td>   \n",
       "</tr>\n",
       "</table>\n",
       "<table class=\"simpletable\">\n",
       "<tr>\n",
       "      <td></td>         <th>coef</th>     <th>std err</th>      <th>t</th>      <th>P>|t|</th>  <th>[0.025</th>    <th>0.975]</th>  \n",
       "</tr>\n",
       "<tr>\n",
       "  <th>Intercept</th> <td>   31.4150</td> <td>   13.058</td> <td>    2.406</td> <td> 0.020</td> <td>    5.159</td> <td>   57.671</td>\n",
       "</tr>\n",
       "<tr>\n",
       "  <th>T12</th>       <td>    2.7010</td> <td>    0.627</td> <td>    4.311</td> <td> 0.000</td> <td>    1.441</td> <td>    3.961</td>\n",
       "</tr>\n",
       "</table>\n",
       "<table class=\"simpletable\">\n",
       "<tr>\n",
       "  <th>Omnibus:</th>       <td> 2.252</td> <th>  Durbin-Watson:     </th> <td>   1.461</td>\n",
       "</tr>\n",
       "<tr>\n",
       "  <th>Prob(Omnibus):</th> <td> 0.324</td> <th>  Jarque-Bera (JB):  </th> <td>   1.348</td>\n",
       "</tr>\n",
       "<tr>\n",
       "  <th>Skew:</th>          <td> 0.026</td> <th>  Prob(JB):          </th> <td>   0.510</td>\n",
       "</tr>\n",
       "<tr>\n",
       "  <th>Kurtosis:</th>      <td> 2.197</td> <th>  Cond. No.          </th> <td>    94.1</td>\n",
       "</tr>\n",
       "</table><br/><br/>Notes:<br/>[1] Standard Errors assume that the covariance matrix of the errors is correctly specified."
      ],
      "text/latex": [
       "\\begin{center}\n",
       "\\begin{tabular}{lclc}\n",
       "\\toprule\n",
       "\\textbf{Dep. Variable:}    &        O3        & \\textbf{  R-squared:         } &     0.279   \\\\\n",
       "\\textbf{Model:}            &       OLS        & \\textbf{  Adj. R-squared:    } &     0.264   \\\\\n",
       "\\textbf{Method:}           &  Least Squares   & \\textbf{  F-statistic:       } &     18.58   \\\\\n",
       "\\textbf{Date:}             & Fri, 31 Jan 2025 & \\textbf{  Prob (F-statistic):} &  8.04e-05   \\\\\n",
       "\\textbf{Time:}             &     15:41:21     & \\textbf{  Log-Likelihood:    } &   -220.96   \\\\\n",
       "\\textbf{No. Observations:} &          50      & \\textbf{  AIC:               } &     445.9   \\\\\n",
       "\\textbf{Df Residuals:}     &          48      & \\textbf{  BIC:               } &     449.7   \\\\\n",
       "\\textbf{Df Model:}         &           1      & \\textbf{                     } &             \\\\\n",
       "\\textbf{Covariance Type:}  &    nonrobust     & \\textbf{                     } &             \\\\\n",
       "\\bottomrule\n",
       "\\end{tabular}\n",
       "\\begin{tabular}{lcccccc}\n",
       "                   & \\textbf{coef} & \\textbf{std err} & \\textbf{t} & \\textbf{P$> |$t$|$} & \\textbf{[0.025} & \\textbf{0.975]}  \\\\\n",
       "\\midrule\n",
       "\\textbf{Intercept} &      31.4150  &       13.058     &     2.406  &         0.020        &        5.159    &       57.671     \\\\\n",
       "\\textbf{T12}       &       2.7010  &        0.627     &     4.311  &         0.000        &        1.441    &        3.961     \\\\\n",
       "\\bottomrule\n",
       "\\end{tabular}\n",
       "\\begin{tabular}{lclc}\n",
       "\\textbf{Omnibus:}       &  2.252 & \\textbf{  Durbin-Watson:     } &    1.461  \\\\\n",
       "\\textbf{Prob(Omnibus):} &  0.324 & \\textbf{  Jarque-Bera (JB):  } &    1.348  \\\\\n",
       "\\textbf{Skew:}          &  0.026 & \\textbf{  Prob(JB):          } &    0.510  \\\\\n",
       "\\textbf{Kurtosis:}      &  2.197 & \\textbf{  Cond. No.          } &     94.1  \\\\\n",
       "\\bottomrule\n",
       "\\end{tabular}\n",
       "%\\caption{OLS Regression Results}\n",
       "\\end{center}\n",
       "\n",
       "Notes: \\newline\n",
       " [1] Standard Errors assume that the covariance matrix of the errors is correctly specified."
      ],
      "text/plain": [
       "<class 'statsmodels.iolib.summary.Summary'>\n",
       "\"\"\"\n",
       "                            OLS Regression Results                            \n",
       "==============================================================================\n",
       "Dep. Variable:                     O3   R-squared:                       0.279\n",
       "Model:                            OLS   Adj. R-squared:                  0.264\n",
       "Method:                 Least Squares   F-statistic:                     18.58\n",
       "Date:                Fri, 31 Jan 2025   Prob (F-statistic):           8.04e-05\n",
       "Time:                        15:41:21   Log-Likelihood:                -220.96\n",
       "No. Observations:                  50   AIC:                             445.9\n",
       "Df Residuals:                      48   BIC:                             449.7\n",
       "Df Model:                           1                                         \n",
       "Covariance Type:            nonrobust                                         \n",
       "==============================================================================\n",
       "                 coef    std err          t      P>|t|      [0.025      0.975]\n",
       "------------------------------------------------------------------------------\n",
       "Intercept     31.4150     13.058      2.406      0.020       5.159      57.671\n",
       "T12            2.7010      0.627      4.311      0.000       1.441       3.961\n",
       "==============================================================================\n",
       "Omnibus:                        2.252   Durbin-Watson:                   1.461\n",
       "Prob(Omnibus):                  0.324   Jarque-Bera (JB):                1.348\n",
       "Skew:                           0.026   Prob(JB):                        0.510\n",
       "Kurtosis:                       2.197   Cond. No.                         94.1\n",
       "==============================================================================\n",
       "\n",
       "Notes:\n",
       "[1] Standard Errors assume that the covariance matrix of the errors is correctly specified.\n",
       "\"\"\""
      ]
     },
     "execution_count": 4,
     "metadata": {},
     "output_type": "execute_result"
    }
   ],
   "source": [
    "reg = smf.ols('O3 ~ T12', data=ozone).fit()\n",
    "reg.summary()"
   ]
  },
  {
   "cell_type": "code",
   "execution_count": 6,
   "id": "361a4f67",
   "metadata": {},
   "outputs": [],
   "source": [
    "grille = pd.DataFrame({'T12': np.linspace(ozone.T12.min(), ozone.T12.max(), 100)})\n",
    "calculprev = reg.get_prediction(grille)\n",
    "ICdte = calculprev.conf_int(obs=False, alpha=0.05)\n",
    "prev = calculprev.predicted_mean\n",
    "ICprev = calculprev.conf_int(obs=True, alpha=0.05)"
   ]
  },
  {
   "cell_type": "code",
   "execution_count": 7,
   "id": "9a2cdf5f",
   "metadata": {},
   "outputs": [
    {
     "data": {
      "text/plain": [
       "<matplotlib.legend.Legend at 0x134a25430>"
      ]
     },
     "execution_count": 6,
     "metadata": {},
     "output_type": "execute_result"
    },
    {
     "name": "stderr",
     "output_type": "stream",
     "text": [
      "findfont: Generic family 'serif' not found because none of the following families were found: Latin Modern Roman\n"
     ]
    },
    {
     "name": "stderr",
     "output_type": "stream",
     "text": [
      "findfont: Generic family 'serif' not found because none of the following families were found: Latin Modern Roman\n"
     ]
    },
    {
     "name": "stderr",
     "output_type": "stream",
     "text": [
      "findfont: Generic family 'serif' not found because none of the following families were found: Latin Modern Roman\n"
     ]
    },
    {
     "name": "stderr",
     "output_type": "stream",
     "text": [
      "findfont: Generic family 'serif' not found because none of the following families were found: Latin Modern Roman\n"
     ]
    },
    {
     "name": "stderr",
     "output_type": "stream",
     "text": [
      "findfont: Generic family 'serif' not found because none of the following families were found: Latin Modern Roman\n"
     ]
    },
    {
     "name": "stderr",
     "output_type": "stream",
     "text": [
      "findfont: Generic family 'serif' not found because none of the following families were found: Latin Modern Roman\n"
     ]
    },
    {
     "name": "stderr",
     "output_type": "stream",
     "text": [
      "findfont: Generic family 'serif' not found because none of the following families were found: Latin Modern Roman\n"
     ]
    },
    {
     "name": "stderr",
     "output_type": "stream",
     "text": [
      "findfont: Generic family 'serif' not found because none of the following families were found: Latin Modern Roman\n"
     ]
    },
    {
     "name": "stderr",
     "output_type": "stream",
     "text": [
      "findfont: Generic family 'serif' not found because none of the following families were found: Latin Modern Roman\n"
     ]
    },
    {
     "name": "stderr",
     "output_type": "stream",
     "text": [
      "findfont: Generic family 'serif' not found because none of the following families were found: Latin Modern Roman\n"
     ]
    },
    {
     "name": "stderr",
     "output_type": "stream",
     "text": [
      "findfont: Generic family 'serif' not found because none of the following families were found: Latin Modern Roman\n"
     ]
    },
    {
     "name": "stderr",
     "output_type": "stream",
     "text": [
      "findfont: Generic family 'serif' not found because none of the following families were found: Latin Modern Roman\n"
     ]
    },
    {
     "name": "stderr",
     "output_type": "stream",
     "text": [
      "findfont: Generic family 'serif' not found because none of the following families were found: Latin Modern Roman\n"
     ]
    },
    {
     "name": "stderr",
     "output_type": "stream",
     "text": [
      "findfont: Generic family 'serif' not found because none of the following families were found: Latin Modern Roman\n"
     ]
    },
    {
     "name": "stderr",
     "output_type": "stream",
     "text": [
      "findfont: Generic family 'serif' not found because none of the following families were found: Latin Modern Roman\n"
     ]
    },
    {
     "name": "stderr",
     "output_type": "stream",
     "text": [
      "findfont: Generic family 'serif' not found because none of the following families were found: Latin Modern Roman\n"
     ]
    },
    {
     "name": "stderr",
     "output_type": "stream",
     "text": [
      "findfont: Generic family 'serif' not found because none of the following families were found: Latin Modern Roman\n"
     ]
    },
    {
     "name": "stderr",
     "output_type": "stream",
     "text": [
      "findfont: Generic family 'serif' not found because none of the following families were found: Latin Modern Roman\n"
     ]
    },
    {
     "name": "stderr",
     "output_type": "stream",
     "text": [
      "findfont: Generic family 'serif' not found because none of the following families were found: Latin Modern Roman\n"
     ]
    },
    {
     "name": "stderr",
     "output_type": "stream",
     "text": [
      "findfont: Generic family 'serif' not found because none of the following families were found: Latin Modern Roman\n"
     ]
    },
    {
     "name": "stderr",
     "output_type": "stream",
     "text": [
      "findfont: Generic family 'serif' not found because none of the following families were found: Latin Modern Roman\n"
     ]
    },
    {
     "name": "stderr",
     "output_type": "stream",
     "text": [
      "findfont: Generic family 'serif' not found because none of the following families were found: Latin Modern Roman\n"
     ]
    },
    {
     "name": "stderr",
     "output_type": "stream",
     "text": [
      "findfont: Generic family 'serif' not found because none of the following families were found: Latin Modern Roman\n"
     ]
    },
    {
     "name": "stderr",
     "output_type": "stream",
     "text": [
      "findfont: Generic family 'serif' not found because none of the following families were found: Latin Modern Roman\n"
     ]
    },
    {
     "name": "stderr",
     "output_type": "stream",
     "text": [
      "findfont: Generic family 'serif' not found because none of the following families were found: Latin Modern Roman\n"
     ]
    },
    {
     "name": "stderr",
     "output_type": "stream",
     "text": [
      "findfont: Generic family 'serif' not found because none of the following families were found: Latin Modern Roman\n"
     ]
    },
    {
     "name": "stderr",
     "output_type": "stream",
     "text": [
      "findfont: Generic family 'serif' not found because none of the following families were found: Latin Modern Roman\n"
     ]
    },
    {
     "name": "stderr",
     "output_type": "stream",
     "text": [
      "findfont: Generic family 'serif' not found because none of the following families were found: Latin Modern Roman\n"
     ]
    },
    {
     "name": "stderr",
     "output_type": "stream",
     "text": [
      "findfont: Font family ['serif'] not found. Falling back to DejaVu Sans.\n"
     ]
    },
    {
     "name": "stderr",
     "output_type": "stream",
     "text": [
      "findfont: Generic family 'serif' not found because none of the following families were found: Latin Modern Roman\n"
     ]
    },
    {
     "name": "stderr",
     "output_type": "stream",
     "text": [
      "findfont: Generic family 'serif' not found because none of the following families were found: Latin Modern Roman\n"
     ]
    },
    {
     "name": "stderr",
     "output_type": "stream",
     "text": [
      "findfont: Generic family 'serif' not found because none of the following families were found: Latin Modern Roman\n"
     ]
    },
    {
     "name": "stderr",
     "output_type": "stream",
     "text": [
      "findfont: Generic family 'serif' not found because none of the following families were found: Latin Modern Roman\n"
     ]
    },
    {
     "name": "stderr",
     "output_type": "stream",
     "text": [
      "findfont: Generic family 'serif' not found because none of the following families were found: Latin Modern Roman\n"
     ]
    },
    {
     "name": "stderr",
     "output_type": "stream",
     "text": [
      "findfont: Generic family 'serif' not found because none of the following families were found: Latin Modern Roman\n"
     ]
    },
    {
     "name": "stderr",
     "output_type": "stream",
     "text": [
      "findfont: Generic family 'serif' not found because none of the following families were found: Latin Modern Roman\n"
     ]
    },
    {
     "name": "stderr",
     "output_type": "stream",
     "text": [
      "findfont: Generic family 'serif' not found because none of the following families were found: Latin Modern Roman\n"
     ]
    },
    {
     "name": "stderr",
     "output_type": "stream",
     "text": [
      "findfont: Generic family 'serif' not found because none of the following families were found: Latin Modern Roman\n"
     ]
    },
    {
     "name": "stderr",
     "output_type": "stream",
     "text": [
      "findfont: Generic family 'serif' not found because none of the following families were found: Latin Modern Roman\n"
     ]
    },
    {
     "name": "stderr",
     "output_type": "stream",
     "text": [
      "findfont: Generic family 'serif' not found because none of the following families were found: Latin Modern Roman\n"
     ]
    },
    {
     "name": "stderr",
     "output_type": "stream",
     "text": [
      "findfont: Generic family 'serif' not found because none of the following families were found: Latin Modern Roman\n"
     ]
    },
    {
     "name": "stderr",
     "output_type": "stream",
     "text": [
      "findfont: Generic family 'serif' not found because none of the following families were found: Latin Modern Roman\n"
     ]
    },
    {
     "name": "stderr",
     "output_type": "stream",
     "text": [
      "findfont: Generic family 'serif' not found because none of the following families were found: Latin Modern Roman\n"
     ]
    },
    {
     "name": "stderr",
     "output_type": "stream",
     "text": [
      "findfont: Generic family 'serif' not found because none of the following families were found: Latin Modern Roman\n"
     ]
    },
    {
     "name": "stderr",
     "output_type": "stream",
     "text": [
      "findfont: Generic family 'serif' not found because none of the following families were found: Latin Modern Roman\n"
     ]
    },
    {
     "name": "stderr",
     "output_type": "stream",
     "text": [
      "findfont: Generic family 'serif' not found because none of the following families were found: Latin Modern Roman\n"
     ]
    },
    {
     "name": "stderr",
     "output_type": "stream",
     "text": [
      "findfont: Generic family 'serif' not found because none of the following families were found: Latin Modern Roman\n"
     ]
    },
    {
     "name": "stderr",
     "output_type": "stream",
     "text": [
      "findfont: Generic family 'serif' not found because none of the following families were found: Latin Modern Roman\n"
     ]
    },
    {
     "name": "stderr",
     "output_type": "stream",
     "text": [
      "findfont: Generic family 'serif' not found because none of the following families were found: Latin Modern Roman\n"
     ]
    },
    {
     "name": "stderr",
     "output_type": "stream",
     "text": [
      "findfont: Generic family 'serif' not found because none of the following families were found: Latin Modern Roman\n"
     ]
    },
    {
     "name": "stderr",
     "output_type": "stream",
     "text": [
      "findfont: Generic family 'serif' not found because none of the following families were found: Latin Modern Roman\n"
     ]
    },
    {
     "name": "stderr",
     "output_type": "stream",
     "text": [
      "findfont: Generic family 'serif' not found because none of the following families were found: Latin Modern Roman\n"
     ]
    },
    {
     "name": "stderr",
     "output_type": "stream",
     "text": [
      "findfont: Generic family 'serif' not found because none of the following families were found: Latin Modern Roman\n"
     ]
    },
    {
     "name": "stderr",
     "output_type": "stream",
     "text": [
      "findfont: Generic family 'serif' not found because none of the following families were found: Latin Modern Roman\n"
     ]
    },
    {
     "name": "stderr",
     "output_type": "stream",
     "text": [
      "findfont: Generic family 'serif' not found because none of the following families were found: Latin Modern Roman\n"
     ]
    },
    {
     "name": "stderr",
     "output_type": "stream",
     "text": [
      "findfont: Generic family 'serif' not found because none of the following families were found: Latin Modern Roman\n"
     ]
    },
    {
     "name": "stderr",
     "output_type": "stream",
     "text": [
      "findfont: Generic family 'serif' not found because none of the following families were found: Latin Modern Roman\n"
     ]
    },
    {
     "name": "stderr",
     "output_type": "stream",
     "text": [
      "findfont: Generic family 'serif' not found because none of the following families were found: Latin Modern Roman\n"
     ]
    },
    {
     "name": "stderr",
     "output_type": "stream",
     "text": [
      "findfont: Generic family 'serif' not found because none of the following families were found: Latin Modern Roman\n"
     ]
    },
    {
     "name": "stderr",
     "output_type": "stream",
     "text": [
      "findfont: Generic family 'serif' not found because none of the following families were found: Latin Modern Roman\n"
     ]
    },
    {
     "name": "stderr",
     "output_type": "stream",
     "text": [
      "findfont: Generic family 'serif' not found because none of the following families were found: Latin Modern Roman\n"
     ]
    },
    {
     "name": "stderr",
     "output_type": "stream",
     "text": [
      "findfont: Generic family 'serif' not found because none of the following families were found: Latin Modern Roman\n"
     ]
    },
    {
     "name": "stderr",
     "output_type": "stream",
     "text": [
      "findfont: Generic family 'serif' not found because none of the following families were found: Latin Modern Roman\n"
     ]
    },
    {
     "name": "stderr",
     "output_type": "stream",
     "text": [
      "findfont: Generic family 'serif' not found because none of the following families were found: Latin Modern Roman\n"
     ]
    },
    {
     "name": "stderr",
     "output_type": "stream",
     "text": [
      "findfont: Generic family 'serif' not found because none of the following families were found: Latin Modern Roman\n"
     ]
    },
    {
     "name": "stderr",
     "output_type": "stream",
     "text": [
      "findfont: Generic family 'serif' not found because none of the following families were found: Latin Modern Roman\n"
     ]
    },
    {
     "name": "stderr",
     "output_type": "stream",
     "text": [
      "findfont: Generic family 'serif' not found because none of the following families were found: Latin Modern Roman\n"
     ]
    },
    {
     "name": "stderr",
     "output_type": "stream",
     "text": [
      "findfont: Generic family 'serif' not found because none of the following families were found: Latin Modern Roman\n"
     ]
    },
    {
     "name": "stderr",
     "output_type": "stream",
     "text": [
      "findfont: Generic family 'serif' not found because none of the following families were found: Latin Modern Roman\n"
     ]
    },
    {
     "name": "stderr",
     "output_type": "stream",
     "text": [
      "findfont: Generic family 'serif' not found because none of the following families were found: Latin Modern Roman\n"
     ]
    },
    {
     "name": "stderr",
     "output_type": "stream",
     "text": [
      "findfont: Generic family 'serif' not found because none of the following families were found: Latin Modern Roman\n"
     ]
    },
    {
     "name": "stderr",
     "output_type": "stream",
     "text": [
      "findfont: Generic family 'serif' not found because none of the following families were found: Latin Modern Roman\n"
     ]
    },
    {
     "name": "stderr",
     "output_type": "stream",
     "text": [
      "findfont: Generic family 'serif' not found because none of the following families were found: Latin Modern Roman\n"
     ]
    },
    {
     "name": "stderr",
     "output_type": "stream",
     "text": [
      "findfont: Generic family 'serif' not found because none of the following families were found: Latin Modern Roman\n"
     ]
    },
    {
     "name": "stderr",
     "output_type": "stream",
     "text": [
      "findfont: Generic family 'serif' not found because none of the following families were found: Latin Modern Roman\n"
     ]
    },
    {
     "name": "stderr",
     "output_type": "stream",
     "text": [
      "findfont: Generic family 'serif' not found because none of the following families were found: Latin Modern Roman\n"
     ]
    },
    {
     "name": "stderr",
     "output_type": "stream",
     "text": [
      "findfont: Generic family 'serif' not found because none of the following families were found: Latin Modern Roman\n"
     ]
    },
    {
     "name": "stderr",
     "output_type": "stream",
     "text": [
      "findfont: Generic family 'serif' not found because none of the following families were found: Latin Modern Roman\n"
     ]
    },
    {
     "name": "stderr",
     "output_type": "stream",
     "text": [
      "findfont: Generic family 'serif' not found because none of the following families were found: Latin Modern Roman\n"
     ]
    },
    {
     "name": "stderr",
     "output_type": "stream",
     "text": [
      "findfont: Generic family 'serif' not found because none of the following families were found: Latin Modern Roman\n"
     ]
    },
    {
     "name": "stderr",
     "output_type": "stream",
     "text": [
      "findfont: Generic family 'serif' not found because none of the following families were found: Latin Modern Roman\n"
     ]
    },
    {
     "name": "stderr",
     "output_type": "stream",
     "text": [
      "findfont: Generic family 'serif' not found because none of the following families were found: Latin Modern Roman\n"
     ]
    },
    {
     "name": "stderr",
     "output_type": "stream",
     "text": [
      "findfont: Generic family 'serif' not found because none of the following families were found: Latin Modern Roman\n"
     ]
    },
    {
     "name": "stderr",
     "output_type": "stream",
     "text": [
      "findfont: Generic family 'serif' not found because none of the following families were found: Latin Modern Roman\n"
     ]
    },
    {
     "name": "stderr",
     "output_type": "stream",
     "text": [
      "findfont: Generic family 'serif' not found because none of the following families were found: Latin Modern Roman\n"
     ]
    },
    {
     "name": "stderr",
     "output_type": "stream",
     "text": [
      "findfont: Generic family 'serif' not found because none of the following families were found: Latin Modern Roman\n"
     ]
    },
    {
     "data": {
      "image/png": "[encoded data removed]",
      "text/plain": [
       "<Figure size 672x480 with 1 Axes>"
      ]
     },
     "metadata": {
      "image/png": {
       "height": 418,
       "width": 577
      }
     },
     "output_type": "display_data"
    }
   ],
   "source": [
    "plt.plot(ozone.T12, ozone.O3, '.k')\n",
    "plt.ylabel('O3')\n",
    "plt.xlabel('T12')\n",
    "plt.plot(grille.T12,  prev, '-', lw=1, label=\"E(Y)\")\n",
    "lesic, = plt.plot(grille.T12, ICdte[:, 0], 'r--', label=r\"IC $\\mathbb{E}(Y)$\", lw=1)\n",
    "plt.plot(grille.T12, ICdte[:, 1], 'r--', lw=1)\n",
    "plt.legend(handles=[lesic,], loc='lower right')"
   ]
  },
  {
   "cell_type": "code",
   "execution_count": 8,
   "id": "584579c9",
   "metadata": {},
   "outputs": [
    {
     "data": {
      "text/plain": [
       "<matplotlib.legend.Legend at 0x134b0aa80>"
      ]
     },
     "execution_count": 7,
     "metadata": {},
     "output_type": "execute_result"
    },
    {
     "name": "stderr",
     "output_type": "stream",
     "text": [
      "findfont: Generic family 'serif' not found because none of the following families were found: Latin Modern Roman\n"
     ]
    },
    {
     "name": "stderr",
     "output_type": "stream",
     "text": [
      "findfont: Generic family 'serif' not found because none of the following families were found: Latin Modern Roman\n"
     ]
    },
    {
     "name": "stderr",
     "output_type": "stream",
     "text": [
      "findfont: Generic family 'serif' not found because none of the following families were found: Latin Modern Roman\n"
     ]
    },
    {
     "name": "stderr",
     "output_type": "stream",
     "text": [
      "findfont: Generic family 'serif' not found because none of the following families were found: Latin Modern Roman\n"
     ]
    },
    {
     "name": "stderr",
     "output_type": "stream",
     "text": [
      "findfont: Generic family 'serif' not found because none of the following families were found: Latin Modern Roman\n"
     ]
    },
    {
     "name": "stderr",
     "output_type": "stream",
     "text": [
      "findfont: Generic family 'serif' not found because none of the following families were found: Latin Modern Roman\n"
     ]
    },
    {
     "name": "stderr",
     "output_type": "stream",
     "text": [
      "findfont: Generic family 'serif' not found because none of the following families were found: Latin Modern Roman\n"
     ]
    },
    {
     "name": "stderr",
     "output_type": "stream",
     "text": [
      "findfont: Generic family 'serif' not found because none of the following families were found: Latin Modern Roman\n"
     ]
    },
    {
     "name": "stderr",
     "output_type": "stream",
     "text": [
      "findfont: Generic family 'serif' not found because none of the following families were found: Latin Modern Roman\n"
     ]
    },
    {
     "name": "stderr",
     "output_type": "stream",
     "text": [
      "findfont: Generic family 'serif' not found because none of the following families were found: Latin Modern Roman\n"
     ]
    },
    {
     "name": "stderr",
     "output_type": "stream",
     "text": [
      "findfont: Generic family 'serif' not found because none of the following families were found: Latin Modern Roman\n"
     ]
    },
    {
     "name": "stderr",
     "output_type": "stream",
     "text": [
      "findfont: Generic family 'serif' not found because none of the following families were found: Latin Modern Roman\n"
     ]
    },
    {
     "name": "stderr",
     "output_type": "stream",
     "text": [
      "findfont: Generic family 'serif' not found because none of the following families were found: Latin Modern Roman\n"
     ]
    },
    {
     "name": "stderr",
     "output_type": "stream",
     "text": [
      "findfont: Generic family 'serif' not found because none of the following families were found: Latin Modern Roman\n"
     ]
    },
    {
     "name": "stderr",
     "output_type": "stream",
     "text": [
      "findfont: Generic family 'serif' not found because none of the following families were found: Latin Modern Roman\n"
     ]
    },
    {
     "name": "stderr",
     "output_type": "stream",
     "text": [
      "findfont: Generic family 'serif' not found because none of the following families were found: Latin Modern Roman\n"
     ]
    },
    {
     "name": "stderr",
     "output_type": "stream",
     "text": [
      "findfont: Generic family 'serif' not found because none of the following families were found: Latin Modern Roman\n"
     ]
    },
    {
     "name": "stderr",
     "output_type": "stream",
     "text": [
      "findfont: Generic family 'serif' not found because none of the following families were found: Latin Modern Roman\n"
     ]
    },
    {
     "name": "stderr",
     "output_type": "stream",
     "text": [
      "findfont: Generic family 'serif' not found because none of the following families were found: Latin Modern Roman\n"
     ]
    },
    {
     "name": "stderr",
     "output_type": "stream",
     "text": [
      "findfont: Generic family 'serif' not found because none of the following families were found: Latin Modern Roman\n"
     ]
    },
    {
     "name": "stderr",
     "output_type": "stream",
     "text": [
      "findfont: Generic family 'serif' not found because none of the following families were found: Latin Modern Roman\n"
     ]
    },
    {
     "name": "stderr",
     "output_type": "stream",
     "text": [
      "findfont: Generic family 'serif' not found because none of the following families were found: Latin Modern Roman\n"
     ]
    },
    {
     "name": "stderr",
     "output_type": "stream",
     "text": [
      "findfont: Generic family 'serif' not found because none of the following families were found: Latin Modern Roman\n"
     ]
    },
    {
     "name": "stderr",
     "output_type": "stream",
     "text": [
      "findfont: Generic family 'serif' not found because none of the following families were found: Latin Modern Roman\n"
     ]
    },
    {
     "name": "stderr",
     "output_type": "stream",
     "text": [
      "findfont: Generic family 'serif' not found because none of the following families were found: Latin Modern Roman\n"
     ]
    },
    {
     "name": "stderr",
     "output_type": "stream",
     "text": [
      "findfont: Generic family 'serif' not found because none of the following families were found: Latin Modern Roman\n"
     ]
    },
    {
     "name": "stderr",
     "output_type": "stream",
     "text": [
      "findfont: Generic family 'serif' not found because none of the following families were found: Latin Modern Roman\n"
     ]
    },
    {
     "name": "stderr",
     "output_type": "stream",
     "text": [
      "findfont: Generic family 'serif' not found because none of the following families were found: Latin Modern Roman\n"
     ]
    },
    {
     "name": "stderr",
     "output_type": "stream",
     "text": [
      "findfont: Generic family 'serif' not found because none of the following families were found: Latin Modern Roman\n"
     ]
    },
    {
     "name": "stderr",
     "output_type": "stream",
     "text": [
      "findfont: Generic family 'serif' not found because none of the following families were found: Latin Modern Roman\n"
     ]
    },
    {
     "name": "stderr",
     "output_type": "stream",
     "text": [
      "findfont: Generic family 'serif' not found because none of the following families were found: Latin Modern Roman\n"
     ]
    },
    {
     "name": "stderr",
     "output_type": "stream",
     "text": [
      "findfont: Generic family 'serif' not found because none of the following families were found: Latin Modern Roman\n"
     ]
    },
    {
     "name": "stderr",
     "output_type": "stream",
     "text": [
      "findfont: Generic family 'serif' not found because none of the following families were found: Latin Modern Roman\n"
     ]
    },
    {
     "name": "stderr",
     "output_type": "stream",
     "text": [
      "findfont: Generic family 'serif' not found because none of the following families were found: Latin Modern Roman\n"
     ]
    },
    {
     "name": "stderr",
     "output_type": "stream",
     "text": [
      "findfont: Generic family 'serif' not found because none of the following families were found: Latin Modern Roman\n"
     ]
    },
    {
     "name": "stderr",
     "output_type": "stream",
     "text": [
      "findfont: Generic family 'serif' not found because none of the following families were found: Latin Modern Roman\n"
     ]
    },
    {
     "name": "stderr",
     "output_type": "stream",
     "text": [
      "findfont: Generic family 'serif' not found because none of the following families were found: Latin Modern Roman\n"
     ]
    },
    {
     "name": "stderr",
     "output_type": "stream",
     "text": [
      "findfont: Generic family 'serif' not found because none of the following families were found: Latin Modern Roman\n"
     ]
    },
    {
     "name": "stderr",
     "output_type": "stream",
     "text": [
      "findfont: Generic family 'serif' not found because none of the following families were found: Latin Modern Roman\n"
     ]
    },
    {
     "name": "stderr",
     "output_type": "stream",
     "text": [
      "findfont: Generic family 'serif' not found because none of the following families were found: Latin Modern Roman\n"
     ]
    },
    {
     "name": "stderr",
     "output_type": "stream",
     "text": [
      "findfont: Generic family 'serif' not found because none of the following families were found: Latin Modern Roman\n"
     ]
    },
    {
     "name": "stderr",
     "output_type": "stream",
     "text": [
      "findfont: Generic family 'serif' not found because none of the following families were found: Latin Modern Roman\n"
     ]
    },
    {
     "name": "stderr",
     "output_type": "stream",
     "text": [
      "findfont: Generic family 'serif' not found because none of the following families were found: Latin Modern Roman\n"
     ]
    },
    {
     "name": "stderr",
     "output_type": "stream",
     "text": [
      "findfont: Generic family 'serif' not found because none of the following families were found: Latin Modern Roman\n"
     ]
    },
    {
     "name": "stderr",
     "output_type": "stream",
     "text": [
      "findfont: Generic family 'serif' not found because none of the following families were found: Latin Modern Roman\n"
     ]
    },
    {
     "name": "stderr",
     "output_type": "stream",
     "text": [
      "findfont: Generic family 'serif' not found because none of the following families were found: Latin Modern Roman\n"
     ]
    },
    {
     "name": "stderr",
     "output_type": "stream",
     "text": [
      "findfont: Generic family 'serif' not found because none of the following families were found: Latin Modern Roman\n"
     ]
    },
    {
     "name": "stderr",
     "output_type": "stream",
     "text": [
      "findfont: Generic family 'serif' not found because none of the following families were found: Latin Modern Roman\n"
     ]
    },
    {
     "name": "stderr",
     "output_type": "stream",
     "text": [
      "findfont: Generic family 'serif' not found because none of the following families were found: Latin Modern Roman\n"
     ]
    },
    {
     "name": "stderr",
     "output_type": "stream",
     "text": [
      "findfont: Generic family 'serif' not found because none of the following families were found: Latin Modern Roman\n"
     ]
    },
    {
     "name": "stderr",
     "output_type": "stream",
     "text": [
      "findfont: Generic family 'serif' not found because none of the following families were found: Latin Modern Roman\n"
     ]
    },
    {
     "name": "stderr",
     "output_type": "stream",
     "text": [
      "findfont: Generic family 'serif' not found because none of the following families were found: Latin Modern Roman\n"
     ]
    },
    {
     "name": "stderr",
     "output_type": "stream",
     "text": [
      "findfont: Generic family 'serif' not found because none of the following families were found: Latin Modern Roman\n"
     ]
    },
    {
     "name": "stderr",
     "output_type": "stream",
     "text": [
      "findfont: Generic family 'serif' not found because none of the following families were found: Latin Modern Roman\n"
     ]
    },
    {
     "name": "stderr",
     "output_type": "stream",
     "text": [
      "findfont: Generic family 'serif' not found because none of the following families were found: Latin Modern Roman\n"
     ]
    },
    {
     "name": "stderr",
     "output_type": "stream",
     "text": [
      "findfont: Generic family 'serif' not found because none of the following families were found: Latin Modern Roman\n"
     ]
    },
    {
     "name": "stderr",
     "output_type": "stream",
     "text": [
      "findfont: Generic family 'serif' not found because none of the following families were found: Latin Modern Roman\n"
     ]
    },
    {
     "name": "stderr",
     "output_type": "stream",
     "text": [
      "findfont: Generic family 'serif' not found because none of the following families were found: Latin Modern Roman\n"
     ]
    },
    {
     "name": "stderr",
     "output_type": "stream",
     "text": [
      "findfont: Generic family 'serif' not found because none of the following families were found: Latin Modern Roman\n"
     ]
    },
    {
     "name": "stderr",
     "output_type": "stream",
     "text": [
      "findfont: Generic family 'serif' not found because none of the following families were found: Latin Modern Roman\n"
     ]
    },
    {
     "name": "stderr",
     "output_type": "stream",
     "text": [
      "findfont: Generic family 'serif' not found because none of the following families were found: Latin Modern Roman\n"
     ]
    },
    {
     "name": "stderr",
     "output_type": "stream",
     "text": [
      "findfont: Generic family 'serif' not found because none of the following families were found: Latin Modern Roman\n"
     ]
    },
    {
     "name": "stderr",
     "output_type": "stream",
     "text": [
      "findfont: Generic family 'serif' not found because none of the following families were found: Latin Modern Roman\n"
     ]
    },
    {
     "name": "stderr",
     "output_type": "stream",
     "text": [
      "findfont: Generic family 'serif' not found because none of the following families were found: Latin Modern Roman\n"
     ]
    },
    {
     "name": "stderr",
     "output_type": "stream",
     "text": [
      "findfont: Generic family 'serif' not found because none of the following families were found: Latin Modern Roman\n"
     ]
    },
    {
     "name": "stderr",
     "output_type": "stream",
     "text": [
      "findfont: Generic family 'serif' not found because none of the following families were found: Latin Modern Roman\n"
     ]
    },
    {
     "name": "stderr",
     "output_type": "stream",
     "text": [
      "findfont: Generic family 'serif' not found because none of the following families were found: Latin Modern Roman\n"
     ]
    },
    {
     "name": "stderr",
     "output_type": "stream",
     "text": [
      "findfont: Generic family 'serif' not found because none of the following families were found: Latin Modern Roman\n"
     ]
    },
    {
     "name": "stderr",
     "output_type": "stream",
     "text": [
      "findfont: Generic family 'serif' not found because none of the following families were found: Latin Modern Roman\n"
     ]
    },
    {
     "name": "stderr",
     "output_type": "stream",
     "text": [
      "findfont: Generic family 'serif' not found because none of the following families were found: Latin Modern Roman\n"
     ]
    },
    {
     "name": "stderr",
     "output_type": "stream",
     "text": [
      "findfont: Generic family 'serif' not found because none of the following families were found: Latin Modern Roman\n"
     ]
    },
    {
     "name": "stderr",
     "output_type": "stream",
     "text": [
      "findfont: Generic family 'serif' not found because none of the following families were found: Latin Modern Roman\n"
     ]
    },
    {
     "name": "stderr",
     "output_type": "stream",
     "text": [
      "findfont: Generic family 'serif' not found because none of the following families were found: Latin Modern Roman\n"
     ]
    },
    {
     "name": "stderr",
     "output_type": "stream",
     "text": [
      "findfont: Generic family 'serif' not found because none of the following families were found: Latin Modern Roman\n"
     ]
    },
    {
     "name": "stderr",
     "output_type": "stream",
     "text": [
      "findfont: Generic family 'serif' not found because none of the following families were found: Latin Modern Roman\n"
     ]
    },
    {
     "name": "stderr",
     "output_type": "stream",
     "text": [
      "findfont: Generic family 'serif' not found because none of the following families were found: Latin Modern Roman\n"
     ]
    },
    {
     "name": "stderr",
     "output_type": "stream",
     "text": [
      "findfont: Generic family 'serif' not found because none of the following families were found: Latin Modern Roman\n"
     ]
    },
    {
     "name": "stderr",
     "output_type": "stream",
     "text": [
      "findfont: Generic family 'serif' not found because none of the following families were found: Latin Modern Roman\n"
     ]
    },
    {
     "name": "stderr",
     "output_type": "stream",
     "text": [
      "findfont: Generic family 'serif' not found because none of the following families were found: Latin Modern Roman\n"
     ]
    },
    {
     "name": "stderr",
     "output_type": "stream",
     "text": [
      "findfont: Generic family 'serif' not found because none of the following families were found: Latin Modern Roman\n"
     ]
    },
    {
     "name": "stderr",
     "output_type": "stream",
     "text": [
      "findfont: Generic family 'serif' not found because none of the following families were found: Latin Modern Roman\n"
     ]
    },
    {
     "name": "stderr",
     "output_type": "stream",
     "text": [
      "findfont: Generic family 'serif' not found because none of the following families were found: Latin Modern Roman\n"
     ]
    },
    {
     "name": "stderr",
     "output_type": "stream",
     "text": [
      "findfont: Generic family 'serif' not found because none of the following families were found: Latin Modern Roman\n"
     ]
    },
    {
     "name": "stderr",
     "output_type": "stream",
     "text": [
      "findfont: Generic family 'serif' not found because none of the following families were found: Latin Modern Roman\n"
     ]
    },
    {
     "name": "stderr",
     "output_type": "stream",
     "text": [
      "findfont: Generic family 'serif' not found because none of the following families were found: Latin Modern Roman\n"
     ]
    },
    {
     "name": "stderr",
     "output_type": "stream",
     "text": [
      "findfont: Generic family 'serif' not found because none of the following families were found: Latin Modern Roman\n"
     ]
    },
    {
     "name": "stderr",
     "output_type": "stream",
     "text": [
      "findfont: Generic family 'serif' not found because none of the following families were found: Latin Modern Roman\n"
     ]
    },
    {
     "name": "stderr",
     "output_type": "stream",
     "text": [
      "findfont: Generic family 'serif' not found because none of the following families were found: Latin Modern Roman\n"
     ]
    },
    {
     "name": "stderr",
     "output_type": "stream",
     "text": [
      "findfont: Generic family 'serif' not found because none of the following families were found: Latin Modern Roman\n"
     ]
    },
    {
     "name": "stderr",
     "output_type": "stream",
     "text": [
      "findfont: Generic family 'serif' not found because none of the following families were found: Latin Modern Roman\n"
     ]
    },
    {
     "name": "stderr",
     "output_type": "stream",
     "text": [
      "findfont: Generic family 'serif' not found because none of the following families were found: Latin Modern Roman\n"
     ]
    },
    {
     "name": "stderr",
     "output_type": "stream",
     "text": [
      "findfont: Generic family 'serif' not found because none of the following families were found: Latin Modern Roman\n"
     ]
    },
    {
     "name": "stderr",
     "output_type": "stream",
     "text": [
      "findfont: Generic family 'serif' not found because none of the following families were found: Latin Modern Roman\n"
     ]
    },
    {
     "name": "stderr",
     "output_type": "stream",
     "text": [
      "findfont: Generic family 'serif' not found because none of the following families were found: Latin Modern Roman\n"
     ]
    },
    {
     "name": "stderr",
     "output_type": "stream",
     "text": [
      "findfont: Generic family 'serif' not found because none of the following families were found: Latin Modern Roman\n"
     ]
    },
    {
     "name": "stderr",
     "output_type": "stream",
     "text": [
      "findfont: Generic family 'serif' not found because none of the following families were found: Latin Modern Roman\n"
     ]
    },
    {
     "name": "stderr",
     "output_type": "stream",
     "text": [
      "findfont: Generic family 'serif' not found because none of the following families were found: Latin Modern Roman\n"
     ]
    },
    {
     "name": "stderr",
     "output_type": "stream",
     "text": [
      "findfont: Generic family 'serif' not found because none of the following families were found: Latin Modern Roman\n"
     ]
    },
    {
     "name": "stderr",
     "output_type": "stream",
     "text": [
      "findfont: Generic family 'serif' not found because none of the following families were found: Latin Modern Roman\n"
     ]
    },
    {
     "name": "stderr",
     "output_type": "stream",
     "text": [
      "findfont: Generic family 'serif' not found because none of the following families were found: Latin Modern Roman\n"
     ]
    },
    {
     "name": "stderr",
     "output_type": "stream",
     "text": [
      "findfont: Generic family 'serif' not found because none of the following families were found: Latin Modern Roman\n"
     ]
    },
    {
     "name": "stderr",
     "output_type": "stream",
     "text": [
      "findfont: Generic family 'serif' not found because none of the following families were found: Latin Modern Roman\n"
     ]
    },
    {
     "name": "stderr",
     "output_type": "stream",
     "text": [
      "findfont: Generic family 'serif' not found because none of the following families were found: Latin Modern Roman\n"
     ]
    },
    {
     "name": "stderr",
     "output_type": "stream",
     "text": [
      "findfont: Generic family 'serif' not found because none of the following families were found: Latin Modern Roman\n"
     ]
    },
    {
     "name": "stderr",
     "output_type": "stream",
     "text": [
      "findfont: Generic family 'serif' not found because none of the following families were found: Latin Modern Roman\n"
     ]
    },
    {
     "name": "stderr",
     "output_type": "stream",
     "text": [
      "findfont: Generic family 'serif' not found because none of the following families were found: Latin Modern Roman\n"
     ]
    },
    {
     "name": "stderr",
     "output_type": "stream",
     "text": [
      "findfont: Generic family 'serif' not found because none of the following families were found: Latin Modern Roman\n"
     ]
    },
    {
     "data": {
      "image/png": "[encoded data removed]",
      "text/plain": [
       "<Figure size 672x480 with 1 Axes>"
      ]
     },
     "metadata": {
      "image/png": {
       "height": 418,
       "width": 577
      }
     },
     "output_type": "display_data"
    }
   ],
   "source": [
    "plt.plot(ozone.T12, ozone.O3, '.k')\n",
    "plt.ylabel('O3') ; plt.xlabel('T12')\n",
    "plt.plot(grille.T12,  prev, '-', lw=1, label=\"E(Y)\")\n",
    "lesic, = plt.plot(grille.T12, ICdte[:, 0], 'r--', label=r\"IC $\\mathbb{E}(Y)$\", lw=1)\n",
    "plt.plot(grille.T12, ICdte[:, 1],'r--', lw=1)\n",
    "\n",
    "lesic2, = plt.plot(grille.T12, ICprev[:, 0], 'g:', label=r\"IC $Y$\", lw=1)\n",
    "plt.plot(grille.T12, ICprev[:, 1],'g:', lw=1)\n",
    "plt.legend(handles=[lesic, lesic2], loc='lower right')"
   ]
  },
  {
   "cell_type": "code",
   "execution_count": 9,
   "id": "8ea90d72",
   "metadata": {},
   "outputs": [
    {
     "data": {
      "text/html": [
       "<div>\n",
       "<style scoped>\n",
       "    .dataframe tbody tr th:only-of-type {\n",
       "        vertical-align: middle;\n",
       "    }\n",
       "\n",
       "    .dataframe tbody tr th {\n",
       "        vertical-align: top;\n",
       "    }\n",
       "\n",
       "    .dataframe thead th {\n",
       "        text-align: right;\n",
       "    }\n",
       "</style>\n",
       "<table border=\"1\" class=\"dataframe\">\n",
       "  <thead>\n",
       "    <tr style=\"text-align: right;\">\n",
       "      <th></th>\n",
       "      <th>0</th>\n",
       "      <th>1</th>\n",
       "    </tr>\n",
       "  </thead>\n",
       "  <tbody>\n",
       "    <tr>\n",
       "      <th>Intercept</th>\n",
       "      <td>5.159</td>\n",
       "      <td>57.671</td>\n",
       "    </tr>\n",
       "    <tr>\n",
       "      <th>T12</th>\n",
       "      <td>1.441</td>\n",
       "      <td>3.961</td>\n",
       "    </tr>\n",
       "  </tbody>\n",
       "</table>\n",
       "</div>"
      ],
      "text/plain": [
       "               0       1\n",
       "Intercept  5.159  57.671\n",
       "T12        1.441   3.961"
      ]
     },
     "execution_count": 8,
     "metadata": {},
     "output_type": "execute_result"
    }
   ],
   "source": [
    "ICparams = reg.conf_int(alpha=0.05)\n",
    "round(ICparams, 3)"
   ]
  },
  {
   "cell_type": "code",
   "execution_count": 10,
   "id": "3cd36850",
   "metadata": {},
   "outputs": [
    {
     "name": "stderr",
     "output_type": "stream",
     "text": [
      "findfont: Generic family 'serif' not found because none of the following families were found: Latin Modern Roman\n"
     ]
    },
    {
     "name": "stderr",
     "output_type": "stream",
     "text": [
      "findfont: Generic family 'serif' not found because none of the following families were found: Latin Modern Roman\n"
     ]
    },
    {
     "name": "stderr",
     "output_type": "stream",
     "text": [
      "findfont: Generic family 'serif' not found because none of the following families were found: Latin Modern Roman\n"
     ]
    },
    {
     "name": "stderr",
     "output_type": "stream",
     "text": [
      "findfont: Generic family 'serif' not found because none of the following families were found: Latin Modern Roman\n"
     ]
    },
    {
     "name": "stderr",
     "output_type": "stream",
     "text": [
      "findfont: Generic family 'serif' not found because none of the following families were found: Latin Modern Roman\n"
     ]
    },
    {
     "name": "stderr",
     "output_type": "stream",
     "text": [
      "findfont: Generic family 'serif' not found because none of the following families were found: Latin Modern Roman\n"
     ]
    },
    {
     "name": "stderr",
     "output_type": "stream",
     "text": [
      "findfont: Generic family 'serif' not found because none of the following families were found: Latin Modern Roman\n"
     ]
    },
    {
     "name": "stderr",
     "output_type": "stream",
     "text": [
      "findfont: Generic family 'serif' not found because none of the following families were found: Latin Modern Roman\n"
     ]
    },
    {
     "name": "stderr",
     "output_type": "stream",
     "text": [
      "findfont: Generic family 'serif' not found because none of the following families were found: Latin Modern Roman\n"
     ]
    },
    {
     "name": "stderr",
     "output_type": "stream",
     "text": [
      "findfont: Generic family 'serif' not found because none of the following families were found: Latin Modern Roman\n"
     ]
    },
    {
     "name": "stderr",
     "output_type": "stream",
     "text": [
      "findfont: Generic family 'serif' not found because none of the following families were found: Latin Modern Roman\n"
     ]
    },
    {
     "name": "stderr",
     "output_type": "stream",
     "text": [
      "findfont: Generic family 'serif' not found because none of the following families were found: Latin Modern Roman\n"
     ]
    },
    {
     "name": "stderr",
     "output_type": "stream",
     "text": [
      "findfont: Generic family 'serif' not found because none of the following families were found: Latin Modern Roman\n"
     ]
    },
    {
     "name": "stderr",
     "output_type": "stream",
     "text": [
      "findfont: Generic family 'serif' not found because none of the following families were found: Latin Modern Roman\n"
     ]
    },
    {
     "name": "stderr",
     "output_type": "stream",
     "text": [
      "findfont: Generic family 'serif' not found because none of the following families were found: Latin Modern Roman\n"
     ]
    },
    {
     "name": "stderr",
     "output_type": "stream",
     "text": [
      "findfont: Generic family 'serif' not found because none of the following families were found: Latin Modern Roman\n"
     ]
    },
    {
     "name": "stderr",
     "output_type": "stream",
     "text": [
      "findfont: Generic family 'serif' not found because none of the following families were found: Latin Modern Roman\n"
     ]
    },
    {
     "name": "stderr",
     "output_type": "stream",
     "text": [
      "findfont: Generic family 'serif' not found because none of the following families were found: Latin Modern Roman\n"
     ]
    },
    {
     "name": "stderr",
     "output_type": "stream",
     "text": [
      "findfont: Generic family 'serif' not found because none of the following families were found: Latin Modern Roman\n"
     ]
    },
    {
     "name": "stderr",
     "output_type": "stream",
     "text": [
      "findfont: Generic family 'serif' not found because none of the following families were found: Latin Modern Roman\n"
     ]
    },
    {
     "name": "stderr",
     "output_type": "stream",
     "text": [
      "findfont: Generic family 'serif' not found because none of the following families were found: Latin Modern Roman\n"
     ]
    },
    {
     "name": "stderr",
     "output_type": "stream",
     "text": [
      "findfont: Generic family 'serif' not found because none of the following families were found: Latin Modern Roman\n"
     ]
    },
    {
     "name": "stderr",
     "output_type": "stream",
     "text": [
      "findfont: Generic family 'serif' not found because none of the following families were found: Latin Modern Roman\n"
     ]
    },
    {
     "name": "stderr",
     "output_type": "stream",
     "text": [
      "findfont: Generic family 'serif' not found because none of the following families were found: Latin Modern Roman\n"
     ]
    },
    {
     "name": "stderr",
     "output_type": "stream",
     "text": [
      "findfont: Generic family 'serif' not found because none of the following families were found: Latin Modern Roman\n"
     ]
    },
    {
     "name": "stderr",
     "output_type": "stream",
     "text": [
      "findfont: Generic family 'serif' not found because none of the following families were found: Latin Modern Roman\n"
     ]
    },
    {
     "name": "stderr",
     "output_type": "stream",
     "text": [
      "findfont: Generic family 'serif' not found because none of the following families were found: Latin Modern Roman\n"
     ]
    },
    {
     "name": "stderr",
     "output_type": "stream",
     "text": [
      "findfont: Generic family 'serif' not found because none of the following families were found: Latin Modern Roman\n"
     ]
    },
    {
     "name": "stderr",
     "output_type": "stream",
     "text": [
      "findfont: Generic family 'serif' not found because none of the following families were found: Latin Modern Roman\n"
     ]
    },
    {
     "name": "stderr",
     "output_type": "stream",
     "text": [
      "findfont: Generic family 'serif' not found because none of the following families were found: Latin Modern Roman\n"
     ]
    },
    {
     "name": "stderr",
     "output_type": "stream",
     "text": [
      "findfont: Generic family 'serif' not found because none of the following families were found: Latin Modern Roman\n"
     ]
    },
    {
     "name": "stderr",
     "output_type": "stream",
     "text": [
      "findfont: Generic family 'serif' not found because none of the following families were found: Latin Modern Roman\n"
     ]
    },
    {
     "name": "stderr",
     "output_type": "stream",
     "text": [
      "findfont: Generic family 'serif' not found because none of the following families were found: Latin Modern Roman\n"
     ]
    },
    {
     "name": "stderr",
     "output_type": "stream",
     "text": [
      "findfont: Generic family 'serif' not found because none of the following families were found: Latin Modern Roman\n"
     ]
    },
    {
     "name": "stderr",
     "output_type": "stream",
     "text": [
      "findfont: Generic family 'serif' not found because none of the following families were found: Latin Modern Roman\n"
     ]
    },
    {
     "name": "stderr",
     "output_type": "stream",
     "text": [
      "findfont: Generic family 'serif' not found because none of the following families were found: Latin Modern Roman\n"
     ]
    },
    {
     "name": "stderr",
     "output_type": "stream",
     "text": [
      "findfont: Generic family 'serif' not found because none of the following families were found: Latin Modern Roman\n"
     ]
    },
    {
     "name": "stderr",
     "output_type": "stream",
     "text": [
      "findfont: Generic family 'serif' not found because none of the following families were found: Latin Modern Roman\n"
     ]
    },
    {
     "name": "stderr",
     "output_type": "stream",
     "text": [
      "findfont: Generic family 'serif' not found because none of the following families were found: Latin Modern Roman\n"
     ]
    },
    {
     "name": "stderr",
     "output_type": "stream",
     "text": [
      "findfont: Generic family 'serif' not found because none of the following families were found: Latin Modern Roman\n"
     ]
    },
    {
     "name": "stderr",
     "output_type": "stream",
     "text": [
      "findfont: Generic family 'serif' not found because none of the following families were found: Latin Modern Roman\n"
     ]
    },
    {
     "name": "stderr",
     "output_type": "stream",
     "text": [
      "findfont: Generic family 'serif' not found because none of the following families were found: Latin Modern Roman\n"
     ]
    },
    {
     "name": "stderr",
     "output_type": "stream",
     "text": [
      "findfont: Generic family 'serif' not found because none of the following families were found: Latin Modern Roman\n"
     ]
    },
    {
     "name": "stderr",
     "output_type": "stream",
     "text": [
      "findfont: Generic family 'serif' not found because none of the following families were found: Latin Modern Roman\n"
     ]
    },
    {
     "data": {
      "image/png": "[encoded data removed]",
      "text/plain": [
       "<Figure size 672x480 with 1 Axes>"
      ]
     },
     "metadata": {
      "image/png": {
       "height": 418,
       "width": 579
      }
     },
     "output_type": "display_data"
    }
   ],
   "source": [
    "eucalyptus = pd.read_csv(\"../donnees/eucalyptus.txt\", header=0, sep=\";\")\n",
    "plt.plot(eucalyptus.circ, eucalyptus.ht, '+k')\n",
    "plt.ylabel('ht')\n",
    "plt.xlabel('circ')\n",
    "plt.show()"
   ]
  },
  {
   "cell_type": "code",
   "execution_count": 11,
   "id": "05d00616",
   "metadata": {},
   "outputs": [
    {
     "data": {
      "text/html": [
       "<table class=\"simpletable\">\n",
       "<caption>OLS Regression Results</caption>\n",
       "<tr>\n",
       "  <th>Dep. Variable:</th>           <td>ht</td>        <th>  R-squared:         </th> <td>   0.768</td>\n",
       "</tr>\n",
       "<tr>\n",
       "  <th>Model:</th>                   <td>OLS</td>       <th>  Adj. R-squared:    </th> <td>   0.768</td>\n",
       "</tr>\n",
       "<tr>\n",
       "  <th>Method:</th>             <td>Least Squares</td>  <th>  F-statistic:       </th> <td>   4732.</td>\n",
       "</tr>\n",
       "<tr>\n",
       "  <th>Date:</th>             <td>Fri, 31 Jan 2025</td> <th>  Prob (F-statistic):</th>  <td>  0.00</td> \n",
       "</tr>\n",
       "<tr>\n",
       "  <th>Time:</th>                 <td>15:41:22</td>     <th>  Log-Likelihood:    </th> <td> -2286.2</td>\n",
       "</tr>\n",
       "<tr>\n",
       "  <th>No. Observations:</th>      <td>  1429</td>      <th>  AIC:               </th> <td>   4576.</td>\n",
       "</tr>\n",
       "<tr>\n",
       "  <th>Df Residuals:</th>          <td>  1427</td>      <th>  BIC:               </th> <td>   4587.</td>\n",
       "</tr>\n",
       "<tr>\n",
       "  <th>Df Model:</th>              <td>     1</td>      <th>                     </th>     <td> </td>   \n",
       "</tr>\n",
       "<tr>\n",
       "  <th>Covariance Type:</th>      <td>nonrobust</td>    <th>                     </th>     <td> </td>   \n",
       "</tr>\n",
       "</table>\n",
       "<table class=\"simpletable\">\n",
       "<tr>\n",
       "      <td></td>         <th>coef</th>     <th>std err</th>      <th>t</th>      <th>P>|t|</th>  <th>[0.025</th>    <th>0.975]</th>  \n",
       "</tr>\n",
       "<tr>\n",
       "  <th>Intercept</th> <td>    9.0375</td> <td>    0.180</td> <td>   50.264</td> <td> 0.000</td> <td>    8.685</td> <td>    9.390</td>\n",
       "</tr>\n",
       "<tr>\n",
       "  <th>circ</th>      <td>    0.2571</td> <td>    0.004</td> <td>   68.792</td> <td> 0.000</td> <td>    0.250</td> <td>    0.264</td>\n",
       "</tr>\n",
       "</table>\n",
       "<table class=\"simpletable\">\n",
       "<tr>\n",
       "  <th>Omnibus:</th>       <td> 7.943</td> <th>  Durbin-Watson:     </th> <td>   1.067</td>\n",
       "</tr>\n",
       "<tr>\n",
       "  <th>Prob(Omnibus):</th> <td> 0.019</td> <th>  Jarque-Bera (JB):  </th> <td>   8.015</td>\n",
       "</tr>\n",
       "<tr>\n",
       "  <th>Skew:</th>          <td>-0.156</td> <th>  Prob(JB):          </th> <td>  0.0182</td>\n",
       "</tr>\n",
       "<tr>\n",
       "  <th>Kurtosis:</th>      <td> 3.193</td> <th>  Cond. No.          </th> <td>    273.</td>\n",
       "</tr>\n",
       "</table><br/><br/>Notes:<br/>[1] Standard Errors assume that the covariance matrix of the errors is correctly specified."
      ],
      "text/latex": [
       "\\begin{center}\n",
       "\\begin{tabular}{lclc}\n",
       "\\toprule\n",
       "\\textbf{Dep. Variable:}    &        ht        & \\textbf{  R-squared:         } &     0.768   \\\\\n",
       "\\textbf{Model:}            &       OLS        & \\textbf{  Adj. R-squared:    } &     0.768   \\\\\n",
       "\\textbf{Method:}           &  Least Squares   & \\textbf{  F-statistic:       } &     4732.   \\\\\n",
       "\\textbf{Date:}             & Fri, 31 Jan 2025 & \\textbf{  Prob (F-statistic):} &     0.00    \\\\\n",
       "\\textbf{Time:}             &     15:41:22     & \\textbf{  Log-Likelihood:    } &   -2286.2   \\\\\n",
       "\\textbf{No. Observations:} &        1429      & \\textbf{  AIC:               } &     4576.   \\\\\n",
       "\\textbf{Df Residuals:}     &        1427      & \\textbf{  BIC:               } &     4587.   \\\\\n",
       "\\textbf{Df Model:}         &           1      & \\textbf{                     } &             \\\\\n",
       "\\textbf{Covariance Type:}  &    nonrobust     & \\textbf{                     } &             \\\\\n",
       "\\bottomrule\n",
       "\\end{tabular}\n",
       "\\begin{tabular}{lcccccc}\n",
       "                   & \\textbf{coef} & \\textbf{std err} & \\textbf{t} & \\textbf{P$> |$t$|$} & \\textbf{[0.025} & \\textbf{0.975]}  \\\\\n",
       "\\midrule\n",
       "\\textbf{Intercept} &       9.0375  &        0.180     &    50.264  &         0.000        &        8.685    &        9.390     \\\\\n",
       "\\textbf{circ}      &       0.2571  &        0.004     &    68.792  &         0.000        &        0.250    &        0.264     \\\\\n",
       "\\bottomrule\n",
       "\\end{tabular}\n",
       "\\begin{tabular}{lclc}\n",
       "\\textbf{Omnibus:}       &  7.943 & \\textbf{  Durbin-Watson:     } &    1.067  \\\\\n",
       "\\textbf{Prob(Omnibus):} &  0.019 & \\textbf{  Jarque-Bera (JB):  } &    8.015  \\\\\n",
       "\\textbf{Skew:}          & -0.156 & \\textbf{  Prob(JB):          } &   0.0182  \\\\\n",
       "\\textbf{Kurtosis:}      &  3.193 & \\textbf{  Cond. No.          } &     273.  \\\\\n",
       "\\bottomrule\n",
       "\\end{tabular}\n",
       "%\\caption{OLS Regression Results}\n",
       "\\end{center}\n",
       "\n",
       "Notes: \\newline\n",
       " [1] Standard Errors assume that the covariance matrix of the errors is correctly specified."
      ],
      "text/plain": [
       "<class 'statsmodels.iolib.summary.Summary'>\n",
       "\"\"\"\n",
       "                            OLS Regression Results                            \n",
       "==============================================================================\n",
       "Dep. Variable:                     ht   R-squared:                       0.768\n",
       "Model:                            OLS   Adj. R-squared:                  0.768\n",
       "Method:                 Least Squares   F-statistic:                     4732.\n",
       "Date:                Fri, 31 Jan 2025   Prob (F-statistic):               0.00\n",
       "Time:                        15:41:22   Log-Likelihood:                -2286.2\n",
       "No. Observations:                1429   AIC:                             4576.\n",
       "Df Residuals:                    1427   BIC:                             4587.\n",
       "Df Model:                           1                                         \n",
       "Covariance Type:            nonrobust                                         \n",
       "==============================================================================\n",
       "                 coef    std err          t      P>|t|      [0.025      0.975]\n",
       "------------------------------------------------------------------------------\n",
       "Intercept      9.0375      0.180     50.264      0.000       8.685       9.390\n",
       "circ           0.2571      0.004     68.792      0.000       0.250       0.264\n",
       "==============================================================================\n",
       "Omnibus:                        7.943   Durbin-Watson:                   1.067\n",
       "Prob(Omnibus):                  0.019   Jarque-Bera (JB):                8.015\n",
       "Skew:                          -0.156   Prob(JB):                       0.0182\n",
       "Kurtosis:                       3.193   Cond. No.                         273.\n",
       "==============================================================================\n",
       "\n",
       "Notes:\n",
       "[1] Standard Errors assume that the covariance matrix of the errors is correctly specified.\n",
       "\"\"\""
      ]
     },
     "execution_count": 10,
     "metadata": {},
     "output_type": "execute_result"
    }
   ],
   "source": [
    "reg = smf.ols('ht ~ circ', data=eucalyptus).fit()\n",
    "reg.summary()"
   ]
  },
  {
   "cell_type": "code",
   "execution_count": 12,
   "id": "49cba686",
   "metadata": {},
   "outputs": [],
   "source": [
    "grille = pd.DataFrame({'circ' : np.linspace(eucalyptus.circ.min(), eucalyptus.circ.max(), 100)})\n",
    "calculprev = reg.get_prediction(grille)\n",
    "ICdte = calculprev.conf_int(obs=False, alpha=0.05)\n",
    "ICprev = calculprev.conf_int(obs=True, alpha=0.05)\n",
    "prev = calculprev.predicted_mean"
   ]
  },
  {
   "cell_type": "code",
   "execution_count": 13,
   "id": "6a45c3c6",
   "metadata": {},
   "outputs": [
    {
     "data": {
      "text/plain": [
       "<matplotlib.legend.Legend at 0x134ca8590>"
      ]
     },
     "execution_count": 12,
     "metadata": {},
     "output_type": "execute_result"
    },
    {
     "name": "stderr",
     "output_type": "stream",
     "text": [
      "findfont: Generic family 'serif' not found because none of the following families were found: Latin Modern Roman\n"
     ]
    },
    {
     "name": "stderr",
     "output_type": "stream",
     "text": [
      "findfont: Generic family 'serif' not found because none of the following families were found: Latin Modern Roman\n"
     ]
    },
    {
     "name": "stderr",
     "output_type": "stream",
     "text": [
      "findfont: Generic family 'serif' not found because none of the following families were found: Latin Modern Roman\n"
     ]
    },
    {
     "name": "stderr",
     "output_type": "stream",
     "text": [
      "findfont: Generic family 'serif' not found because none of the following families were found: Latin Modern Roman\n"
     ]
    },
    {
     "name": "stderr",
     "output_type": "stream",
     "text": [
      "findfont: Generic family 'serif' not found because none of the following families were found: Latin Modern Roman\n"
     ]
    },
    {
     "name": "stderr",
     "output_type": "stream",
     "text": [
      "findfont: Generic family 'serif' not found because none of the following families were found: Latin Modern Roman\n"
     ]
    },
    {
     "name": "stderr",
     "output_type": "stream",
     "text": [
      "findfont: Generic family 'serif' not found because none of the following families were found: Latin Modern Roman\n"
     ]
    },
    {
     "name": "stderr",
     "output_type": "stream",
     "text": [
      "findfont: Generic family 'serif' not found because none of the following families were found: Latin Modern Roman\n"
     ]
    },
    {
     "name": "stderr",
     "output_type": "stream",
     "text": [
      "findfont: Generic family 'serif' not found because none of the following families were found: Latin Modern Roman\n"
     ]
    },
    {
     "name": "stderr",
     "output_type": "stream",
     "text": [
      "findfont: Generic family 'serif' not found because none of the following families were found: Latin Modern Roman\n"
     ]
    },
    {
     "name": "stderr",
     "output_type": "stream",
     "text": [
      "findfont: Generic family 'serif' not found because none of the following families were found: Latin Modern Roman\n"
     ]
    },
    {
     "name": "stderr",
     "output_type": "stream",
     "text": [
      "findfont: Generic family 'serif' not found because none of the following families were found: Latin Modern Roman\n"
     ]
    },
    {
     "name": "stderr",
     "output_type": "stream",
     "text": [
      "findfont: Generic family 'serif' not found because none of the following families were found: Latin Modern Roman\n"
     ]
    },
    {
     "name": "stderr",
     "output_type": "stream",
     "text": [
      "findfont: Generic family 'serif' not found because none of the following families were found: Latin Modern Roman\n"
     ]
    },
    {
     "name": "stderr",
     "output_type": "stream",
     "text": [
      "findfont: Generic family 'serif' not found because none of the following families were found: Latin Modern Roman\n"
     ]
    },
    {
     "name": "stderr",
     "output_type": "stream",
     "text": [
      "findfont: Generic family 'serif' not found because none of the following families were found: Latin Modern Roman\n"
     ]
    },
    {
     "name": "stderr",
     "output_type": "stream",
     "text": [
      "findfont: Generic family 'serif' not found because none of the following families were found: Latin Modern Roman\n"
     ]
    },
    {
     "name": "stderr",
     "output_type": "stream",
     "text": [
      "findfont: Generic family 'serif' not found because none of the following families were found: Latin Modern Roman\n"
     ]
    },
    {
     "name": "stderr",
     "output_type": "stream",
     "text": [
      "findfont: Generic family 'serif' not found because none of the following families were found: Latin Modern Roman\n"
     ]
    },
    {
     "name": "stderr",
     "output_type": "stream",
     "text": [
      "findfont: Generic family 'serif' not found because none of the following families were found: Latin Modern Roman\n"
     ]
    },
    {
     "name": "stderr",
     "output_type": "stream",
     "text": [
      "findfont: Generic family 'serif' not found because none of the following families were found: Latin Modern Roman\n"
     ]
    },
    {
     "name": "stderr",
     "output_type": "stream",
     "text": [
      "findfont: Generic family 'serif' not found because none of the following families were found: Latin Modern Roman\n"
     ]
    },
    {
     "name": "stderr",
     "output_type": "stream",
     "text": [
      "findfont: Generic family 'serif' not found because none of the following families were found: Latin Modern Roman\n"
     ]
    },
    {
     "name": "stderr",
     "output_type": "stream",
     "text": [
      "findfont: Generic family 'serif' not found because none of the following families were found: Latin Modern Roman\n"
     ]
    },
    {
     "name": "stderr",
     "output_type": "stream",
     "text": [
      "findfont: Generic family 'serif' not found because none of the following families were found: Latin Modern Roman\n"
     ]
    },
    {
     "name": "stderr",
     "output_type": "stream",
     "text": [
      "findfont: Generic family 'serif' not found because none of the following families were found: Latin Modern Roman\n"
     ]
    },
    {
     "name": "stderr",
     "output_type": "stream",
     "text": [
      "findfont: Generic family 'serif' not found because none of the following families were found: Latin Modern Roman\n"
     ]
    },
    {
     "name": "stderr",
     "output_type": "stream",
     "text": [
      "findfont: Generic family 'serif' not found because none of the following families were found: Latin Modern Roman\n"
     ]
    },
    {
     "name": "stderr",
     "output_type": "stream",
     "text": [
      "findfont: Generic family 'serif' not found because none of the following families were found: Latin Modern Roman\n"
     ]
    },
    {
     "name": "stderr",
     "output_type": "stream",
     "text": [
      "findfont: Generic family 'serif' not found because none of the following families were found: Latin Modern Roman\n"
     ]
    },
    {
     "name": "stderr",
     "output_type": "stream",
     "text": [
      "findfont: Generic family 'serif' not found because none of the following families were found: Latin Modern Roman\n"
     ]
    },
    {
     "name": "stderr",
     "output_type": "stream",
     "text": [
      "findfont: Generic family 'serif' not found because none of the following families were found: Latin Modern Roman\n"
     ]
    },
    {
     "name": "stderr",
     "output_type": "stream",
     "text": [
      "findfont: Generic family 'serif' not found because none of the following families were found: Latin Modern Roman\n"
     ]
    },
    {
     "name": "stderr",
     "output_type": "stream",
     "text": [
      "findfont: Generic family 'serif' not found because none of the following families were found: Latin Modern Roman\n"
     ]
    },
    {
     "name": "stderr",
     "output_type": "stream",
     "text": [
      "findfont: Generic family 'serif' not found because none of the following families were found: Latin Modern Roman\n"
     ]
    },
    {
     "name": "stderr",
     "output_type": "stream",
     "text": [
      "findfont: Generic family 'serif' not found because none of the following families were found: Latin Modern Roman\n"
     ]
    },
    {
     "name": "stderr",
     "output_type": "stream",
     "text": [
      "findfont: Generic family 'serif' not found because none of the following families were found: Latin Modern Roman\n"
     ]
    },
    {
     "name": "stderr",
     "output_type": "stream",
     "text": [
      "findfont: Generic family 'serif' not found because none of the following families were found: Latin Modern Roman\n"
     ]
    },
    {
     "name": "stderr",
     "output_type": "stream",
     "text": [
      "findfont: Generic family 'serif' not found because none of the following families were found: Latin Modern Roman\n"
     ]
    },
    {
     "name": "stderr",
     "output_type": "stream",
     "text": [
      "findfont: Generic family 'serif' not found because none of the following families were found: Latin Modern Roman\n"
     ]
    },
    {
     "name": "stderr",
     "output_type": "stream",
     "text": [
      "findfont: Generic family 'serif' not found because none of the following families were found: Latin Modern Roman\n"
     ]
    },
    {
     "name": "stderr",
     "output_type": "stream",
     "text": [
      "findfont: Generic family 'serif' not found because none of the following families were found: Latin Modern Roman\n"
     ]
    },
    {
     "name": "stderr",
     "output_type": "stream",
     "text": [
      "findfont: Generic family 'serif' not found because none of the following families were found: Latin Modern Roman\n"
     ]
    },
    {
     "name": "stderr",
     "output_type": "stream",
     "text": [
      "findfont: Generic family 'serif' not found because none of the following families were found: Latin Modern Roman\n"
     ]
    },
    {
     "name": "stderr",
     "output_type": "stream",
     "text": [
      "findfont: Generic family 'serif' not found because none of the following families were found: Latin Modern Roman\n"
     ]
    },
    {
     "name": "stderr",
     "output_type": "stream",
     "text": [
      "findfont: Generic family 'serif' not found because none of the following families were found: Latin Modern Roman\n"
     ]
    },
    {
     "name": "stderr",
     "output_type": "stream",
     "text": [
      "findfont: Generic family 'serif' not found because none of the following families were found: Latin Modern Roman\n"
     ]
    },
    {
     "name": "stderr",
     "output_type": "stream",
     "text": [
      "findfont: Generic family 'serif' not found because none of the following families were found: Latin Modern Roman\n"
     ]
    },
    {
     "name": "stderr",
     "output_type": "stream",
     "text": [
      "findfont: Generic family 'serif' not found because none of the following families were found: Latin Modern Roman\n"
     ]
    },
    {
     "name": "stderr",
     "output_type": "stream",
     "text": [
      "findfont: Generic family 'serif' not found because none of the following families were found: Latin Modern Roman\n"
     ]
    },
    {
     "name": "stderr",
     "output_type": "stream",
     "text": [
      "findfont: Generic family 'serif' not found because none of the following families were found: Latin Modern Roman\n"
     ]
    },
    {
     "name": "stderr",
     "output_type": "stream",
     "text": [
      "findfont: Generic family 'serif' not found because none of the following families were found: Latin Modern Roman\n"
     ]
    },
    {
     "name": "stderr",
     "output_type": "stream",
     "text": [
      "findfont: Generic family 'serif' not found because none of the following families were found: Latin Modern Roman\n"
     ]
    },
    {
     "name": "stderr",
     "output_type": "stream",
     "text": [
      "findfont: Generic family 'serif' not found because none of the following families were found: Latin Modern Roman\n"
     ]
    },
    {
     "name": "stderr",
     "output_type": "stream",
     "text": [
      "findfont: Generic family 'serif' not found because none of the following families were found: Latin Modern Roman\n"
     ]
    },
    {
     "name": "stderr",
     "output_type": "stream",
     "text": [
      "findfont: Generic family 'serif' not found because none of the following families were found: Latin Modern Roman\n"
     ]
    },
    {
     "name": "stderr",
     "output_type": "stream",
     "text": [
      "findfont: Generic family 'serif' not found because none of the following families were found: Latin Modern Roman\n"
     ]
    },
    {
     "name": "stderr",
     "output_type": "stream",
     "text": [
      "findfont: Generic family 'serif' not found because none of the following families were found: Latin Modern Roman\n"
     ]
    },
    {
     "name": "stderr",
     "output_type": "stream",
     "text": [
      "findfont: Generic family 'serif' not found because none of the following families were found: Latin Modern Roman\n"
     ]
    },
    {
     "name": "stderr",
     "output_type": "stream",
     "text": [
      "findfont: Generic family 'serif' not found because none of the following families were found: Latin Modern Roman\n"
     ]
    },
    {
     "name": "stderr",
     "output_type": "stream",
     "text": [
      "findfont: Generic family 'serif' not found because none of the following families were found: Latin Modern Roman\n"
     ]
    },
    {
     "name": "stderr",
     "output_type": "stream",
     "text": [
      "findfont: Generic family 'serif' not found because none of the following families were found: Latin Modern Roman\n"
     ]
    },
    {
     "name": "stderr",
     "output_type": "stream",
     "text": [
      "findfont: Generic family 'serif' not found because none of the following families were found: Latin Modern Roman\n"
     ]
    },
    {
     "name": "stderr",
     "output_type": "stream",
     "text": [
      "findfont: Generic family 'serif' not found because none of the following families were found: Latin Modern Roman\n"
     ]
    },
    {
     "name": "stderr",
     "output_type": "stream",
     "text": [
      "findfont: Generic family 'serif' not found because none of the following families were found: Latin Modern Roman\n"
     ]
    },
    {
     "name": "stderr",
     "output_type": "stream",
     "text": [
      "findfont: Generic family 'serif' not found because none of the following families were found: Latin Modern Roman\n"
     ]
    },
    {
     "name": "stderr",
     "output_type": "stream",
     "text": [
      "findfont: Generic family 'serif' not found because none of the following families were found: Latin Modern Roman\n"
     ]
    },
    {
     "name": "stderr",
     "output_type": "stream",
     "text": [
      "findfont: Generic family 'serif' not found because none of the following families were found: Latin Modern Roman\n"
     ]
    },
    {
     "name": "stderr",
     "output_type": "stream",
     "text": [
      "findfont: Generic family 'serif' not found because none of the following families were found: Latin Modern Roman\n"
     ]
    },
    {
     "name": "stderr",
     "output_type": "stream",
     "text": [
      "findfont: Generic family 'serif' not found because none of the following families were found: Latin Modern Roman\n"
     ]
    },
    {
     "name": "stderr",
     "output_type": "stream",
     "text": [
      "findfont: Generic family 'serif' not found because none of the following families were found: Latin Modern Roman\n"
     ]
    },
    {
     "name": "stderr",
     "output_type": "stream",
     "text": [
      "findfont: Generic family 'serif' not found because none of the following families were found: Latin Modern Roman\n"
     ]
    },
    {
     "name": "stderr",
     "output_type": "stream",
     "text": [
      "findfont: Generic family 'serif' not found because none of the following families were found: Latin Modern Roman\n"
     ]
    },
    {
     "name": "stderr",
     "output_type": "stream",
     "text": [
      "findfont: Generic family 'serif' not found because none of the following families were found: Latin Modern Roman\n"
     ]
    },
    {
     "name": "stderr",
     "output_type": "stream",
     "text": [
      "findfont: Generic family 'serif' not found because none of the following families were found: Latin Modern Roman\n"
     ]
    },
    {
     "name": "stderr",
     "output_type": "stream",
     "text": [
      "findfont: Generic family 'serif' not found because none of the following families were found: Latin Modern Roman\n"
     ]
    },
    {
     "name": "stderr",
     "output_type": "stream",
     "text": [
      "findfont: Generic family 'serif' not found because none of the following families were found: Latin Modern Roman\n"
     ]
    },
    {
     "name": "stderr",
     "output_type": "stream",
     "text": [
      "findfont: Generic family 'serif' not found because none of the following families were found: Latin Modern Roman\n"
     ]
    },
    {
     "name": "stderr",
     "output_type": "stream",
     "text": [
      "findfont: Generic family 'serif' not found because none of the following families were found: Latin Modern Roman\n"
     ]
    },
    {
     "name": "stderr",
     "output_type": "stream",
     "text": [
      "findfont: Generic family 'serif' not found because none of the following families were found: Latin Modern Roman\n"
     ]
    },
    {
     "name": "stderr",
     "output_type": "stream",
     "text": [
      "findfont: Generic family 'serif' not found because none of the following families were found: Latin Modern Roman\n"
     ]
    },
    {
     "name": "stderr",
     "output_type": "stream",
     "text": [
      "findfont: Generic family 'serif' not found because none of the following families were found: Latin Modern Roman\n"
     ]
    },
    {
     "name": "stderr",
     "output_type": "stream",
     "text": [
      "findfont: Generic family 'serif' not found because none of the following families were found: Latin Modern Roman\n"
     ]
    },
    {
     "name": "stderr",
     "output_type": "stream",
     "text": [
      "findfont: Generic family 'serif' not found because none of the following families were found: Latin Modern Roman\n"
     ]
    },
    {
     "name": "stderr",
     "output_type": "stream",
     "text": [
      "findfont: Generic family 'serif' not found because none of the following families were found: Latin Modern Roman\n"
     ]
    },
    {
     "name": "stderr",
     "output_type": "stream",
     "text": [
      "findfont: Generic family 'serif' not found because none of the following families were found: Latin Modern Roman\n"
     ]
    },
    {
     "name": "stderr",
     "output_type": "stream",
     "text": [
      "findfont: Generic family 'serif' not found because none of the following families were found: Latin Modern Roman\n"
     ]
    },
    {
     "name": "stderr",
     "output_type": "stream",
     "text": [
      "findfont: Generic family 'serif' not found because none of the following families were found: Latin Modern Roman\n"
     ]
    },
    {
     "name": "stderr",
     "output_type": "stream",
     "text": [
      "findfont: Generic family 'serif' not found because none of the following families were found: Latin Modern Roman\n"
     ]
    },
    {
     "data": {
      "image/png": "[encoded data removed]",
      "text/plain": [
       "<Figure size 672x480 with 1 Axes>"
      ]
     },
     "metadata": {
      "image/png": {
       "height": 418,
       "width": 579
      }
     },
     "output_type": "display_data"
    }
   ],
   "source": [
    "plt.plot(eucalyptus.circ, eucalyptus.ht, '+k')\n",
    "plt.ylabel('ht') ; plt.xlabel('circ')\n",
    "plt.plot(grille.circ,  prev, '-', label=\"E(Y)\", lw=1)\n",
    "lesic, = plt.plot(grille.circ, ICdte[:, 0], 'r--', label=r\"IC $\\mathbb{E}(Y)$\", lw=1)\n",
    "plt.plot(grille.circ, ICdte[:, 1], 'r--', lw=1)\n",
    "plt.legend(handles=[lesic], loc='lower right')"
   ]
  },
  {
   "cell_type": "code",
   "execution_count": 14,
   "id": "4260e105",
   "metadata": {},
   "outputs": [
    {
     "data": {
      "text/plain": [
       "<matplotlib.legend.Legend at 0x134d0e330>"
      ]
     },
     "execution_count": 13,
     "metadata": {},
     "output_type": "execute_result"
    },
    {
     "name": "stderr",
     "output_type": "stream",
     "text": [
      "findfont: Generic family 'serif' not found because none of the following families were found: Latin Modern Roman\n"
     ]
    },
    {
     "name": "stderr",
     "output_type": "stream",
     "text": [
      "findfont: Generic family 'serif' not found because none of the following families were found: Latin Modern Roman\n"
     ]
    },
    {
     "name": "stderr",
     "output_type": "stream",
     "text": [
      "findfont: Generic family 'serif' not found because none of the following families were found: Latin Modern Roman\n"
     ]
    },
    {
     "name": "stderr",
     "output_type": "stream",
     "text": [
      "findfont: Generic family 'serif' not found because none of the following families were found: Latin Modern Roman\n"
     ]
    },
    {
     "name": "stderr",
     "output_type": "stream",
     "text": [
      "findfont: Generic family 'serif' not found because none of the following families were found: Latin Modern Roman\n"
     ]
    },
    {
     "name": "stderr",
     "output_type": "stream",
     "text": [
      "findfont: Generic family 'serif' not found because none of the following families were found: Latin Modern Roman\n"
     ]
    },
    {
     "name": "stderr",
     "output_type": "stream",
     "text": [
      "findfont: Generic family 'serif' not found because none of the following families were found: Latin Modern Roman\n"
     ]
    },
    {
     "name": "stderr",
     "output_type": "stream",
     "text": [
      "findfont: Generic family 'serif' not found because none of the following families were found: Latin Modern Roman\n"
     ]
    },
    {
     "name": "stderr",
     "output_type": "stream",
     "text": [
      "findfont: Generic family 'serif' not found because none of the following families were found: Latin Modern Roman\n"
     ]
    },
    {
     "name": "stderr",
     "output_type": "stream",
     "text": [
      "findfont: Generic family 'serif' not found because none of the following families were found: Latin Modern Roman\n"
     ]
    },
    {
     "name": "stderr",
     "output_type": "stream",
     "text": [
      "findfont: Generic family 'serif' not found because none of the following families were found: Latin Modern Roman\n"
     ]
    },
    {
     "name": "stderr",
     "output_type": "stream",
     "text": [
      "findfont: Generic family 'serif' not found because none of the following families were found: Latin Modern Roman\n"
     ]
    },
    {
     "name": "stderr",
     "output_type": "stream",
     "text": [
      "findfont: Generic family 'serif' not found because none of the following families were found: Latin Modern Roman\n"
     ]
    },
    {
     "name": "stderr",
     "output_type": "stream",
     "text": [
      "findfont: Generic family 'serif' not found because none of the following families were found: Latin Modern Roman\n"
     ]
    },
    {
     "name": "stderr",
     "output_type": "stream",
     "text": [
      "findfont: Generic family 'serif' not found because none of the following families were found: Latin Modern Roman\n"
     ]
    },
    {
     "name": "stderr",
     "output_type": "stream",
     "text": [
      "findfont: Generic family 'serif' not found because none of the following families were found: Latin Modern Roman\n"
     ]
    },
    {
     "name": "stderr",
     "output_type": "stream",
     "text": [
      "findfont: Generic family 'serif' not found because none of the following families were found: Latin Modern Roman\n"
     ]
    },
    {
     "name": "stderr",
     "output_type": "stream",
     "text": [
      "findfont: Generic family 'serif' not found because none of the following families were found: Latin Modern Roman\n"
     ]
    },
    {
     "name": "stderr",
     "output_type": "stream",
     "text": [
      "findfont: Generic family 'serif' not found because none of the following families were found: Latin Modern Roman\n"
     ]
    },
    {
     "name": "stderr",
     "output_type": "stream",
     "text": [
      "findfont: Generic family 'serif' not found because none of the following families were found: Latin Modern Roman\n"
     ]
    },
    {
     "name": "stderr",
     "output_type": "stream",
     "text": [
      "findfont: Generic family 'serif' not found because none of the following families were found: Latin Modern Roman\n"
     ]
    },
    {
     "name": "stderr",
     "output_type": "stream",
     "text": [
      "findfont: Generic family 'serif' not found because none of the following families were found: Latin Modern Roman\n"
     ]
    },
    {
     "name": "stderr",
     "output_type": "stream",
     "text": [
      "findfont: Generic family 'serif' not found because none of the following families were found: Latin Modern Roman\n"
     ]
    },
    {
     "name": "stderr",
     "output_type": "stream",
     "text": [
      "findfont: Generic family 'serif' not found because none of the following families were found: Latin Modern Roman\n"
     ]
    },
    {
     "name": "stderr",
     "output_type": "stream",
     "text": [
      "findfont: Generic family 'serif' not found because none of the following families were found: Latin Modern Roman\n"
     ]
    },
    {
     "name": "stderr",
     "output_type": "stream",
     "text": [
      "findfont: Generic family 'serif' not found because none of the following families were found: Latin Modern Roman\n"
     ]
    },
    {
     "name": "stderr",
     "output_type": "stream",
     "text": [
      "findfont: Generic family 'serif' not found because none of the following families were found: Latin Modern Roman\n"
     ]
    },
    {
     "name": "stderr",
     "output_type": "stream",
     "text": [
      "findfont: Generic family 'serif' not found because none of the following families were found: Latin Modern Roman\n"
     ]
    },
    {
     "name": "stderr",
     "output_type": "stream",
     "text": [
      "findfont: Generic family 'serif' not found because none of the following families were found: Latin Modern Roman\n"
     ]
    },
    {
     "name": "stderr",
     "output_type": "stream",
     "text": [
      "findfont: Generic family 'serif' not found because none of the following families were found: Latin Modern Roman\n"
     ]
    },
    {
     "name": "stderr",
     "output_type": "stream",
     "text": [
      "findfont: Generic family 'serif' not found because none of the following families were found: Latin Modern Roman\n"
     ]
    },
    {
     "name": "stderr",
     "output_type": "stream",
     "text": [
      "findfont: Generic family 'serif' not found because none of the following families were found: Latin Modern Roman\n"
     ]
    },
    {
     "name": "stderr",
     "output_type": "stream",
     "text": [
      "findfont: Generic family 'serif' not found because none of the following families were found: Latin Modern Roman\n"
     ]
    },
    {
     "name": "stderr",
     "output_type": "stream",
     "text": [
      "findfont: Generic family 'serif' not found because none of the following families were found: Latin Modern Roman\n"
     ]
    },
    {
     "name": "stderr",
     "output_type": "stream",
     "text": [
      "findfont: Generic family 'serif' not found because none of the following families were found: Latin Modern Roman\n"
     ]
    },
    {
     "name": "stderr",
     "output_type": "stream",
     "text": [
      "findfont: Generic family 'serif' not found because none of the following families were found: Latin Modern Roman\n"
     ]
    },
    {
     "name": "stderr",
     "output_type": "stream",
     "text": [
      "findfont: Generic family 'serif' not found because none of the following families were found: Latin Modern Roman\n"
     ]
    },
    {
     "name": "stderr",
     "output_type": "stream",
     "text": [
      "findfont: Generic family 'serif' not found because none of the following families were found: Latin Modern Roman\n"
     ]
    },
    {
     "name": "stderr",
     "output_type": "stream",
     "text": [
      "findfont: Generic family 'serif' not found because none of the following families were found: Latin Modern Roman\n"
     ]
    },
    {
     "name": "stderr",
     "output_type": "stream",
     "text": [
      "findfont: Generic family 'serif' not found because none of the following families were found: Latin Modern Roman\n"
     ]
    },
    {
     "name": "stderr",
     "output_type": "stream",
     "text": [
      "findfont: Generic family 'serif' not found because none of the following families were found: Latin Modern Roman\n"
     ]
    },
    {
     "name": "stderr",
     "output_type": "stream",
     "text": [
      "findfont: Generic family 'serif' not found because none of the following families were found: Latin Modern Roman\n"
     ]
    },
    {
     "name": "stderr",
     "output_type": "stream",
     "text": [
      "findfont: Generic family 'serif' not found because none of the following families were found: Latin Modern Roman\n"
     ]
    },
    {
     "name": "stderr",
     "output_type": "stream",
     "text": [
      "findfont: Generic family 'serif' not found because none of the following families were found: Latin Modern Roman\n"
     ]
    },
    {
     "name": "stderr",
     "output_type": "stream",
     "text": [
      "findfont: Generic family 'serif' not found because none of the following families were found: Latin Modern Roman\n"
     ]
    },
    {
     "name": "stderr",
     "output_type": "stream",
     "text": [
      "findfont: Generic family 'serif' not found because none of the following families were found: Latin Modern Roman\n"
     ]
    },
    {
     "name": "stderr",
     "output_type": "stream",
     "text": [
      "findfont: Generic family 'serif' not found because none of the following families were found: Latin Modern Roman\n"
     ]
    },
    {
     "name": "stderr",
     "output_type": "stream",
     "text": [
      "findfont: Generic family 'serif' not found because none of the following families were found: Latin Modern Roman\n"
     ]
    },
    {
     "name": "stderr",
     "output_type": "stream",
     "text": [
      "findfont: Generic family 'serif' not found because none of the following families were found: Latin Modern Roman\n"
     ]
    },
    {
     "name": "stderr",
     "output_type": "stream",
     "text": [
      "findfont: Generic family 'serif' not found because none of the following families were found: Latin Modern Roman\n"
     ]
    },
    {
     "name": "stderr",
     "output_type": "stream",
     "text": [
      "findfont: Generic family 'serif' not found because none of the following families were found: Latin Modern Roman\n"
     ]
    },
    {
     "name": "stderr",
     "output_type": "stream",
     "text": [
      "findfont: Generic family 'serif' not found because none of the following families were found: Latin Modern Roman\n"
     ]
    },
    {
     "name": "stderr",
     "output_type": "stream",
     "text": [
      "findfont: Generic family 'serif' not found because none of the following families were found: Latin Modern Roman\n"
     ]
    },
    {
     "name": "stderr",
     "output_type": "stream",
     "text": [
      "findfont: Generic family 'serif' not found because none of the following families were found: Latin Modern Roman\n"
     ]
    },
    {
     "name": "stderr",
     "output_type": "stream",
     "text": [
      "findfont: Generic family 'serif' not found because none of the following families were found: Latin Modern Roman\n"
     ]
    },
    {
     "name": "stderr",
     "output_type": "stream",
     "text": [
      "findfont: Generic family 'serif' not found because none of the following families were found: Latin Modern Roman\n"
     ]
    },
    {
     "name": "stderr",
     "output_type": "stream",
     "text": [
      "findfont: Generic family 'serif' not found because none of the following families were found: Latin Modern Roman\n"
     ]
    },
    {
     "name": "stderr",
     "output_type": "stream",
     "text": [
      "findfont: Generic family 'serif' not found because none of the following families were found: Latin Modern Roman\n"
     ]
    },
    {
     "name": "stderr",
     "output_type": "stream",
     "text": [
      "findfont: Generic family 'serif' not found because none of the following families were found: Latin Modern Roman\n"
     ]
    },
    {
     "name": "stderr",
     "output_type": "stream",
     "text": [
      "findfont: Generic family 'serif' not found because none of the following families were found: Latin Modern Roman\n"
     ]
    },
    {
     "name": "stderr",
     "output_type": "stream",
     "text": [
      "findfont: Generic family 'serif' not found because none of the following families were found: Latin Modern Roman\n"
     ]
    },
    {
     "name": "stderr",
     "output_type": "stream",
     "text": [
      "findfont: Generic family 'serif' not found because none of the following families were found: Latin Modern Roman\n"
     ]
    },
    {
     "name": "stderr",
     "output_type": "stream",
     "text": [
      "findfont: Generic family 'serif' not found because none of the following families were found: Latin Modern Roman\n"
     ]
    },
    {
     "name": "stderr",
     "output_type": "stream",
     "text": [
      "findfont: Generic family 'serif' not found because none of the following families were found: Latin Modern Roman\n"
     ]
    },
    {
     "name": "stderr",
     "output_type": "stream",
     "text": [
      "findfont: Generic family 'serif' not found because none of the following families were found: Latin Modern Roman\n"
     ]
    },
    {
     "name": "stderr",
     "output_type": "stream",
     "text": [
      "findfont: Generic family 'serif' not found because none of the following families were found: Latin Modern Roman\n"
     ]
    },
    {
     "name": "stderr",
     "output_type": "stream",
     "text": [
      "findfont: Generic family 'serif' not found because none of the following families were found: Latin Modern Roman\n"
     ]
    },
    {
     "name": "stderr",
     "output_type": "stream",
     "text": [
      "findfont: Generic family 'serif' not found because none of the following families were found: Latin Modern Roman\n"
     ]
    },
    {
     "name": "stderr",
     "output_type": "stream",
     "text": [
      "findfont: Generic family 'serif' not found because none of the following families were found: Latin Modern Roman\n"
     ]
    },
    {
     "name": "stderr",
     "output_type": "stream",
     "text": [
      "findfont: Generic family 'serif' not found because none of the following families were found: Latin Modern Roman\n"
     ]
    },
    {
     "name": "stderr",
     "output_type": "stream",
     "text": [
      "findfont: Generic family 'serif' not found because none of the following families were found: Latin Modern Roman\n"
     ]
    },
    {
     "name": "stderr",
     "output_type": "stream",
     "text": [
      "findfont: Generic family 'serif' not found because none of the following families were found: Latin Modern Roman\n"
     ]
    },
    {
     "name": "stderr",
     "output_type": "stream",
     "text": [
      "findfont: Generic family 'serif' not found because none of the following families were found: Latin Modern Roman\n"
     ]
    },
    {
     "name": "stderr",
     "output_type": "stream",
     "text": [
      "findfont: Generic family 'serif' not found because none of the following families were found: Latin Modern Roman\n"
     ]
    },
    {
     "name": "stderr",
     "output_type": "stream",
     "text": [
      "findfont: Generic family 'serif' not found because none of the following families were found: Latin Modern Roman\n"
     ]
    },
    {
     "name": "stderr",
     "output_type": "stream",
     "text": [
      "findfont: Generic family 'serif' not found because none of the following families were found: Latin Modern Roman\n"
     ]
    },
    {
     "name": "stderr",
     "output_type": "stream",
     "text": [
      "findfont: Generic family 'serif' not found because none of the following families were found: Latin Modern Roman\n"
     ]
    },
    {
     "name": "stderr",
     "output_type": "stream",
     "text": [
      "findfont: Generic family 'serif' not found because none of the following families were found: Latin Modern Roman\n"
     ]
    },
    {
     "name": "stderr",
     "output_type": "stream",
     "text": [
      "findfont: Generic family 'serif' not found because none of the following families were found: Latin Modern Roman\n"
     ]
    },
    {
     "name": "stderr",
     "output_type": "stream",
     "text": [
      "findfont: Generic family 'serif' not found because none of the following families were found: Latin Modern Roman\n"
     ]
    },
    {
     "name": "stderr",
     "output_type": "stream",
     "text": [
      "findfont: Generic family 'serif' not found because none of the following families were found: Latin Modern Roman\n"
     ]
    },
    {
     "name": "stderr",
     "output_type": "stream",
     "text": [
      "findfont: Generic family 'serif' not found because none of the following families were found: Latin Modern Roman\n"
     ]
    },
    {
     "name": "stderr",
     "output_type": "stream",
     "text": [
      "findfont: Generic family 'serif' not found because none of the following families were found: Latin Modern Roman\n"
     ]
    },
    {
     "name": "stderr",
     "output_type": "stream",
     "text": [
      "findfont: Generic family 'serif' not found because none of the following families were found: Latin Modern Roman\n"
     ]
    },
    {
     "name": "stderr",
     "output_type": "stream",
     "text": [
      "findfont: Generic family 'serif' not found because none of the following families were found: Latin Modern Roman\n"
     ]
    },
    {
     "name": "stderr",
     "output_type": "stream",
     "text": [
      "findfont: Generic family 'serif' not found because none of the following families were found: Latin Modern Roman\n"
     ]
    },
    {
     "name": "stderr",
     "output_type": "stream",
     "text": [
      "findfont: Generic family 'serif' not found because none of the following families were found: Latin Modern Roman\n"
     ]
    },
    {
     "name": "stderr",
     "output_type": "stream",
     "text": [
      "findfont: Generic family 'serif' not found because none of the following families were found: Latin Modern Roman\n"
     ]
    },
    {
     "name": "stderr",
     "output_type": "stream",
     "text": [
      "findfont: Generic family 'serif' not found because none of the following families were found: Latin Modern Roman\n"
     ]
    },
    {
     "name": "stderr",
     "output_type": "stream",
     "text": [
      "findfont: Generic family 'serif' not found because none of the following families were found: Latin Modern Roman\n"
     ]
    },
    {
     "name": "stderr",
     "output_type": "stream",
     "text": [
      "findfont: Generic family 'serif' not found because none of the following families were found: Latin Modern Roman\n"
     ]
    },
    {
     "name": "stderr",
     "output_type": "stream",
     "text": [
      "findfont: Generic family 'serif' not found because none of the following families were found: Latin Modern Roman\n"
     ]
    },
    {
     "name": "stderr",
     "output_type": "stream",
     "text": [
      "findfont: Generic family 'serif' not found because none of the following families were found: Latin Modern Roman\n"
     ]
    },
    {
     "name": "stderr",
     "output_type": "stream",
     "text": [
      "findfont: Generic family 'serif' not found because none of the following families were found: Latin Modern Roman\n"
     ]
    },
    {
     "name": "stderr",
     "output_type": "stream",
     "text": [
      "findfont: Generic family 'serif' not found because none of the following families were found: Latin Modern Roman\n"
     ]
    },
    {
     "name": "stderr",
     "output_type": "stream",
     "text": [
      "findfont: Generic family 'serif' not found because none of the following families were found: Latin Modern Roman\n"
     ]
    },
    {
     "name": "stderr",
     "output_type": "stream",
     "text": [
      "findfont: Generic family 'serif' not found because none of the following families were found: Latin Modern Roman\n"
     ]
    },
    {
     "name": "stderr",
     "output_type": "stream",
     "text": [
      "findfont: Generic family 'serif' not found because none of the following families were found: Latin Modern Roman\n"
     ]
    },
    {
     "name": "stderr",
     "output_type": "stream",
     "text": [
      "findfont: Generic family 'serif' not found because none of the following families were found: Latin Modern Roman\n"
     ]
    },
    {
     "name": "stderr",
     "output_type": "stream",
     "text": [
      "findfont: Generic family 'serif' not found because none of the following families were found: Latin Modern Roman\n"
     ]
    },
    {
     "name": "stderr",
     "output_type": "stream",
     "text": [
      "findfont: Generic family 'serif' not found because none of the following families were found: Latin Modern Roman\n"
     ]
    },
    {
     "name": "stderr",
     "output_type": "stream",
     "text": [
      "findfont: Generic family 'serif' not found because none of the following families were found: Latin Modern Roman\n"
     ]
    },
    {
     "name": "stderr",
     "output_type": "stream",
     "text": [
      "findfont: Generic family 'serif' not found because none of the following families were found: Latin Modern Roman\n"
     ]
    },
    {
     "name": "stderr",
     "output_type": "stream",
     "text": [
      "findfont: Generic family 'serif' not found because none of the following families were found: Latin Modern Roman\n"
     ]
    },
    {
     "name": "stderr",
     "output_type": "stream",
     "text": [
      "findfont: Generic family 'serif' not found because none of the following families were found: Latin Modern Roman\n"
     ]
    },
    {
     "name": "stderr",
     "output_type": "stream",
     "text": [
      "findfont: Generic family 'serif' not found because none of the following families were found: Latin Modern Roman\n"
     ]
    },
    {
     "name": "stderr",
     "output_type": "stream",
     "text": [
      "findfont: Generic family 'serif' not found because none of the following families were found: Latin Modern Roman\n"
     ]
    },
    {
     "name": "stderr",
     "output_type": "stream",
     "text": [
      "findfont: Generic family 'serif' not found because none of the following families were found: Latin Modern Roman\n"
     ]
    },
    {
     "name": "stderr",
     "output_type": "stream",
     "text": [
      "findfont: Generic family 'serif' not found because none of the following families were found: Latin Modern Roman\n"
     ]
    },
    {
     "name": "stderr",
     "output_type": "stream",
     "text": [
      "findfont: Generic family 'serif' not found because none of the following families were found: Latin Modern Roman\n"
     ]
    },
    {
     "data": {
      "image/png": "[encoded data removed]",
      "text/plain": [
       "<Figure size 672x480 with 1 Axes>"
      ]
     },
     "metadata": {
      "image/png": {
       "height": 418,
       "width": 579
      }
     },
     "output_type": "display_data"
    }
   ],
   "source": [
    "plt.plot(eucalyptus.circ, eucalyptus.ht, '+k')\n",
    "plt.ylabel('ht') ; plt.xlabel('circ')\n",
    "plt.plot(grille.circ,  prev, '-', label=\"E(Y)\", lw=1)\n",
    "lesic, = plt.plot(grille.circ, ICdte[:, 0], 'r--', label=r\"IC $\\mathbb{E}(Y)$\", lw=1)\n",
    "plt.plot(grille.circ, ICdte[:, 1], 'r--', lw=1)\n",
    "lesic2, = plt.plot(grille.circ, ICprev[:, 0], 'g:', label=r\"IC $Y$\", lw=1)\n",
    "plt.plot(grille.circ, ICprev[:, 1],'g:', lw=1)\n",
    "plt.legend(handles=[lesic, lesic2], loc='lower right')"
   ]
  }
 ],
 "metadata": {
  "kernelspec": {
   "display_name": "Python 3 (ipykernel)",
   "language": "python",
   "name": "python3",
   "path": "/usr/local/share/jupyter/kernels/python3"
  },
  "language_info": {
   "codemirror_mode": {
    "name": "ipython",
    "version": 3
   },
   "file_extension": ".py",
   "mimetype": "text/x-python",
   "name": "python",
   "nbconvert_exporter": "python",
   "pygments_lexer": "ipython3",
   "version": "3.12.7"
  }
 },
 "nbformat": 4,
 "nbformat_minor": 5
}